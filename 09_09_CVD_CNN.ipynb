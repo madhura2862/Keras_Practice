{
  "nbformat": 4,
  "nbformat_minor": 0,
  "metadata": {
    "colab": {
      "provenance": [],
      "collapsed_sections": []
    },
    "kernelspec": {
      "name": "python3",
      "display_name": "Python 3"
    },
    "language_info": {
      "name": "python"
    },
    "accelerator": "GPU",
    "gpuClass": "standard"
  },
  "cells": [
    {
      "cell_type": "code",
      "execution_count": 1,
      "metadata": {
        "id": "LVz1UK6gAjZG"
      },
      "outputs": [],
      "source": [
        "import numpy as np\n",
        "import pandas as pd\n",
        "import cv2\n",
        "import os\n",
        "import PIL\n",
        "\n",
        "import pathlib\n",
        "from sklearn.model_selection import train_test_split\n",
        "import tensorflow as tf\n",
        "from tensorflow import keras\n",
        "from tensorflow.keras.models import Sequential\n",
        "from tensorflow.keras.layers import Conv2D,Dense,Dropout, Flatten,Activation, BatchNormalization,MaxPooling2D\n",
        "from tensorflow.keras import datasets, layers, models\n",
        "from keras.preprocessing.image import load_img\n",
        "from keras.preprocessing.image import img_to_array"
      ]
    },
    {
      "cell_type": "code",
      "execution_count": null,
      "metadata": {
        "id": "tS4AuogZtv3-"
      },
      "outputs": [],
      "source": [
        "!unzip /content/drive/MyDrive/DL_CNN.zip"
      ]
    },
    {
      "cell_type": "code",
      "execution_count": 3,
      "metadata": {
        "id": "ty9_E6jyAQHx",
        "colab": {
          "base_uri": "https://localhost:8080/"
        },
        "outputId": "38c232b8-b20c-44c0-e440-29ea27aa951d"
      },
      "outputs": [
        {
          "output_type": "stream",
          "name": "stdout",
          "text": [
            "/content/DL_CNN\n"
          ]
        }
      ],
      "source": [
        "data_dir = (\"/content/DL_CNN\")\n",
        "print(data_dir)"
      ]
    },
    {
      "cell_type": "code",
      "execution_count": 4,
      "metadata": {
        "id": "K5N66huLTf8Q",
        "colab": {
          "base_uri": "https://localhost:8080/"
        },
        "outputId": "5ab7c772-0de9-4520-824f-5fab3a21ab3a"
      },
      "outputs": [
        {
          "output_type": "stream",
          "name": "stdout",
          "text": [
            "/content/DL_CNN\n"
          ]
        },
        {
          "output_type": "execute_result",
          "data": {
            "text/plain": [
              "[PosixPath('/content/DL_CNN/Dog/4178.jpg'),\n",
              " PosixPath('/content/DL_CNN/Dog/7539.jpg'),\n",
              " PosixPath('/content/DL_CNN/Dog/1734.jpg'),\n",
              " PosixPath('/content/DL_CNN/Dog/11634.jpg'),\n",
              " PosixPath('/content/DL_CNN/Dog/2842.jpg')]"
            ]
          },
          "metadata": {},
          "execution_count": 4
        }
      ],
      "source": [
        "data_dir = pathlib.Path(\"/content/DL_CNN\")\n",
        "print(data_dir)\n",
        "list(data_dir.glob('*/*.jpg'))[:5]"
      ]
    },
    {
      "cell_type": "code",
      "execution_count": 5,
      "metadata": {
        "id": "I__XrirfTrB3",
        "colab": {
          "base_uri": "https://localhost:8080/"
        },
        "outputId": "d3ae0450-8f64-4042-fc9a-867549a1fd7b"
      },
      "outputs": [
        {
          "output_type": "execute_result",
          "data": {
            "text/plain": [
              "[PosixPath('/content/DL_CNN/Dog/4178.jpg'),\n",
              " PosixPath('/content/DL_CNN/Dog/7539.jpg'),\n",
              " PosixPath('/content/DL_CNN/Dog/1734.jpg'),\n",
              " PosixPath('/content/DL_CNN/Dog/11634.jpg'),\n",
              " PosixPath('/content/DL_CNN/Dog/2842.jpg')]"
            ]
          },
          "metadata": {},
          "execution_count": 5
        }
      ],
      "source": [
        "dogs = list(data_dir.glob('Dog/*'))\n",
        "dogs[:5]"
      ]
    },
    {
      "cell_type": "code",
      "execution_count": 6,
      "metadata": {
        "id": "7lTVpVY7Ttp-",
        "colab": {
          "base_uri": "https://localhost:8080/"
        },
        "outputId": "fed35880-9199-4ecd-c5c4-e80d72dff258"
      },
      "outputs": [
        {
          "output_type": "execute_result",
          "data": {
            "text/plain": [
              "[PosixPath('/content/DL_CNN/Cat/165.jpg'),\n",
              " PosixPath('/content/DL_CNN/Cat/2970.jpg'),\n",
              " PosixPath('/content/DL_CNN/Cat/4178.jpg'),\n",
              " PosixPath('/content/DL_CNN/Cat/8286.jpg'),\n",
              " PosixPath('/content/DL_CNN/Cat/7539.jpg')]"
            ]
          },
          "metadata": {},
          "execution_count": 6
        }
      ],
      "source": [
        "cats = list(data_dir.glob('Cat/*'))\n",
        "cats[:5]"
      ]
    },
    {
      "cell_type": "code",
      "execution_count": 7,
      "metadata": {
        "id": "kfhTbnRrBDlF",
        "colab": {
          "base_uri": "https://localhost:8080/"
        },
        "outputId": "ab695b9c-f7ed-4015-cb73-f030a524fa8d"
      },
      "outputs": [
        {
          "output_type": "stream",
          "name": "stdout",
          "text": [
            "13638\n"
          ]
        }
      ],
      "source": [
        "image_count = len(list(data_dir.glob('*/*.jpg')))\n",
        "print(image_count)"
      ]
    },
    {
      "cell_type": "code",
      "execution_count": 8,
      "metadata": {
        "id": "CYLeElrQBYee"
      },
      "outputs": [],
      "source": [
        "X, Y = [], []"
      ]
    },
    {
      "cell_type": "code",
      "execution_count": null,
      "metadata": {
        "id": "MHqOiMMuBqG7"
      },
      "outputs": [],
      "source": [
        "PIL.Image.open(str(dogs[1]))"
      ]
    },
    {
      "cell_type": "code",
      "execution_count": 10,
      "metadata": {
        "id": "_7k0mbP4Ddau"
      },
      "outputs": [],
      "source": [
        "pet_images_dict = {\n",
        "    'cats': list(data_dir.glob('Cat/*')),\n",
        "    'dogs': list(data_dir.glob('Dog/*')),\n",
        "}\n",
        "\n",
        "pet_labels_dict = {\n",
        "    'cats': 0,\n",
        "    'dogs': 1,\n",
        "}"
      ]
    },
    {
      "cell_type": "code",
      "execution_count": 35,
      "metadata": {
        "colab": {
          "base_uri": "https://localhost:8080/"
        },
        "id": "CPxmp2CQT3Nn",
        "outputId": "20f3e428-1050-42c5-c12a-a216d2604ad3"
      },
      "outputs": [
        {
          "output_type": "stream",
          "name": "stdout",
          "text": [
            "cats\n",
            "dogs\n"
          ]
        }
      ],
      "source": [
        "IMAGE_WIDTH=100\n",
        "IMAGE_HEIGHT=100\n",
        "X, Y = [], []\n",
        "\n",
        "for pet_name, images in pet_images_dict.items():\n",
        "    print(pet_name)\n",
        "    for image in images:\n",
        "        img = cv2.imread(str(image))\n",
        "        if isinstance(img,type(None)): \n",
        "            #print('image not found')\n",
        "            continue\n",
        "            \n",
        "        elif ((img.shape[0] >= IMAGE_HEIGHT) and  (img.shape[1] >=IMAGE_WIDTH)):\n",
        "            resized_img = cv2.resize(img,(IMAGE_WIDTH,IMAGE_HEIGHT))\n",
        "            X.append(resized_img)\n",
        "            Y.append(pet_labels_dict[pet_name])\n",
        "        else:\n",
        "            #print(\"Invalid Image\")\n",
        "            continue"
      ]
    },
    {
      "cell_type": "code",
      "execution_count": 36,
      "metadata": {
        "id": "_y7QMrSADzk8"
      },
      "outputs": [],
      "source": [
        "X = np.array(X)\n",
        "Y = np.array(Y)"
      ]
    },
    {
      "cell_type": "code",
      "execution_count": 37,
      "metadata": {
        "colab": {
          "base_uri": "https://localhost:8080/"
        },
        "id": "P136Q-D7BP2M",
        "outputId": "a15accb5-8be5-48b9-978b-32acaa447319"
      },
      "outputs": [
        {
          "output_type": "stream",
          "name": "stdout",
          "text": [
            "10140 10140\n",
            "3381 3381\n",
            "(10140, 100, 100, 3)\n",
            "(10140,)\n",
            "(3381, 100, 100, 3)\n",
            "(3381,)\n"
          ]
        }
      ],
      "source": [
        "X_train, X_test, Y_train, Y_test = train_test_split(X, Y, random_state=0)\n",
        "print(len(X_train),len(Y_train))\n",
        "print(len(X_test),len(Y_test))\n",
        "print(X_train.shape)\n",
        "print(Y_train.shape)\n",
        "print(X_test.shape) \n",
        "print(Y_test.shape)"
      ]
    },
    {
      "cell_type": "code",
      "execution_count": 14,
      "metadata": {
        "colab": {
          "base_uri": "https://localhost:8080/"
        },
        "id": "LGO_UF9M4TQ5",
        "outputId": "8d7bb81f-c8c9-4383-aba7-b440c8deb28c"
      },
      "outputs": [
        {
          "output_type": "execute_result",
          "data": {
            "text/plain": [
              "3286"
            ]
          },
          "metadata": {},
          "execution_count": 14
        }
      ],
      "source": [
        "len(Y_test)"
      ]
    },
    {
      "cell_type": "code",
      "execution_count": 38,
      "metadata": {
        "id": "24fJdy48cw24"
      },
      "outputs": [],
      "source": [
        "from keras import layers\n",
        "from keras import models\n",
        "model = models.Sequential()\n",
        "model.add(layers.Conv2D(4, (3, 3), activation='relu',input_shape=(100, 100, 3)))\n",
        "model.add(layers.MaxPooling2D((2, 2)))\n",
        "model.add(layers.Conv2D(4, (3, 3), activation='relu'))\n",
        "model.add(layers.MaxPooling2D((2, 2)))\n",
        "model.add(layers.MaxPooling2D((2, 2)))\n",
        "model.add(layers.Flatten())\n",
        "model.add(layers.Dense(1, activation='sigmoid'))"
      ]
    },
    {
      "cell_type": "code",
      "execution_count": 39,
      "metadata": {
        "colab": {
          "base_uri": "https://localhost:8080/"
        },
        "id": "S2kvf3J7EI_D",
        "outputId": "8d96c6f9-d385-4747-c50b-b96f12d82290"
      },
      "outputs": [
        {
          "output_type": "stream",
          "name": "stdout",
          "text": [
            "Model: \"sequential_3\"\n",
            "_________________________________________________________________\n",
            " Layer (type)                Output Shape              Param #   \n",
            "=================================================================\n",
            " conv2d_7 (Conv2D)           (None, 98, 98, 4)         112       \n",
            "                                                                 \n",
            " max_pooling2d_8 (MaxPooling  (None, 49, 49, 4)        0         \n",
            " 2D)                                                             \n",
            "                                                                 \n",
            " conv2d_8 (Conv2D)           (None, 47, 47, 4)         148       \n",
            "                                                                 \n",
            " max_pooling2d_9 (MaxPooling  (None, 23, 23, 4)        0         \n",
            " 2D)                                                             \n",
            "                                                                 \n",
            " max_pooling2d_10 (MaxPoolin  (None, 11, 11, 4)        0         \n",
            " g2D)                                                            \n",
            "                                                                 \n",
            " flatten_3 (Flatten)         (None, 484)               0         \n",
            "                                                                 \n",
            " dense_3 (Dense)             (None, 1)                 485       \n",
            "                                                                 \n",
            "=================================================================\n",
            "Total params: 745\n",
            "Trainable params: 745\n",
            "Non-trainable params: 0\n",
            "_________________________________________________________________\n"
          ]
        }
      ],
      "source": [
        "model.summary()"
      ]
    },
    {
      "cell_type": "code",
      "execution_count": 40,
      "metadata": {
        "id": "zbCAshDlIpaq",
        "colab": {
          "base_uri": "https://localhost:8080/"
        },
        "outputId": "a86cd7da-d874-43b0-d34d-2d6bda0a0eaa"
      },
      "outputs": [
        {
          "output_type": "stream",
          "name": "stdout",
          "text": [
            "mkdir: cannot create directory ‘CNN-Model’: File exists\n"
          ]
        }
      ],
      "source": [
        "mkdir CNN-Model"
      ]
    },
    {
      "cell_type": "code",
      "execution_count": 41,
      "metadata": {
        "id": "MlA9ss3iIknC"
      },
      "outputs": [],
      "source": [
        "backup_dir = \"/content/CNN-Model\""
      ]
    },
    {
      "cell_type": "code",
      "execution_count": 42,
      "metadata": {
        "id": "wtT_0_ivEoHS"
      },
      "outputs": [],
      "source": [
        "import tensorflow as tf\n",
        "call_backs = [tf.keras.callbacks.TensorBoard(log_dir='./log'),\n",
        "              tf.keras.callbacks.BackupAndRestore(backup_dir),\n",
        "              tf.keras.callbacks.ModelCheckpoint(\"/content/CNN-Model\",monitor=\"val_loss\",save_best_only=True,save_weights_only=True,mode=\"auto\",save_freq=\"epoch\",\n",
        "    \n",
        ")]"
      ]
    },
    {
      "cell_type": "code",
      "source": [
        "model.compile(optimizer=\"adam\",\n",
        "              loss=tf.keras.losses.BinaryCrossentropy(),metrics=['accuracy'])\n",
        "history = model.fit(X_train, Y_train, epochs=15,validation_data=(X_test, Y_test),callbacks = call_backs)"
      ],
      "metadata": {
        "colab": {
          "base_uri": "https://localhost:8080/"
        },
        "id": "hlJLcqnpI003",
        "outputId": "02fe992f-4874-43ec-98de-fe23bfbf6e1a"
      },
      "execution_count": 43,
      "outputs": [
        {
          "output_type": "stream",
          "name": "stdout",
          "text": [
            "Epoch 1/15\n",
            "317/317 [==============================] - 3s 7ms/step - loss: 1.5595 - accuracy: 0.7760 - val_loss: 0.6023 - val_accuracy: 0.8128\n",
            "Epoch 2/15\n",
            "317/317 [==============================] - 2s 6ms/step - loss: 0.4992 - accuracy: 0.8735 - val_loss: 0.4450 - val_accuracy: 0.8991\n",
            "Epoch 3/15\n",
            "317/317 [==============================] - 2s 6ms/step - loss: 0.4072 - accuracy: 0.9084 - val_loss: 0.3974 - val_accuracy: 0.9130\n",
            "Epoch 4/15\n",
            "317/317 [==============================] - 2s 6ms/step - loss: 0.3630 - accuracy: 0.9141 - val_loss: 0.3649 - val_accuracy: 0.9160\n",
            "Epoch 5/15\n",
            "317/317 [==============================] - 2s 6ms/step - loss: 0.3384 - accuracy: 0.9157 - val_loss: 0.3381 - val_accuracy: 0.9184\n",
            "Epoch 6/15\n",
            "317/317 [==============================] - 2s 6ms/step - loss: 0.3225 - accuracy: 0.9158 - val_loss: 0.3235 - val_accuracy: 0.9181\n",
            "Epoch 7/15\n",
            "317/317 [==============================] - 2s 6ms/step - loss: 0.3104 - accuracy: 0.9159 - val_loss: 0.3156 - val_accuracy: 0.9181\n",
            "Epoch 8/15\n",
            "317/317 [==============================] - 2s 6ms/step - loss: 0.3022 - accuracy: 0.9158 - val_loss: 0.3097 - val_accuracy: 0.9181\n",
            "Epoch 9/15\n",
            "317/317 [==============================] - 2s 6ms/step - loss: 0.2948 - accuracy: 0.9160 - val_loss: 0.2976 - val_accuracy: 0.9181\n",
            "Epoch 10/15\n",
            "317/317 [==============================] - 2s 6ms/step - loss: 0.2907 - accuracy: 0.9158 - val_loss: 0.2958 - val_accuracy: 0.9175\n",
            "Epoch 11/15\n",
            "317/317 [==============================] - 2s 6ms/step - loss: 0.2870 - accuracy: 0.9157 - val_loss: 0.2912 - val_accuracy: 0.9181\n",
            "Epoch 12/15\n",
            "317/317 [==============================] - 2s 6ms/step - loss: 0.2858 - accuracy: 0.9157 - val_loss: 0.2871 - val_accuracy: 0.9178\n",
            "Epoch 13/15\n",
            "317/317 [==============================] - 2s 6ms/step - loss: 0.2811 - accuracy: 0.9159 - val_loss: 0.2866 - val_accuracy: 0.9169\n",
            "Epoch 14/15\n",
            "317/317 [==============================] - 2s 6ms/step - loss: 0.2796 - accuracy: 0.9162 - val_loss: 0.2937 - val_accuracy: 0.9175\n",
            "Epoch 15/15\n",
            "317/317 [==============================] - 2s 6ms/step - loss: 0.2788 - accuracy: 0.9162 - val_loss: 0.2824 - val_accuracy: 0.9187\n"
          ]
        }
      ]
    },
    {
      "cell_type": "code",
      "execution_count": 44,
      "metadata": {
        "id": "1EzsZmpvI8Sc"
      },
      "outputs": [],
      "source": [
        "model.save('cnn_catvsdog.h5')"
      ]
    },
    {
      "cell_type": "code",
      "execution_count": 45,
      "metadata": {
        "colab": {
          "base_uri": "https://localhost:8080/"
        },
        "id": "TXSVpaC4y2MH",
        "outputId": "ca124f6b-7a46-4b51-cf9f-b5b8ef0fdf47"
      },
      "outputs": [
        {
          "output_type": "stream",
          "name": "stdout",
          "text": [
            "106/106 [==============================] - 0s 3ms/step - loss: 0.2824 - accuracy: 0.9187\n"
          ]
        }
      ],
      "source": [
        "test_loss, test_acc = model.evaluate(X_test,  Y_test)"
      ]
    },
    {
      "cell_type": "code",
      "execution_count": 46,
      "metadata": {
        "colab": {
          "base_uri": "https://localhost:8080/"
        },
        "id": "wI-LDE2S4FhL",
        "outputId": "dc7d3c91-3275-41b1-d7c6-7fe02304169f"
      },
      "outputs": [
        {
          "output_type": "execute_result",
          "data": {
            "text/plain": [
              "91.86631441116333"
            ]
          },
          "metadata": {},
          "execution_count": 46
        }
      ],
      "source": [
        "test_acc*100"
      ]
    },
    {
      "cell_type": "code",
      "execution_count": 24,
      "metadata": {
        "id": "vswAi7fN16qd"
      },
      "outputs": [],
      "source": [
        "x = model.predict(X_test)"
      ]
    },
    {
      "cell_type": "code",
      "execution_count": null,
      "metadata": {
        "colab": {
          "base_uri": "https://localhost:8080/"
        },
        "id": "cgHRL3nf6rw7",
        "outputId": "0192319f-103e-4f8b-b44f-c3f1db0fea18"
      },
      "outputs": [
        {
          "output_type": "execute_result",
          "data": {
            "text/plain": [
              "array([[1.2786014e-01],\n",
              "       [7.4671054e-01],\n",
              "       [2.5316641e-07],\n",
              "       ...,\n",
              "       [6.4983493e-01],\n",
              "       [2.6352942e-02],\n",
              "       [3.5700354e-01]], dtype=float32)"
            ]
          },
          "metadata": {},
          "execution_count": 131
        }
      ],
      "source": [
        "x"
      ]
    },
    {
      "cell_type": "code",
      "execution_count": null,
      "metadata": {
        "colab": {
          "base_uri": "https://localhost:8080/"
        },
        "id": "549gwHJXlZ9z",
        "outputId": "519d329f-2fbe-4bef-cc06-9403739ceba8"
      },
      "outputs": [
        {
          "output_type": "execute_result",
          "data": {
            "text/plain": [
              "array([[0.12786005],\n",
              "       [0.7467105 ]], dtype=float32)"
            ]
          },
          "metadata": {},
          "execution_count": 132
        }
      ],
      "source": [
        "model.predict(X_test[:2])"
      ]
    },
    {
      "cell_type": "code",
      "execution_count": null,
      "metadata": {
        "colab": {
          "base_uri": "https://localhost:8080/"
        },
        "id": "S5LduTxv5qKY",
        "outputId": "0ee3991c-6dd5-4cbd-e627-5cfd9a0c8202"
      },
      "outputs": [
        {
          "output_type": "stream",
          "name": "stdout",
          "text": [
            "[0.19007336]\n"
          ]
        }
      ],
      "source": [
        "print(x[10])"
      ]
    },
    {
      "cell_type": "code",
      "execution_count": null,
      "metadata": {
        "colab": {
          "base_uri": "https://localhost:8080/"
        },
        "id": "bPoAQ3SA3j5o",
        "outputId": "b6c39eba-132b-480d-c668-5bbf1018a871"
      },
      "outputs": [
        {
          "output_type": "stream",
          "name": "stdout",
          "text": [
            "(3286, 1)\n"
          ]
        }
      ],
      "source": [
        "print(x.shape)"
      ]
    },
    {
      "cell_type": "code",
      "execution_count": null,
      "metadata": {
        "colab": {
          "base_uri": "https://localhost:8080/"
        },
        "id": "mrwIgtsd3n4V",
        "outputId": "e24f4365-66f6-4b00-fad1-042ef53351e3"
      },
      "outputs": [
        {
          "output_type": "execute_result",
          "data": {
            "text/plain": [
              "array([0.12786014], dtype=float32)"
            ]
          },
          "metadata": {},
          "execution_count": 135
        }
      ],
      "source": [
        "\n",
        "\n",
        "x[0]"
      ]
    },
    {
      "cell_type": "code",
      "execution_count": 47,
      "metadata": {
        "id": "NM4WtqFrJOQU",
        "colab": {
          "base_uri": "https://localhost:8080/"
        },
        "outputId": "4667ca60-0978-42b9-dd2d-7020b1a9bb28"
      },
      "outputs": [
        {
          "output_type": "stream",
          "name": "stdout",
          "text": [
            "The tensorboard extension is already loaded. To reload it, use:\n",
            "  %reload_ext tensorboard\n"
          ]
        }
      ],
      "source": [
        "%load_ext tensorboard"
      ]
    },
    {
      "cell_type": "code",
      "execution_count": 48,
      "metadata": {
        "id": "h1_Y9XMzy3UM"
      },
      "outputs": [],
      "source": [
        "\n",
        "import tensorflow as tf\n",
        "import datetime"
      ]
    },
    {
      "cell_type": "code",
      "execution_count": null,
      "metadata": {
        "id": "g9MdCdumzDwd"
      },
      "outputs": [],
      "source": [
        "%tensorboard --logdir log/fit"
      ]
    },
    {
      "cell_type": "code",
      "execution_count": 50,
      "metadata": {
        "colab": {
          "base_uri": "https://localhost:8080/"
        },
        "id": "EeH3EQypzKem",
        "outputId": "3277a3d7-5a83-4acb-a0c1-08ea381078ef"
      },
      "outputs": [
        {
          "output_type": "stream",
          "name": "stdout",
          "text": [
            "Known TensorBoard instances:\n",
            "  - port 6007: logdir log/fit (started 0:00:00 ago; pid 729)\n",
            "  - port 6006: logdir reduced7/fit (started 0:04:15 ago; pid 514)\n"
          ]
        }
      ],
      "source": [
        "from tensorboard import notebook\n",
        "notebook.list() # View open TensorBoard instances"
      ]
    },
    {
      "cell_type": "code",
      "execution_count": null,
      "metadata": {
        "id": "pHqMDEXOzLDC"
      },
      "outputs": [],
      "source": [
        "# Control TensorBoard display. If no port is provided, \n",
        "# the most recently launched TensorBoard is used\n",
        "notebook.display(port=6006, height=1000)"
      ]
    },
    {
      "cell_type": "code",
      "source": [
        "!tensorboard dev upload \\\n",
        "  --logdir log \\\n",
        "  --name \"CATVSDOG_CNN\" \\\n",
        "  --description \"TB\" \\\n",
        "  --one_shot"
      ],
      "metadata": {
        "colab": {
          "base_uri": "https://localhost:8080/"
        },
        "id": "rZ-8TItUvgoh",
        "outputId": "44850378-4d76-4ef8-b5e0-914d5aa52586"
      },
      "execution_count": 52,
      "outputs": [
        {
          "output_type": "stream",
          "name": "stdout",
          "text": [
            "\n",
            "New experiment created. View your TensorBoard at: https://tensorboard.dev/experiment/J16nPeOsQxG3iK6xYdqbqg/\n",
            "\n",
            "\u001b[1m[2022-09-09T06:13:22]\u001b[0m Started scanning logdir.\n",
            "\u001b[1m[2022-09-09T06:13:23]\u001b[0m Total uploaded: 90 scalars, 0 tensors, 1 binary objects (47.3 kB)\n",
            "\u001b[1m[2022-09-09T06:13:23]\u001b[0m Done scanning logdir.\n",
            "\n",
            "\n",
            "Done. View your TensorBoard at https://tensorboard.dev/experiment/J16nPeOsQxG3iK6xYdqbqg/\n"
          ]
        }
      ]
    },
    {
      "cell_type": "code",
      "source": [
        "cat_dir = (\"/content/drive/MyDrive/CAT\")"
      ],
      "metadata": {
        "id": "42Nn5NIay5_H"
      },
      "execution_count": null,
      "outputs": []
    },
    {
      "cell_type": "code",
      "source": [
        "cat_dir = pathlib.Path(\"/content/drive/MyDrive/CAT\")\n",
        "cat_dir"
      ],
      "metadata": {
        "colab": {
          "base_uri": "https://localhost:8080/"
        },
        "id": "UvVLpipgzLB8",
        "outputId": "3d0ab1bf-2545-42e5-9ab7-d7bbc843e532"
      },
      "execution_count": null,
      "outputs": [
        {
          "output_type": "execute_result",
          "data": {
            "text/plain": [
              "PosixPath('/content/drive/MyDrive/CAT')"
            ]
          },
          "metadata": {},
          "execution_count": 60
        }
      ]
    },
    {
      "cell_type": "code",
      "source": [
        " d = list(cat_dir.glob('*.jpg'))"
      ],
      "metadata": {
        "id": "-Vq2cj2LztUv"
      },
      "execution_count": null,
      "outputs": []
    },
    {
      "cell_type": "code",
      "source": [
        "dict = { 'c' : list(cat_dir.glob('*.jpg'))}\n"
      ],
      "metadata": {
        "id": "oYsCvvy62Eo-"
      },
      "execution_count": null,
      "outputs": []
    },
    {
      "cell_type": "code",
      "source": [
        "X_t = np.array(d)"
      ],
      "metadata": {
        "id": "GkLJYdzO2flS"
      },
      "execution_count": null,
      "outputs": []
    },
    {
      "cell_type": "code",
      "source": [
        "x = model.predict(X_t)"
      ],
      "metadata": {
        "colab": {
          "base_uri": "https://localhost:8080/",
          "height": 314
        },
        "id": "B-G1Zec4yYi-",
        "outputId": "8ea96eba-0eaa-4d60-c8f6-66c90d51ba77"
      },
      "execution_count": null,
      "outputs": [
        {
          "output_type": "error",
          "ename": "ValueError",
          "evalue": "ignored",
          "traceback": [
            "\u001b[0;31m---------------------------------------------------------------------------\u001b[0m",
            "\u001b[0;31mValueError\u001b[0m                                Traceback (most recent call last)",
            "\u001b[0;32m<ipython-input-83-64d25465eb5b>\u001b[0m in \u001b[0;36m<module>\u001b[0;34m\u001b[0m\n\u001b[0;32m----> 1\u001b[0;31m \u001b[0mx\u001b[0m \u001b[0;34m=\u001b[0m \u001b[0mmodel\u001b[0m\u001b[0;34m.\u001b[0m\u001b[0mpredict\u001b[0m\u001b[0;34m(\u001b[0m\u001b[0mX_t\u001b[0m\u001b[0;34m)\u001b[0m\u001b[0;34m\u001b[0m\u001b[0;34m\u001b[0m\u001b[0m\n\u001b[0m",
            "\u001b[0;32m/usr/local/lib/python3.7/dist-packages/keras/utils/traceback_utils.py\u001b[0m in \u001b[0;36merror_handler\u001b[0;34m(*args, **kwargs)\u001b[0m\n\u001b[1;32m     65\u001b[0m     \u001b[0;32mexcept\u001b[0m \u001b[0mException\u001b[0m \u001b[0;32mas\u001b[0m \u001b[0me\u001b[0m\u001b[0;34m:\u001b[0m  \u001b[0;31m# pylint: disable=broad-except\u001b[0m\u001b[0;34m\u001b[0m\u001b[0;34m\u001b[0m\u001b[0m\n\u001b[1;32m     66\u001b[0m       \u001b[0mfiltered_tb\u001b[0m \u001b[0;34m=\u001b[0m \u001b[0m_process_traceback_frames\u001b[0m\u001b[0;34m(\u001b[0m\u001b[0me\u001b[0m\u001b[0;34m.\u001b[0m\u001b[0m__traceback__\u001b[0m\u001b[0;34m)\u001b[0m\u001b[0;34m\u001b[0m\u001b[0;34m\u001b[0m\u001b[0m\n\u001b[0;32m---> 67\u001b[0;31m       \u001b[0;32mraise\u001b[0m \u001b[0me\u001b[0m\u001b[0;34m.\u001b[0m\u001b[0mwith_traceback\u001b[0m\u001b[0;34m(\u001b[0m\u001b[0mfiltered_tb\u001b[0m\u001b[0;34m)\u001b[0m \u001b[0;32mfrom\u001b[0m \u001b[0;32mNone\u001b[0m\u001b[0;34m\u001b[0m\u001b[0;34m\u001b[0m\u001b[0m\n\u001b[0m\u001b[1;32m     68\u001b[0m     \u001b[0;32mfinally\u001b[0m\u001b[0;34m:\u001b[0m\u001b[0;34m\u001b[0m\u001b[0;34m\u001b[0m\u001b[0m\n\u001b[1;32m     69\u001b[0m       \u001b[0;32mdel\u001b[0m \u001b[0mfiltered_tb\u001b[0m\u001b[0;34m\u001b[0m\u001b[0;34m\u001b[0m\u001b[0m\n",
            "\u001b[0;32m/usr/local/lib/python3.7/dist-packages/tensorflow/python/framework/constant_op.py\u001b[0m in \u001b[0;36mconvert_to_eager_tensor\u001b[0;34m(value, ctx, dtype)\u001b[0m\n\u001b[1;32m    100\u001b[0m       \u001b[0mdtype\u001b[0m \u001b[0;34m=\u001b[0m \u001b[0mdtypes\u001b[0m\u001b[0;34m.\u001b[0m\u001b[0mas_dtype\u001b[0m\u001b[0;34m(\u001b[0m\u001b[0mdtype\u001b[0m\u001b[0;34m)\u001b[0m\u001b[0;34m.\u001b[0m\u001b[0mas_datatype_enum\u001b[0m\u001b[0;34m\u001b[0m\u001b[0;34m\u001b[0m\u001b[0m\n\u001b[1;32m    101\u001b[0m   \u001b[0mctx\u001b[0m\u001b[0;34m.\u001b[0m\u001b[0mensure_initialized\u001b[0m\u001b[0;34m(\u001b[0m\u001b[0;34m)\u001b[0m\u001b[0;34m\u001b[0m\u001b[0;34m\u001b[0m\u001b[0m\n\u001b[0;32m--> 102\u001b[0;31m   \u001b[0;32mreturn\u001b[0m \u001b[0mops\u001b[0m\u001b[0;34m.\u001b[0m\u001b[0mEagerTensor\u001b[0m\u001b[0;34m(\u001b[0m\u001b[0mvalue\u001b[0m\u001b[0;34m,\u001b[0m \u001b[0mctx\u001b[0m\u001b[0;34m.\u001b[0m\u001b[0mdevice_name\u001b[0m\u001b[0;34m,\u001b[0m \u001b[0mdtype\u001b[0m\u001b[0;34m)\u001b[0m\u001b[0;34m\u001b[0m\u001b[0;34m\u001b[0m\u001b[0m\n\u001b[0m\u001b[1;32m    103\u001b[0m \u001b[0;34m\u001b[0m\u001b[0m\n\u001b[1;32m    104\u001b[0m \u001b[0;34m\u001b[0m\u001b[0m\n",
            "\u001b[0;31mValueError\u001b[0m: Failed to convert a NumPy array to a Tensor (Unsupported object type PosixPath)."
          ]
        }
      ]
    },
    {
      "cell_type": "code",
      "execution_count": null,
      "metadata": {
        "id": "039akzXzqrwd"
      },
      "outputs": [],
      "source": [
        "from PIL import Image\n",
        "img = Image.fromarray(X_test[10],\"RGB\")\n",
        "img.save(\"test_img.png\")\n",
        "img.show()"
      ]
    },
    {
      "cell_type": "code",
      "execution_count": null,
      "metadata": {
        "id": "DFxcEWBWmFft"
      },
      "outputs": [],
      "source": [
        "PIL.Image.open(str(\"test_img.png\"))"
      ]
    },
    {
      "cell_type": "code",
      "execution_count": null,
      "metadata": {
        "id": "zcza2OzxmRHz"
      },
      "outputs": [],
      "source": []
    }
  ]
}