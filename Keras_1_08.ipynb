{
  "nbformat": 4,
  "nbformat_minor": 0,
  "metadata": {
    "colab": {
      "name": "Keras_1-08.ipynb",
      "provenance": [],
      "collapsed_sections": []
    },
    "kernelspec": {
      "name": "python3",
      "display_name": "Python 3"
    },
    "language_info": {
      "name": "python"
    },
    "accelerator": "GPU",
    "gpuClass": "standard"
  },
  "cells": [
    {
      "cell_type": "code",
      "execution_count": null,
      "metadata": {
        "colab": {
          "base_uri": "https://localhost:8080/"
        },
        "id": "1jcvNhvmgSu1",
        "outputId": "82473bf6-f38f-43f0-9382-db47044ba289"
      },
      "outputs": [
        {
          "output_type": "stream",
          "name": "stdout",
          "text": [
            "Looking in indexes: https://pypi.org/simple, https://us-python.pkg.dev/colab-wheels/public/simple/\n",
            "Requirement already satisfied: tF in /usr/local/lib/python3.7/dist-packages (1.0.0)\n"
          ]
        }
      ],
      "source": [
        "pip install tF"
      ]
    },
    {
      "cell_type": "code",
      "source": [
        "#importing libraries\n",
        "from tensorflow.keras.datasets import cifar10\n",
        "from tensorflow.keras.models import Sequential\n",
        "from tensorflow.keras.layers import Dense, Flatten, Conv2D\n",
        "from tensorflow.keras.losses import sparse_categorical_crossentropy\n",
        "from tensorflow.keras.optimizers import Adam"
      ],
      "metadata": {
        "id": "CfxvmxnWk3Kk"
      },
      "execution_count": null,
      "outputs": []
    },
    {
      "cell_type": "code",
      "source": [
        "# Model configuration\n",
        "batch_size = 50\n",
        "img_width, img_height, img_num_channels = 32, 32, 3\n",
        "loss_function = sparse_categorical_crossentropy\n",
        "no_classes = 10\n",
        "no_epochs = 20\n",
        "optimizer = Adam()\n",
        "validation_split = 0.2\n",
        "verbosity = 1"
      ],
      "metadata": {
        "id": "qxfkT6l8nhZq"
      },
      "execution_count": null,
      "outputs": []
    },
    {
      "cell_type": "code",
      "source": [
        "# Load CIFAR-10 data\n",
        "(input_train, target_train), (input_test, target_test) = cifar10.load_data()"
      ],
      "metadata": {
        "id": "1bnXhkTynz7C"
      },
      "execution_count": null,
      "outputs": []
    },
    {
      "cell_type": "code",
      "source": [
        "# Determine shape of the data\n",
        "input_shape = (img_width, img_height, img_num_channels)"
      ],
      "metadata": {
        "id": "HVyJtiZmn5tH"
      },
      "execution_count": null,
      "outputs": []
    },
    {
      "cell_type": "code",
      "source": [
        "# Parse numbers as floats\n",
        "input_train = input_train.astype('float32')\n",
        "input_test = input_test.astype('float32')"
      ],
      "metadata": {
        "id": "ZCRjEFLMoDrT"
      },
      "execution_count": null,
      "outputs": []
    },
    {
      "cell_type": "code",
      "source": [
        "# Scale data\n",
        "input_train = input_train / 255\n",
        "input_test = input_test / 255"
      ],
      "metadata": {
        "id": "G9wCvtPxoJMQ"
      },
      "execution_count": null,
      "outputs": []
    },
    {
      "cell_type": "code",
      "source": [
        "# Create the model\n",
        "model = Sequential()\n",
        "model.add(Conv2D(32, kernel_size=(3, 3), activation='relu', input_shape=input_shape))\n",
        "model.add(Conv2D(64, kernel_size=(3, 3), activation='relu'))\n",
        "model.add(Conv2D(128, kernel_size=(3, 3), activation='relu'))\n",
        "model.add(Flatten())\n",
        "model.add(Dense(128, activation='relu'))\n",
        "model.add(Dense(no_classes, activation='softmax'))"
      ],
      "metadata": {
        "id": "zy3FUOlIoLa2"
      },
      "execution_count": null,
      "outputs": []
    },
    {
      "cell_type": "code",
      "source": [
        "# Compile the model\n",
        "model.compile(loss=loss_function,\n",
        "              optimizer=optimizer,\n",
        "              metrics=['accuracy'])"
      ],
      "metadata": {
        "id": "C6N4WGANozGD"
      },
      "execution_count": null,
      "outputs": []
    },
    {
      "cell_type": "code",
      "source": [
        "# Fit data to model\n",
        "history = model.fit(input_train, target_train,\n",
        "            batch_size=batch_size,\n",
        "            epochs=no_epochs,\n",
        "            verbose=verbosity,\n",
        "            validation_split=validation_split)"
      ],
      "metadata": {
        "colab": {
          "base_uri": "https://localhost:8080/"
        },
        "id": "s6eHGGMm_BVV",
        "outputId": "8b8e2c61-6a61-4005-f02e-05177f9b228b"
      },
      "execution_count": null,
      "outputs": [
        {
          "output_type": "stream",
          "name": "stdout",
          "text": [
            "Epoch 1/20\n",
            "800/800 [==============================] - 11s 13ms/step - loss: 1.4572 - accuracy: 0.4789 - val_loss: 1.2023 - val_accuracy: 0.5689\n",
            "Epoch 2/20\n",
            "800/800 [==============================] - 10s 13ms/step - loss: 1.0202 - accuracy: 0.6415 - val_loss: 0.9879 - val_accuracy: 0.6538\n",
            "Epoch 3/20\n",
            "800/800 [==============================] - 10s 12ms/step - loss: 0.7935 - accuracy: 0.7244 - val_loss: 0.9614 - val_accuracy: 0.6696\n",
            "Epoch 4/20\n",
            "800/800 [==============================] - 10s 13ms/step - loss: 0.5714 - accuracy: 0.8008 - val_loss: 1.0691 - val_accuracy: 0.6592\n",
            "Epoch 5/20\n",
            "800/800 [==============================] - 10s 12ms/step - loss: 0.3576 - accuracy: 0.8752 - val_loss: 1.2362 - val_accuracy: 0.6443\n",
            "Epoch 6/20\n",
            "800/800 [==============================] - 10s 12ms/step - loss: 0.2022 - accuracy: 0.9313 - val_loss: 1.4858 - val_accuracy: 0.6569\n",
            "Epoch 7/20\n",
            "800/800 [==============================] - 10s 13ms/step - loss: 0.1216 - accuracy: 0.9595 - val_loss: 2.0487 - val_accuracy: 0.6396\n",
            "Epoch 8/20\n",
            "800/800 [==============================] - 10s 12ms/step - loss: 0.0883 - accuracy: 0.9706 - val_loss: 2.2073 - val_accuracy: 0.6340\n",
            "Epoch 9/20\n",
            "800/800 [==============================] - 10s 12ms/step - loss: 0.0804 - accuracy: 0.9731 - val_loss: 2.3083 - val_accuracy: 0.6348\n",
            "Epoch 10/20\n",
            "800/800 [==============================] - 10s 12ms/step - loss: 0.0687 - accuracy: 0.9783 - val_loss: 2.4760 - val_accuracy: 0.6404\n",
            "Epoch 11/20\n",
            "800/800 [==============================] - 10s 13ms/step - loss: 0.0593 - accuracy: 0.9813 - val_loss: 2.6117 - val_accuracy: 0.6324\n",
            "Epoch 12/20\n",
            "800/800 [==============================] - 10s 13ms/step - loss: 0.0570 - accuracy: 0.9809 - val_loss: 2.8291 - val_accuracy: 0.6307\n",
            "Epoch 13/20\n",
            "800/800 [==============================] - 10s 12ms/step - loss: 0.0508 - accuracy: 0.9831 - val_loss: 2.7916 - val_accuracy: 0.6309\n",
            "Epoch 14/20\n",
            "800/800 [==============================] - 10s 13ms/step - loss: 0.0557 - accuracy: 0.9820 - val_loss: 3.0173 - val_accuracy: 0.6264\n",
            "Epoch 15/20\n",
            "800/800 [==============================] - 10s 12ms/step - loss: 0.0517 - accuracy: 0.9830 - val_loss: 3.0938 - val_accuracy: 0.6275\n",
            "Epoch 16/20\n",
            "800/800 [==============================] - 10s 12ms/step - loss: 0.0385 - accuracy: 0.9869 - val_loss: 3.2549 - val_accuracy: 0.6246\n",
            "Epoch 17/20\n",
            "800/800 [==============================] - 10s 13ms/step - loss: 0.0301 - accuracy: 0.9903 - val_loss: 3.1708 - val_accuracy: 0.6283\n",
            "Epoch 18/20\n",
            "800/800 [==============================] - 10s 13ms/step - loss: 0.0420 - accuracy: 0.9872 - val_loss: 3.3043 - val_accuracy: 0.6110\n",
            "Epoch 19/20\n",
            "800/800 [==============================] - 10s 13ms/step - loss: 0.0429 - accuracy: 0.9861 - val_loss: 3.6002 - val_accuracy: 0.6099\n",
            "Epoch 20/20\n",
            "800/800 [==============================] - 10s 12ms/step - loss: 0.0390 - accuracy: 0.9878 - val_loss: 3.4543 - val_accuracy: 0.6284\n"
          ]
        }
      ]
    },
    {
      "cell_type": "code",
      "source": [
        "# Generate generalization metrics\n",
        "score = model.evaluate(input_test, target_test, verbose=0)\n",
        "print(f'Test loss: {score[0]} / Testaccuracy: {score[1]}')"
      ],
      "metadata": {
        "colab": {
          "base_uri": "https://localhost:8080/"
        },
        "id": "a2dG1nwppCou",
        "outputId": "d8ccc221-5f89-4336-adb2-3b44ddcbac2b"
      },
      "execution_count": null,
      "outputs": [
        {
          "output_type": "stream",
          "name": "stdout",
          "text": [
            "Test loss: 3.3432374000549316 / Testaccuracy: 0.625\n"
          ]
        }
      ]
    },
    {
      "cell_type": "code",
      "source": [
        ""
      ],
      "metadata": {
        "id": "vfr0A_s6pHS1"
      },
      "execution_count": null,
      "outputs": []
    }
  ]
}