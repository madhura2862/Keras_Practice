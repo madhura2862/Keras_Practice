{
  "nbformat": 4,
  "nbformat_minor": 0,
  "metadata": {
    "colab": {
      "name": "04/07/2022.ipynb",
      "provenance": [],
      "collapsed_sections": []
    },
    "kernelspec": {
      "name": "python3",
      "display_name": "Python 3"
    },
    "language_info": {
      "name": "python"
    }
  },
  "cells": [
    {
      "cell_type": "code",
      "execution_count": 149,
      "metadata": {
        "id": "DAAYUaxfurzS"
      },
      "outputs": [],
      "source": [
        "fruit = {\n",
        "    \"banana\": 1.00,\n",
        "    \"apple\": 1.53,\n",
        "    \"kiwi\": 2.00,\n",
        "    \"avocado\": 3.23,\n",
        "    \"mango\": 2.33,\n",
        "    \"pineapple\": 1.44,\n",
        "    \"strawberries\": 1.95,\n",
        "    \"melon\": 2.34,\n",
        "    \"grapes\": 0.98,\n",
        "    \"banana\": 2.00\n",
        "\n",
        "}"
      ]
    },
    {
      "cell_type": "code",
      "source": [
        "fruit"
      ],
      "metadata": {
        "colab": {
          "base_uri": "https://localhost:8080/"
        },
        "id": "ZxD0l2FoyM3y",
        "outputId": "f74e3bca-8c2e-4cae-bf2e-ea52639adb05"
      },
      "execution_count": 150,
      "outputs": [
        {
          "output_type": "execute_result",
          "data": {
            "text/plain": [
              "{'apple': 1.53,\n",
              " 'avocado': 3.23,\n",
              " 'banana': 2.0,\n",
              " 'grapes': 0.98,\n",
              " 'kiwi': 2.0,\n",
              " 'mango': 2.33,\n",
              " 'melon': 2.34,\n",
              " 'pineapple': 1.44,\n",
              " 'strawberries': 1.95}"
            ]
          },
          "metadata": {},
          "execution_count": 150
        }
      ]
    },
    {
      "cell_type": "code",
      "source": [
        "fruit.copy()"
      ],
      "metadata": {
        "colab": {
          "base_uri": "https://localhost:8080/"
        },
        "id": "xGNwUW6hvR-6",
        "outputId": "9f22e6b4-7d07-4d90-9956-56ce16ecb447"
      },
      "execution_count": 151,
      "outputs": [
        {
          "output_type": "execute_result",
          "data": {
            "text/plain": [
              "{'apple': 1.53,\n",
              " 'avocado': 3.23,\n",
              " 'banana': 2.0,\n",
              " 'grapes': 0.98,\n",
              " 'kiwi': 2.0,\n",
              " 'mango': 2.33,\n",
              " 'melon': 2.34,\n",
              " 'pineapple': 1.44,\n",
              " 'strawberries': 1.95}"
            ]
          },
          "metadata": {},
          "execution_count": 151
        }
      ]
    },
    {
      "cell_type": "code",
      "source": [
        "products = fruit.copy()"
      ],
      "metadata": {
        "id": "RGYGixCax-8y"
      },
      "execution_count": 152,
      "outputs": []
    },
    {
      "cell_type": "code",
      "source": [
        "products"
      ],
      "metadata": {
        "colab": {
          "base_uri": "https://localhost:8080/"
        },
        "id": "eW6AMrBKyw8_",
        "outputId": "3228765c-851e-4816-ed04-925861bf94fb"
      },
      "execution_count": 153,
      "outputs": [
        {
          "output_type": "execute_result",
          "data": {
            "text/plain": [
              "{'apple': 1.53,\n",
              " 'avocado': 3.23,\n",
              " 'banana': 2.0,\n",
              " 'grapes': 0.98,\n",
              " 'kiwi': 2.0,\n",
              " 'mango': 2.33,\n",
              " 'melon': 2.34,\n",
              " 'pineapple': 1.44,\n",
              " 'strawberries': 1.95}"
            ]
          },
          "metadata": {},
          "execution_count": 153
        }
      ]
    },
    {
      "cell_type": "code",
      "source": [
        "p = dict.fromkeys(fruit)"
      ],
      "metadata": {
        "id": "L_DB3YSmyx6d"
      },
      "execution_count": 154,
      "outputs": []
    },
    {
      "cell_type": "code",
      "source": [
        "p"
      ],
      "metadata": {
        "colab": {
          "base_uri": "https://localhost:8080/"
        },
        "id": "Xx_Gl2CbzQvE",
        "outputId": "ed6bdd1d-f87c-4202-883a-04a677d933d8"
      },
      "execution_count": 155,
      "outputs": [
        {
          "output_type": "execute_result",
          "data": {
            "text/plain": [
              "{'apple': None,\n",
              " 'avocado': None,\n",
              " 'banana': None,\n",
              " 'grapes': None,\n",
              " 'kiwi': None,\n",
              " 'mango': None,\n",
              " 'melon': None,\n",
              " 'pineapple': None,\n",
              " 'strawberries': None}"
            ]
          },
          "metadata": {},
          "execution_count": 155
        }
      ]
    },
    {
      "cell_type": "code",
      "source": [
        "keys = {'a','e','i','o','u'}"
      ],
      "metadata": {
        "id": "USqh3jEX0IdX"
      },
      "execution_count": 156,
      "outputs": []
    },
    {
      "cell_type": "code",
      "source": [
        "vowels = dict.fromkeys(keys)\n",
        "vowels"
      ],
      "metadata": {
        "colab": {
          "base_uri": "https://localhost:8080/"
        },
        "id": "hXExyFgS1764",
        "outputId": "95888b28-c3dc-4692-866a-c02b97bfed26"
      },
      "execution_count": 157,
      "outputs": [
        {
          "output_type": "execute_result",
          "data": {
            "text/plain": [
              "{'a': None, 'e': None, 'i': None, 'o': None, 'u': None}"
            ]
          },
          "metadata": {},
          "execution_count": 157
        }
      ]
    },
    {
      "cell_type": "code",
      "source": [
        "values = {'1','2','3','4','5'}\n"
      ],
      "metadata": {
        "id": "iIyBHtKB2Tbg"
      },
      "execution_count": 158,
      "outputs": []
    },
    {
      "cell_type": "code",
      "source": [
        "vowels = dict.fromkeys(keys,values)\n",
        "vowels"
      ],
      "metadata": {
        "colab": {
          "base_uri": "https://localhost:8080/"
        },
        "id": "6TW0A4Q_3SFt",
        "outputId": "d2b12c93-6b89-4056-96cf-7453b1f588f7"
      },
      "execution_count": 159,
      "outputs": [
        {
          "output_type": "execute_result",
          "data": {
            "text/plain": [
              "{'a': {'1', '2', '3', '4', '5'},\n",
              " 'e': {'1', '2', '3', '4', '5'},\n",
              " 'i': {'1', '2', '3', '4', '5'},\n",
              " 'o': {'1', '2', '3', '4', '5'},\n",
              " 'u': {'1', '2', '3', '4', '5'}}"
            ]
          },
          "metadata": {},
          "execution_count": 159
        }
      ]
    },
    {
      "cell_type": "code",
      "source": [
        "values = []\n",
        "for i in  range(1,6):\n",
        "  values.append(i)\n",
        "values"
      ],
      "metadata": {
        "colab": {
          "base_uri": "https://localhost:8080/"
        },
        "id": "AKDksaS93WUx",
        "outputId": "4cf4608f-f28b-4df3-a90f-2e5ebaa8d7db"
      },
      "execution_count": 160,
      "outputs": [
        {
          "output_type": "execute_result",
          "data": {
            "text/plain": [
              "[1, 2, 3, 4, 5]"
            ]
          },
          "metadata": {},
          "execution_count": 160
        }
      ]
    },
    {
      "cell_type": "code",
      "source": [
        "x = fruit.get(\"\",2.0)\n",
        "print(x)"
      ],
      "metadata": {
        "colab": {
          "base_uri": "https://localhost:8080/"
        },
        "id": "GLwpISAb4NH8",
        "outputId": "61ce549f-3d69-43bf-c38a-aec892f28011"
      },
      "execution_count": 161,
      "outputs": [
        {
          "output_type": "stream",
          "name": "stdout",
          "text": [
            "2.0\n"
          ]
        }
      ]
    },
    {
      "cell_type": "code",
      "source": [
        "car = {\n",
        "  \"brand\": \"Ford\",\n",
        "  \"model\": \"Mustang\",\n",
        "  \"year\": 1964\n",
        "      }\n",
        "\n",
        "x = car.get(\"price\", 15000)\n",
        "\n",
        "print(x)"
      ],
      "metadata": {
        "colab": {
          "base_uri": "https://localhost:8080/"
        },
        "id": "_npTuo3o7wHT",
        "outputId": "b0e21f7c-d5a8-4f94-997b-1386dd7c4083"
      },
      "execution_count": 162,
      "outputs": [
        {
          "output_type": "stream",
          "name": "stdout",
          "text": [
            "15000\n"
          ]
        }
      ]
    },
    {
      "cell_type": "code",
      "source": [
        "d = {'dict1':{\"banana\": 1.00,\n",
        "    \"apple\": 1.53,\n",
        "    \"kiwi\": 2.00,\n",
        "    \"avocado\": 3.23,\n",
        "    \"mango\": 2.33,},\n",
        "     'dict2':{'Khushi': ' Dhoble',\n",
        "    'Ketki': 'Ganorkar',\n",
        "    'Skhi':'Chetule',\n",
        "    'Ketki': 'Bhobhde'},\n",
        "     'dict3': {'Khushi Dhoble': 'khushi@gmail.com',\n",
        "     'Ketki Ganorkar': ' ketki@gmail.com',\n",
        "     'Skhi Chetule': 'sakhi@gmail.com'}}\n",
        "d"
      ],
      "metadata": {
        "colab": {
          "base_uri": "https://localhost:8080/"
        },
        "id": "uMIDPgJE8ErK",
        "outputId": "4e71e428-2e27-4f31-c25c-09818811d848"
      },
      "execution_count": 163,
      "outputs": [
        {
          "output_type": "execute_result",
          "data": {
            "text/plain": [
              "{'dict1': {'apple': 1.53,\n",
              "  'avocado': 3.23,\n",
              "  'banana': 1.0,\n",
              "  'kiwi': 2.0,\n",
              "  'mango': 2.33},\n",
              " 'dict2': {'Ketki': 'Bhobhde', 'Khushi': ' Dhoble', 'Skhi': 'Chetule'},\n",
              " 'dict3': {'Ketki Ganorkar': ' ketki@gmail.com',\n",
              "  'Khushi Dhoble': 'khushi@gmail.com',\n",
              "  'Skhi Chetule': 'sakhi@gmail.com'}}"
            ]
          },
          "metadata": {},
          "execution_count": 163
        }
      ]
    },
    {
      "cell_type": "code",
      "source": [
        "y = d.get('dict1')\n",
        "y"
      ],
      "metadata": {
        "colab": {
          "base_uri": "https://localhost:8080/"
        },
        "id": "Gjrxsh5K-voU",
        "outputId": "b5c93947-bb16-4afc-c0f2-49096baa05ef"
      },
      "execution_count": 164,
      "outputs": [
        {
          "output_type": "execute_result",
          "data": {
            "text/plain": [
              "{'apple': 1.53, 'avocado': 3.23, 'banana': 1.0, 'kiwi': 2.0, 'mango': 2.33}"
            ]
          },
          "metadata": {},
          "execution_count": 164
        }
      ]
    },
    {
      "cell_type": "code",
      "source": [
        "w = d.get('dict1').get('banana')\n",
        "w"
      ],
      "metadata": {
        "colab": {
          "base_uri": "https://localhost:8080/"
        },
        "id": "E7eR7TDA-49N",
        "outputId": "144401f1-10a0-4ace-d49f-32a9ca273215"
      },
      "execution_count": 165,
      "outputs": [
        {
          "output_type": "execute_result",
          "data": {
            "text/plain": [
              "1.0"
            ]
          },
          "metadata": {},
          "execution_count": 165
        }
      ]
    },
    {
      "cell_type": "code",
      "source": [
        "w = d.get('dict1')\n",
        "w"
      ],
      "metadata": {
        "colab": {
          "base_uri": "https://localhost:8080/"
        },
        "id": "8phJrrNg_Pl-",
        "outputId": "3b6214ee-83a3-4bc9-a8f9-f46e4e4c5ed9"
      },
      "execution_count": 166,
      "outputs": [
        {
          "output_type": "execute_result",
          "data": {
            "text/plain": [
              "{'apple': 1.53, 'avocado': 3.23, 'banana': 1.0, 'kiwi': 2.0, 'mango': 2.33}"
            ]
          },
          "metadata": {},
          "execution_count": 166
        }
      ]
    },
    {
      "cell_type": "code",
      "source": [
        "fruit.pop('apple')"
      ],
      "metadata": {
        "colab": {
          "base_uri": "https://localhost:8080/"
        },
        "id": "60aw5-X3_gKT",
        "outputId": "fd250cee-e3b3-4658-c222-108de7e9a33b"
      },
      "execution_count": 167,
      "outputs": [
        {
          "output_type": "execute_result",
          "data": {
            "text/plain": [
              "1.53"
            ]
          },
          "metadata": {},
          "execution_count": 167
        }
      ]
    },
    {
      "cell_type": "code",
      "source": [
        "fruit"
      ],
      "metadata": {
        "colab": {
          "base_uri": "https://localhost:8080/"
        },
        "id": "m2JKLFOCAiiT",
        "outputId": "13cabd24-64e7-44f4-d1e3-33f240083c03"
      },
      "execution_count": 168,
      "outputs": [
        {
          "output_type": "execute_result",
          "data": {
            "text/plain": [
              "{'avocado': 3.23,\n",
              " 'banana': 2.0,\n",
              " 'grapes': 0.98,\n",
              " 'kiwi': 2.0,\n",
              " 'mango': 2.33,\n",
              " 'melon': 2.34,\n",
              " 'pineapple': 1.44,\n",
              " 'strawberries': 1.95}"
            ]
          },
          "metadata": {},
          "execution_count": 168
        }
      ]
    },
    {
      "cell_type": "code",
      "source": [
        "d = {'dict1':{\"banana\": 1.00,\n",
        "    \"apple\": 1.53,\n",
        "    \"kiwi\": 2.00,\n",
        "    \"avocado\": 3.23,\n",
        "    \"mango\": 2.33,},\n",
        "     'dict2':{'Khushi': ' Dhoble',\n",
        "    'Ketki': 'Ganorkar',\n",
        "    'Skhi':'Chetule',\n",
        "    'Ketki': 'Bhobhde'},\n",
        "     'dict3': {'Khushi Dhoble': 'khushi@gmail.com',\n",
        "     'Ketki Ganorkar': ' ketki@gmail.com',\n",
        "     'Skhi Chetule': 'sakhi@gmail.com'}}\n",
        "d"
      ],
      "metadata": {
        "colab": {
          "base_uri": "https://localhost:8080/"
        },
        "id": "e1RohactEG6W",
        "outputId": "547aef70-1f22-48ac-f493-ba03805cae30"
      },
      "execution_count": 169,
      "outputs": [
        {
          "output_type": "execute_result",
          "data": {
            "text/plain": [
              "{'dict1': {'apple': 1.53,\n",
              "  'avocado': 3.23,\n",
              "  'banana': 1.0,\n",
              "  'kiwi': 2.0,\n",
              "  'mango': 2.33},\n",
              " 'dict2': {'Ketki': 'Bhobhde', 'Khushi': ' Dhoble', 'Skhi': 'Chetule'},\n",
              " 'dict3': {'Ketki Ganorkar': ' ketki@gmail.com',\n",
              "  'Khushi Dhoble': 'khushi@gmail.com',\n",
              "  'Skhi Chetule': 'sakhi@gmail.com'}}"
            ]
          },
          "metadata": {},
          "execution_count": 169
        }
      ]
    },
    {
      "cell_type": "code",
      "source": [
        "k =d.pop('dict1').pop('apple')\n",
        "print(k)"
      ],
      "metadata": {
        "colab": {
          "base_uri": "https://localhost:8080/"
        },
        "id": "1zPPDhWBAgKA",
        "outputId": "ebb223a3-9bdf-4e4b-8499-c7a204114751"
      },
      "execution_count": 170,
      "outputs": [
        {
          "output_type": "stream",
          "name": "stdout",
          "text": [
            "1.53\n"
          ]
        }
      ]
    },
    {
      "cell_type": "code",
      "source": [
        "d"
      ],
      "metadata": {
        "colab": {
          "base_uri": "https://localhost:8080/"
        },
        "id": "PmMnJmo0AooJ",
        "outputId": "25f91f3f-5dae-4c20-aa9c-ef8c15345593"
      },
      "execution_count": 171,
      "outputs": [
        {
          "output_type": "execute_result",
          "data": {
            "text/plain": [
              "{'dict2': {'Ketki': 'Bhobhde', 'Khushi': ' Dhoble', 'Skhi': 'Chetule'},\n",
              " 'dict3': {'Ketki Ganorkar': ' ketki@gmail.com',\n",
              "  'Khushi Dhoble': 'khushi@gmail.com',\n",
              "  'Skhi Chetule': 'sakhi@gmail.com'}}"
            ]
          },
          "metadata": {},
          "execution_count": 171
        }
      ]
    },
    {
      "cell_type": "markdown",
      "source": [
        "The popitem() method removes the item that was last inserted into the dictionary."
      ],
      "metadata": {
        "id": "LcTK40xcFASy"
      }
    },
    {
      "cell_type": "code",
      "source": [
        "f = d.popitem()\n",
        "f"
      ],
      "metadata": {
        "colab": {
          "base_uri": "https://localhost:8080/"
        },
        "id": "x4idHqXZBbP3",
        "outputId": "bb9625a4-76be-424c-ee7c-2d5b13719f42"
      },
      "execution_count": 172,
      "outputs": [
        {
          "output_type": "execute_result",
          "data": {
            "text/plain": [
              "('dict3',\n",
              " {'Ketki Ganorkar': ' ketki@gmail.com',\n",
              "  'Khushi Dhoble': 'khushi@gmail.com',\n",
              "  'Skhi Chetule': 'sakhi@gmail.com'})"
            ]
          },
          "metadata": {},
          "execution_count": 172
        }
      ]
    },
    {
      "cell_type": "code",
      "source": [
        "d"
      ],
      "metadata": {
        "colab": {
          "base_uri": "https://localhost:8080/"
        },
        "id": "qycF4j83EQaq",
        "outputId": "fba7b87a-442c-4edb-d736-9aa04f84dbe2"
      },
      "execution_count": 173,
      "outputs": [
        {
          "output_type": "execute_result",
          "data": {
            "text/plain": [
              "{'dict2': {'Ketki': 'Bhobhde', 'Khushi': ' Dhoble', 'Skhi': 'Chetule'}}"
            ]
          },
          "metadata": {},
          "execution_count": 173
        }
      ]
    },
    {
      "cell_type": "code",
      "source": [
        "d = {'dict1':{\"banana\": 1.00,\n",
        "    \"apple\": 1.53,\n",
        "    \"kiwi\": 2.00,\n",
        "    \"avocado\": 3.23,\n",
        "    \"mango\": 2.33,},\n",
        "     'dict2':{'Khushi': ' Dhoble',\n",
        "    'Ketki': 'Ganorkar',\n",
        "    'Skhi':'Chetule',\n",
        "    'Ketki': 'Bhobhde'},\n",
        "     'dict3': {'Khushi Dhoble': 'khushi@gmail.com',\n",
        "     'Ketki Ganorkar': ' ketki@gmail.com',\n",
        "     'Skhi Chetule': 'sakhi@gmail.com'}}\n",
        "d"
      ],
      "metadata": {
        "colab": {
          "base_uri": "https://localhost:8080/"
        },
        "id": "ckkpUyQIGz35",
        "outputId": "6c5d96d4-021a-4b3f-f220-5c811dab26e1"
      },
      "execution_count": 174,
      "outputs": [
        {
          "output_type": "execute_result",
          "data": {
            "text/plain": [
              "{'dict1': {'apple': 1.53,\n",
              "  'avocado': 3.23,\n",
              "  'banana': 1.0,\n",
              "  'kiwi': 2.0,\n",
              "  'mango': 2.33},\n",
              " 'dict2': {'Ketki': 'Bhobhde', 'Khushi': ' Dhoble', 'Skhi': 'Chetule'},\n",
              " 'dict3': {'Ketki Ganorkar': ' ketki@gmail.com',\n",
              "  'Khushi Dhoble': 'khushi@gmail.com',\n",
              "  'Skhi Chetule': 'sakhi@gmail.com'}}"
            ]
          },
          "metadata": {},
          "execution_count": 174
        }
      ]
    },
    {
      "cell_type": "markdown",
      "source": [
        "The setdefault() method returns the value of the item with the specified key.\n"
      ],
      "metadata": {
        "id": "iiBCh9DyLzmU"
      }
    },
    {
      "cell_type": "code",
      "source": [
        "d.setdefault('dict1')"
      ],
      "metadata": {
        "colab": {
          "base_uri": "https://localhost:8080/"
        },
        "id": "HYEPlbr4Ecji",
        "outputId": "9594b1f7-3b4b-4f37-baec-a2f4629cf470"
      },
      "execution_count": 175,
      "outputs": [
        {
          "output_type": "execute_result",
          "data": {
            "text/plain": [
              "{'apple': 1.53, 'avocado': 3.23, 'banana': 1.0, 'kiwi': 2.0, 'mango': 2.33}"
            ]
          },
          "metadata": {},
          "execution_count": 175
        }
      ]
    },
    {
      "cell_type": "code",
      "source": [
        "d"
      ],
      "metadata": {
        "colab": {
          "base_uri": "https://localhost:8080/"
        },
        "id": "jlQf5Q-tGqFP",
        "outputId": "128374e4-ee6a-4f0b-92de-06a35b7f4a0f"
      },
      "execution_count": 176,
      "outputs": [
        {
          "output_type": "execute_result",
          "data": {
            "text/plain": [
              "{'dict1': {'apple': 1.53,\n",
              "  'avocado': 3.23,\n",
              "  'banana': 1.0,\n",
              "  'kiwi': 2.0,\n",
              "  'mango': 2.33},\n",
              " 'dict2': {'Ketki': 'Bhobhde', 'Khushi': ' Dhoble', 'Skhi': 'Chetule'},\n",
              " 'dict3': {'Ketki Ganorkar': ' ketki@gmail.com',\n",
              "  'Khushi Dhoble': 'khushi@gmail.com',\n",
              "  'Skhi Chetule': 'sakhi@gmail.com'}}"
            ]
          },
          "metadata": {},
          "execution_count": 176
        }
      ]
    },
    {
      "cell_type": "markdown",
      "source": [
        "List\n"
      ],
      "metadata": {
        "id": "RE9Amp6x3H15"
      }
    },
    {
      "cell_type": "code",
      "source": [
        "l = [[5, 3, 2], [8, 6, 3], [3, 5, 2], [3, 6], [3, 7, 4], [2, 9]]"
      ],
      "metadata": {
        "id": "piIfJLKPGxFH"
      },
      "execution_count": 177,
      "outputs": []
    },
    {
      "cell_type": "code",
      "source": [
        "l[0].append(1)"
      ],
      "metadata": {
        "id": "Al7lSub84bi6"
      },
      "execution_count": 178,
      "outputs": []
    },
    {
      "cell_type": "code",
      "source": [
        "l"
      ],
      "metadata": {
        "colab": {
          "base_uri": "https://localhost:8080/"
        },
        "id": "Gs_i2Tql4dsw",
        "outputId": "b5ab520c-d2aa-455a-c4b9-13664b177b7f"
      },
      "execution_count": 179,
      "outputs": [
        {
          "output_type": "execute_result",
          "data": {
            "text/plain": [
              "[[5, 3, 2, 1], [8, 6, 3], [3, 5, 2], [3, 6], [3, 7, 4], [2, 9]]"
            ]
          },
          "metadata": {},
          "execution_count": 179
        }
      ]
    },
    {
      "cell_type": "code",
      "source": [
        "l[2].insert(0,5)"
      ],
      "metadata": {
        "id": "rchYWE2d6m54"
      },
      "execution_count": 180,
      "outputs": []
    },
    {
      "cell_type": "code",
      "source": [
        "l"
      ],
      "metadata": {
        "colab": {
          "base_uri": "https://localhost:8080/"
        },
        "id": "xaG9pSKf6pLm",
        "outputId": "90a0c974-6a2f-472f-bfc0-df98fa230c5f"
      },
      "execution_count": 181,
      "outputs": [
        {
          "output_type": "execute_result",
          "data": {
            "text/plain": [
              "[[5, 3, 2, 1], [8, 6, 3], [5, 3, 5, 2], [3, 6], [3, 7, 4], [2, 9]]"
            ]
          },
          "metadata": {},
          "execution_count": 181
        }
      ]
    },
    {
      "cell_type": "code",
      "source": [
        "l.pop(0)"
      ],
      "metadata": {
        "colab": {
          "base_uri": "https://localhost:8080/"
        },
        "id": "ZViOXlfZ78Hq",
        "outputId": "7dfaf363-bb1e-4e85-af9a-f69acaa66608"
      },
      "execution_count": 182,
      "outputs": [
        {
          "output_type": "execute_result",
          "data": {
            "text/plain": [
              "[5, 3, 2, 1]"
            ]
          },
          "metadata": {},
          "execution_count": 182
        }
      ]
    },
    {
      "cell_type": "code",
      "source": [
        "l.pop(0).pop(2)"
      ],
      "metadata": {
        "colab": {
          "base_uri": "https://localhost:8080/"
        },
        "id": "vkovlO8wBXpW",
        "outputId": "881ab9e8-5ba6-41e8-91ff-27ab1ed46ddb"
      },
      "execution_count": 183,
      "outputs": [
        {
          "output_type": "execute_result",
          "data": {
            "text/plain": [
              "3"
            ]
          },
          "metadata": {},
          "execution_count": 183
        }
      ]
    },
    {
      "cell_type": "code",
      "source": [
        "l"
      ],
      "metadata": {
        "colab": {
          "base_uri": "https://localhost:8080/"
        },
        "id": "w7nFX0dBBd-F",
        "outputId": "061c5799-e640-49ff-aa4c-a79c85b38be9"
      },
      "execution_count": 184,
      "outputs": [
        {
          "output_type": "execute_result",
          "data": {
            "text/plain": [
              "[[5, 3, 5, 2], [3, 6], [3, 7, 4], [2, 9]]"
            ]
          },
          "metadata": {},
          "execution_count": 184
        }
      ]
    },
    {
      "cell_type": "code",
      "source": [
        "l[0].remove(5)"
      ],
      "metadata": {
        "id": "gEmjOOC1CYhX"
      },
      "execution_count": 185,
      "outputs": []
    },
    {
      "cell_type": "code",
      "source": [
        "l"
      ],
      "metadata": {
        "colab": {
          "base_uri": "https://localhost:8080/"
        },
        "id": "FIYIr_H_Es8u",
        "outputId": "40ccdb08-90a9-4ff6-a44e-c34c0d2ae0e7"
      },
      "execution_count": 186,
      "outputs": [
        {
          "output_type": "execute_result",
          "data": {
            "text/plain": [
              "[[3, 5, 2], [3, 6], [3, 7, 4], [2, 9]]"
            ]
          },
          "metadata": {},
          "execution_count": 186
        }
      ]
    },
    {
      "cell_type": "code",
      "source": [
        "l = [[5, 3, 2], [8, 6, 3], [3, 5, 2], [3, 6], [3, 7, 4], [2, 9]]"
      ],
      "metadata": {
        "id": "WJMKvH3bFyxL"
      },
      "execution_count": 187,
      "outputs": []
    },
    {
      "cell_type": "code",
      "source": [
        "l[0].reverse()"
      ],
      "metadata": {
        "id": "Sk6vLWzfE1QW"
      },
      "execution_count": 188,
      "outputs": []
    },
    {
      "cell_type": "code",
      "source": [
        "l"
      ],
      "metadata": {
        "colab": {
          "base_uri": "https://localhost:8080/"
        },
        "id": "XnKXKX2mF6nE",
        "outputId": "81d0f234-0846-44c3-cf84-59a7d7691a18"
      },
      "execution_count": 189,
      "outputs": [
        {
          "output_type": "execute_result",
          "data": {
            "text/plain": [
              "[[2, 3, 5], [8, 6, 3], [3, 5, 2], [3, 6], [3, 7, 4], [2, 9]]"
            ]
          },
          "metadata": {},
          "execution_count": 189
        }
      ]
    },
    {
      "cell_type": "code",
      "source": [
        "l[1].sort()"
      ],
      "metadata": {
        "id": "kLvsGKXGF9H4"
      },
      "execution_count": 190,
      "outputs": []
    },
    {
      "cell_type": "code",
      "source": [
        "l"
      ],
      "metadata": {
        "colab": {
          "base_uri": "https://localhost:8080/"
        },
        "id": "Fh1BKKLUGDc9",
        "outputId": "98a74a9c-142e-4239-8781-52be70141f8d"
      },
      "execution_count": 191,
      "outputs": [
        {
          "output_type": "execute_result",
          "data": {
            "text/plain": [
              "[[2, 3, 5], [3, 6, 8], [3, 5, 2], [3, 6], [3, 7, 4], [2, 9]]"
            ]
          },
          "metadata": {},
          "execution_count": 191
        }
      ]
    },
    {
      "cell_type": "markdown",
      "source": [
        "String"
      ],
      "metadata": {
        "id": "L-U4nBjWJj1z"
      }
    },
    {
      "cell_type": "code",
      "source": [
        "v = \"Hello World\""
      ],
      "metadata": {
        "id": "_VnqBg4hGEBT"
      },
      "execution_count": 192,
      "outputs": []
    },
    {
      "cell_type": "code",
      "source": [
        "print(type(v))"
      ],
      "metadata": {
        "colab": {
          "base_uri": "https://localhost:8080/"
        },
        "id": "5dSweERCK67d",
        "outputId": "5bf84915-1604-453e-8afb-a85dd45fc846"
      },
      "execution_count": 193,
      "outputs": [
        {
          "output_type": "stream",
          "name": "stdout",
          "text": [
            "<class 'str'>\n"
          ]
        }
      ]
    },
    {
      "cell_type": "code",
      "source": [
        "v.capitalize()"
      ],
      "metadata": {
        "colab": {
          "base_uri": "https://localhost:8080/",
          "height": 35
        },
        "id": "p6W9xVKcLE9z",
        "outputId": "a42e8d94-703d-4361-b0a3-2766d1aae5f5"
      },
      "execution_count": 194,
      "outputs": [
        {
          "output_type": "execute_result",
          "data": {
            "text/plain": [
              "'Hello world'"
            ],
            "application/vnd.google.colaboratory.intrinsic+json": {
              "type": "string"
            }
          },
          "metadata": {},
          "execution_count": 194
        }
      ]
    },
    {
      "cell_type": "markdown",
      "source": [
        "In Python, the capitalize() method returns a copy of the original string and converts the first character of the string to a capital (uppercase) letter while making all other characters in the string lowercase letters"
      ],
      "metadata": {
        "id": "ZQWd32JhLnwN"
      }
    },
    {
      "cell_type": "code",
      "source": [
        "v.casefold()"
      ],
      "metadata": {
        "colab": {
          "base_uri": "https://localhost:8080/",
          "height": 35
        },
        "id": "ehCOvVkrLXNi",
        "outputId": "a204a760-847d-4464-fe08-31820dcf306f"
      },
      "execution_count": 195,
      "outputs": [
        {
          "output_type": "execute_result",
          "data": {
            "text/plain": [
              "'hello world'"
            ],
            "application/vnd.google.colaboratory.intrinsic+json": {
              "type": "string"
            }
          },
          "metadata": {},
          "execution_count": 195
        }
      ]
    },
    {
      "cell_type": "markdown",
      "source": [
        "The casefold() method returns a string where all the characters are in lower case"
      ],
      "metadata": {
        "id": "SPxvZkyOL2m_"
      }
    },
    {
      "cell_type": "code",
      "source": [
        "txt1 = 'Programming'\n",
        "new_str = txt1.center(20, '*')\n",
        "print('Centered String:', new_str)"
      ],
      "metadata": {
        "colab": {
          "base_uri": "https://localhost:8080/"
        },
        "id": "IFTf29paLrp0",
        "outputId": "01102dc4-34bb-4429-894c-aa7cdb45a820"
      },
      "execution_count": 196,
      "outputs": [
        {
          "output_type": "stream",
          "name": "stdout",
          "text": [
            "Centered String: ****Programming*****\n"
          ]
        }
      ]
    },
    {
      "cell_type": "code",
      "source": [
        "v.center(30,'+')"
      ],
      "metadata": {
        "colab": {
          "base_uri": "https://localhost:8080/",
          "height": 35
        },
        "id": "WaUHOrhQL6t0",
        "outputId": "ec8e4edd-1dff-4904-f696-8710ae2fde4e"
      },
      "execution_count": 197,
      "outputs": [
        {
          "output_type": "execute_result",
          "data": {
            "text/plain": [
              "'+++++++++Hello World++++++++++'"
            ],
            "application/vnd.google.colaboratory.intrinsic+json": {
              "type": "string"
            }
          },
          "metadata": {},
          "execution_count": 197
        }
      ]
    },
    {
      "cell_type": "code",
      "source": [
        "v = \"Hello World\""
      ],
      "metadata": {
        "id": "eZqg2Z9BOF8C"
      },
      "execution_count": 198,
      "outputs": []
    },
    {
      "cell_type": "code",
      "source": [
        "v.count('o')"
      ],
      "metadata": {
        "colab": {
          "base_uri": "https://localhost:8080/"
        },
        "id": "9Jk1unBRNp_M",
        "outputId": "3c5d61bc-21ab-4128-8b98-37000e00716d"
      },
      "execution_count": 199,
      "outputs": [
        {
          "output_type": "execute_result",
          "data": {
            "text/plain": [
              "2"
            ]
          },
          "metadata": {},
          "execution_count": 199
        }
      ]
    },
    {
      "cell_type": "code",
      "source": [
        "v.encode()"
      ],
      "metadata": {
        "colab": {
          "base_uri": "https://localhost:8080/"
        },
        "id": "zDuYWFLqNyD4",
        "outputId": "2f62e20a-1629-47a5-b0b2-0f429dbf38d8"
      },
      "execution_count": 200,
      "outputs": [
        {
          "output_type": "execute_result",
          "data": {
            "text/plain": [
              "b'Hello World'"
            ]
          },
          "metadata": {},
          "execution_count": 200
        }
      ]
    },
    {
      "cell_type": "code",
      "source": [
        " txt = \"My name is Ståle\"\n",
        "\n",
        "print(txt.encode(encoding=\"ascii\",errors=\"backslashreplace\"))\n",
        "print(txt.encode(encoding=\"ascii\",errors=\"ignore\"))\n",
        "print(txt.encode(encoding=\"ascii\",errors=\"namereplace\"))\n",
        "print(txt.encode(encoding=\"ascii\",errors=\"replace\"))\n",
        "print(txt.encode(encoding=\"ascii\",errors=\"xmlcharrefreplace\"))"
      ],
      "metadata": {
        "colab": {
          "base_uri": "https://localhost:8080/"
        },
        "id": "v3jYxdq7PET2",
        "outputId": "0f3ee58b-6dd4-4e36-c52a-abcf36405c76"
      },
      "execution_count": 201,
      "outputs": [
        {
          "output_type": "stream",
          "name": "stdout",
          "text": [
            "b'My name is St\\\\xe5le'\n",
            "b'My name is Stle'\n",
            "b'My name is St\\\\N{LATIN SMALL LETTER A WITH RING ABOVE}le'\n",
            "b'My name is St?le'\n",
            "b'My name is St&#229;le'\n"
          ]
        }
      ]
    },
    {
      "cell_type": "code",
      "source": [
        "v.endswith('d')"
      ],
      "metadata": {
        "colab": {
          "base_uri": "https://localhost:8080/"
        },
        "id": "KnDQXFOQPdnc",
        "outputId": "70b09db3-56ab-4315-e3ee-831b2e48c54a"
      },
      "execution_count": 202,
      "outputs": [
        {
          "output_type": "execute_result",
          "data": {
            "text/plain": [
              "True"
            ]
          },
          "metadata": {},
          "execution_count": 202
        }
      ]
    },
    {
      "cell_type": "code",
      "source": [
        "v.expandtabs()"
      ],
      "metadata": {
        "colab": {
          "base_uri": "https://localhost:8080/",
          "height": 35
        },
        "id": "E6vmesE6SJCK",
        "outputId": "c54a5612-5ba5-4a2a-da1a-50fd41c7f77f"
      },
      "execution_count": 203,
      "outputs": [
        {
          "output_type": "execute_result",
          "data": {
            "text/plain": [
              "'Hello World'"
            ],
            "application/vnd.google.colaboratory.intrinsic+json": {
              "type": "string"
            }
          },
          "metadata": {},
          "execution_count": 203
        }
      ]
    },
    {
      "cell_type": "code",
      "source": [
        "txt = \"H\\te\\tl\\tl\\to\"\n",
        "\n",
        "x =  txt.expandtabs(2)\n",
        "\n",
        "print(x)"
      ],
      "metadata": {
        "colab": {
          "base_uri": "https://localhost:8080/"
        },
        "id": "_lW3ubS_S0Qf",
        "outputId": "c1f85427-d5af-4038-f0a5-3e8c1b13c462"
      },
      "execution_count": 204,
      "outputs": [
        {
          "output_type": "stream",
          "name": "stdout",
          "text": [
            "H e l l o\n"
          ]
        }
      ]
    },
    {
      "cell_type": "code",
      "source": [
        "txt = \"H\\te\\tl\\tl\\to\"\n",
        "\n",
        "print(txt)\n",
        "print(txt.expandtabs())\n",
        "print(txt.expandtabs(2))\n",
        "print(txt.expandtabs(4))\n",
        "print(txt.expandtabs(10)) "
      ],
      "metadata": {
        "colab": {
          "base_uri": "https://localhost:8080/"
        },
        "id": "lb-3rvcSTDl5",
        "outputId": "785b5ba3-c245-499d-ab56-9827295eb0ac"
      },
      "execution_count": 205,
      "outputs": [
        {
          "output_type": "stream",
          "name": "stdout",
          "text": [
            "H\te\tl\tl\to\n",
            "H       e       l       l       o\n",
            "H e l l o\n",
            "H   e   l   l   o\n",
            "H         e         l         l         o\n"
          ]
        }
      ]
    },
    {
      "cell_type": "code",
      "source": [
        "v.find('o')"
      ],
      "metadata": {
        "colab": {
          "base_uri": "https://localhost:8080/"
        },
        "id": "-9QkualqTPi3",
        "outputId": "092f9254-7d03-43e4-8dcd-9be24d3574ba"
      },
      "execution_count": 206,
      "outputs": [
        {
          "output_type": "execute_result",
          "data": {
            "text/plain": [
              "4"
            ]
          },
          "metadata": {},
          "execution_count": 206
        }
      ]
    },
    {
      "cell_type": "code",
      "source": [
        "v.format()"
      ],
      "metadata": {
        "colab": {
          "base_uri": "https://localhost:8080/",
          "height": 35
        },
        "id": "ReeqoejlTR_a",
        "outputId": "a90a785c-68f0-4aa0-ccd5-c69f0f69a5d2"
      },
      "execution_count": 207,
      "outputs": [
        {
          "output_type": "execute_result",
          "data": {
            "text/plain": [
              "'Hello World'"
            ],
            "application/vnd.google.colaboratory.intrinsic+json": {
              "type": "string"
            }
          },
          "metadata": {},
          "execution_count": 207
        }
      ]
    },
    {
      "cell_type": "code",
      "source": [
        "txt = \"For only {price} dollars!\"\n",
        "print(txt.format(price = 49))"
      ],
      "metadata": {
        "colab": {
          "base_uri": "https://localhost:8080/"
        },
        "id": "sduedy6GTYRh",
        "outputId": "f7b8f09a-eba6-40c2-deaa-5526d2b88fb1"
      },
      "execution_count": 208,
      "outputs": [
        {
          "output_type": "stream",
          "name": "stdout",
          "text": [
            "For only 49 dollars!\n"
          ]
        }
      ]
    },
    {
      "cell_type": "code",
      "source": [
        "intro = \"My name is {iname}. My age is {iage}\"\n",
        "print(intro.format(iname = \"Madhura\",iage = \"20\"))"
      ],
      "metadata": {
        "colab": {
          "base_uri": "https://localhost:8080/"
        },
        "id": "BKQ-lEN4UEA9",
        "outputId": "86fa630f-eadc-4e9f-92d1-363ab9d7c4c1"
      },
      "execution_count": 209,
      "outputs": [
        {
          "output_type": "stream",
          "name": "stdout",
          "text": [
            "My name is Madhura. My age is 20\n"
          ]
        }
      ]
    },
    {
      "cell_type": "code",
      "source": [
        "v"
      ],
      "metadata": {
        "colab": {
          "base_uri": "https://localhost:8080/",
          "height": 35
        },
        "id": "oPj9tjoBmfJK",
        "outputId": "eda8e724-0653-415a-ee53-115bb8083b5b"
      },
      "execution_count": 210,
      "outputs": [
        {
          "output_type": "execute_result",
          "data": {
            "text/plain": [
              "'Hello World'"
            ],
            "application/vnd.google.colaboratory.intrinsic+json": {
              "type": "string"
            }
          },
          "metadata": {},
          "execution_count": 210
        }
      ]
    },
    {
      "cell_type": "code",
      "source": [
        "v.index('o')"
      ],
      "metadata": {
        "colab": {
          "base_uri": "https://localhost:8080/"
        },
        "id": "HdOBw1_Emluh",
        "outputId": "8bdf8d18-f725-4e11-936a-04c857d20071"
      },
      "execution_count": 211,
      "outputs": [
        {
          "output_type": "execute_result",
          "data": {
            "text/plain": [
              "4"
            ]
          },
          "metadata": {},
          "execution_count": 211
        }
      ]
    },
    {
      "cell_type": "code",
      "source": [
        "v.index(' ')"
      ],
      "metadata": {
        "colab": {
          "base_uri": "https://localhost:8080/"
        },
        "id": "iY__EGZmmnl9",
        "outputId": "068c1fc0-a3ab-4966-86a0-e05a463f1f90"
      },
      "execution_count": 212,
      "outputs": [
        {
          "output_type": "execute_result",
          "data": {
            "text/plain": [
              "5"
            ]
          },
          "metadata": {},
          "execution_count": 212
        }
      ]
    },
    {
      "cell_type": "markdown",
      "source": [
        "The isalnum() method returns True if all the characters are alphanumeric, meaning alphabet letter (a-z) and numbers (0-9)"
      ],
      "metadata": {
        "id": "xqnnw6VunFaP"
      }
    },
    {
      "cell_type": "code",
      "source": [
        "v.isalnum()"
      ],
      "metadata": {
        "colab": {
          "base_uri": "https://localhost:8080/"
        },
        "id": "3GAQA6tYmvEO",
        "outputId": "3c242f43-20a7-4290-a7e7-9bc81c1f0d08"
      },
      "execution_count": 213,
      "outputs": [
        {
          "output_type": "execute_result",
          "data": {
            "text/plain": [
              "False"
            ]
          },
          "metadata": {},
          "execution_count": 213
        }
      ]
    },
    {
      "cell_type": "markdown",
      "source": [
        "The isalpha() method returns True if all the characters are alphabet letters (a-z)"
      ],
      "metadata": {
        "id": "DROJK0Znnd9z"
      }
    },
    {
      "cell_type": "code",
      "source": [
        "txt = \"Hello\""
      ],
      "metadata": {
        "id": "7JIBvG_EnVTA"
      },
      "execution_count": 214,
      "outputs": []
    },
    {
      "cell_type": "code",
      "source": [
        "txt.isalpha()"
      ],
      "metadata": {
        "colab": {
          "base_uri": "https://localhost:8080/"
        },
        "id": "kDFwYe69m3Ec",
        "outputId": "d9469834-f513-419e-d4f7-89bab59a7474"
      },
      "execution_count": 215,
      "outputs": [
        {
          "output_type": "execute_result",
          "data": {
            "text/plain": [
              "True"
            ]
          },
          "metadata": {},
          "execution_count": 215
        }
      ]
    },
    {
      "cell_type": "code",
      "source": [
        "txt.isascii()"
      ],
      "metadata": {
        "colab": {
          "base_uri": "https://localhost:8080/"
        },
        "id": "zvbUG-sinKmc",
        "outputId": "6ef6c936-e091-44d7-f120-c63c7cb36c99"
      },
      "execution_count": 216,
      "outputs": [
        {
          "output_type": "execute_result",
          "data": {
            "text/plain": [
              "True"
            ]
          },
          "metadata": {},
          "execution_count": 216
        }
      ]
    },
    {
      "cell_type": "markdown",
      "source": [
        "The isascii() method returns True if the string is empty or all characters in the string are ASCII."
      ],
      "metadata": {
        "id": "KIc7r2JYnpY6"
      }
    },
    {
      "cell_type": "code",
      "source": [
        "num = \"1,5,6,7,5\"\n",
        "print(type(num))"
      ],
      "metadata": {
        "colab": {
          "base_uri": "https://localhost:8080/"
        },
        "id": "5T1QaRlPnwLe",
        "outputId": "808df614-c747-40af-c108-abdda0609fe2"
      },
      "execution_count": 217,
      "outputs": [
        {
          "output_type": "stream",
          "name": "stdout",
          "text": [
            "<class 'str'>\n"
          ]
        }
      ]
    },
    {
      "cell_type": "code",
      "source": [
        " txt.isdecimal()"
      ],
      "metadata": {
        "colab": {
          "base_uri": "https://localhost:8080/"
        },
        "id": "Rj_uw-RJni3E",
        "outputId": "5486a696-30f0-492c-c23a-5a8ba10392c8"
      },
      "execution_count": 218,
      "outputs": [
        {
          "output_type": "execute_result",
          "data": {
            "text/plain": [
              "False"
            ]
          },
          "metadata": {},
          "execution_count": 218
        }
      ]
    },
    {
      "cell_type": "markdown",
      "source": [
        "The isdecimal() method returns True if all the characters are decimals (0-9)."
      ],
      "metadata": {
        "id": "zi6tZUvzoPw1"
      }
    },
    {
      "cell_type": "code",
      "source": [
        "num.isdecimal()"
      ],
      "metadata": {
        "colab": {
          "base_uri": "https://localhost:8080/"
        },
        "id": "x4rPG52EnvOo",
        "outputId": "5ef71d35-d010-4989-d27f-f2e1e1a7ad2c"
      },
      "execution_count": 219,
      "outputs": [
        {
          "output_type": "execute_result",
          "data": {
            "text/plain": [
              "False"
            ]
          },
          "metadata": {},
          "execution_count": 219
        }
      ]
    },
    {
      "cell_type": "code",
      "source": [
        "num.isdigit()"
      ],
      "metadata": {
        "colab": {
          "base_uri": "https://localhost:8080/"
        },
        "id": "zT79Ni-zn_jV",
        "outputId": "214c3f0c-3840-4e06-805a-8850d9b63a0c"
      },
      "execution_count": 220,
      "outputs": [
        {
          "output_type": "execute_result",
          "data": {
            "text/plain": [
              "False"
            ]
          },
          "metadata": {},
          "execution_count": 220
        }
      ]
    },
    {
      "cell_type": "markdown",
      "source": [
        "The isidentifier() method returns True if the string is a valid identifier, otherwise False. A string is considered a valid identifier if it only contains alphanumeric letters (a-z) and (0-9), or underscores (_). A valid identifier cannot start with a number, or contain any spaces."
      ],
      "metadata": {
        "id": "M5HC-7_7ouRG"
      }
    },
    {
      "cell_type": "code",
      "source": [
        "txt.isidentifier()"
      ],
      "metadata": {
        "colab": {
          "base_uri": "https://localhost:8080/"
        },
        "id": "SPH56XDAofOL",
        "outputId": "cce3cfe6-6fee-44a3-bc6c-ebe9d31b0850"
      },
      "execution_count": 221,
      "outputs": [
        {
          "output_type": "execute_result",
          "data": {
            "text/plain": [
              "True"
            ]
          },
          "metadata": {},
          "execution_count": 221
        }
      ]
    },
    {
      "cell_type": "code",
      "source": [
        "txt.isprintable()"
      ],
      "metadata": {
        "colab": {
          "base_uri": "https://localhost:8080/"
        },
        "id": "OQjBsgBVokLe",
        "outputId": "c03ce0e9-29a6-4080-ea74-793c8a9b5d2e"
      },
      "execution_count": 222,
      "outputs": [
        {
          "output_type": "execute_result",
          "data": {
            "text/plain": [
              "True"
            ]
          },
          "metadata": {},
          "execution_count": 222
        }
      ]
    },
    {
      "cell_type": "markdown",
      "source": [
        "The istitle() method returns True if all words in a text start with a upper case letter, AND the rest of the word are lower case letters, otherwise False. Symbols and numbers are ignored.\n"
      ],
      "metadata": {
        "id": "E3Z9CJj2pPmz"
      }
    },
    {
      "cell_type": "code",
      "source": [
        "v.istitle()"
      ],
      "metadata": {
        "colab": {
          "base_uri": "https://localhost:8080/"
        },
        "id": "ZRC_e6dro4Tr",
        "outputId": "acf9ecab-8c94-4a6c-c883-cc84d6e38255"
      },
      "execution_count": 223,
      "outputs": [
        {
          "output_type": "execute_result",
          "data": {
            "text/plain": [
              "True"
            ]
          },
          "metadata": {},
          "execution_count": 223
        }
      ]
    },
    {
      "cell_type": "markdown",
      "source": [
        "The isupper() method returns True if all the characters are in upper case, otherwise False. Numbers, symbols and spaces are not checked, only alphabet characters"
      ],
      "metadata": {
        "id": "Tky9WSYRpZ5c"
      }
    },
    {
      "cell_type": "code",
      "source": [
        "v.isupper()"
      ],
      "metadata": {
        "colab": {
          "base_uri": "https://localhost:8080/"
        },
        "id": "w9uCYnLNpOw_",
        "outputId": "865ffc01-2308-462e-8ce6-17c57080180b"
      },
      "execution_count": 224,
      "outputs": [
        {
          "output_type": "execute_result",
          "data": {
            "text/plain": [
              "False"
            ]
          },
          "metadata": {},
          "execution_count": 224
        }
      ]
    },
    {
      "cell_type": "code",
      "source": [
        "my_name = \"Madhura\"\n",
        "surname = \"Ahirkar\"\n",
        "my_name.join(surname)"
      ],
      "metadata": {
        "colab": {
          "base_uri": "https://localhost:8080/",
          "height": 35
        },
        "id": "N-hyb_-Jpb00",
        "outputId": "db95cdaa-28c5-4c65-b0cd-3b8b2def06d8"
      },
      "execution_count": 225,
      "outputs": [
        {
          "output_type": "execute_result",
          "data": {
            "text/plain": [
              "'AMadhurahMadhuraiMadhurarMadhurakMadhuraaMadhurar'"
            ],
            "application/vnd.google.colaboratory.intrinsic+json": {
              "type": "string"
            }
          },
          "metadata": {},
          "execution_count": 225
        }
      ]
    },
    {
      "cell_type": "code",
      "source": [
        "my_name = \"Madhura\"\n",
        "numb = \"1,2,3,4,5,6,7\""
      ],
      "metadata": {
        "id": "fly53hB6qFV8"
      },
      "execution_count": 226,
      "outputs": []
    },
    {
      "cell_type": "code",
      "source": [
        "my_name.join(numb)"
      ],
      "metadata": {
        "colab": {
          "base_uri": "https://localhost:8080/",
          "height": 35
        },
        "id": "SoZkIqEHq4Gu",
        "outputId": "b0927b82-fee0-47dd-921f-0d54ceedb473"
      },
      "execution_count": 227,
      "outputs": [
        {
          "output_type": "execute_result",
          "data": {
            "text/plain": [
              "'1Madhura,Madhura2Madhura,Madhura3Madhura,Madhura4Madhura,Madhura5Madhura,Madhura6Madhura,Madhura7'"
            ],
            "application/vnd.google.colaboratory.intrinsic+json": {
              "type": "string"
            }
          },
          "metadata": {},
          "execution_count": 227
        }
      ]
    },
    {
      "cell_type": "markdown",
      "source": [
        "The ljust() method will left align the string, using a specified character (space is default) as the fill character."
      ],
      "metadata": {
        "id": "3XvaLOYOsXNz"
      }
    },
    {
      "cell_type": "code",
      "source": [
        "txt = \"banana\"\n",
        "\n",
        "x = txt.ljust(50)\n",
        "\n",
        "print(x, \"is my favorite fruit.\") "
      ],
      "metadata": {
        "colab": {
          "base_uri": "https://localhost:8080/"
        },
        "id": "qCwktGXusgWn",
        "outputId": "9ad5d9cc-6bdb-461c-b6e0-78d2378eb423"
      },
      "execution_count": 228,
      "outputs": [
        {
          "output_type": "stream",
          "name": "stdout",
          "text": [
            "banana                                             is my favorite fruit.\n"
          ]
        }
      ]
    },
    {
      "cell_type": "code",
      "source": [
        "para = \"Hello , How are you\""
      ],
      "metadata": {
        "id": "WYngXuo1rvCq"
      },
      "execution_count": 229,
      "outputs": []
    },
    {
      "cell_type": "code",
      "source": [
        "para.ljust(50,\"k\")"
      ],
      "metadata": {
        "colab": {
          "base_uri": "https://localhost:8080/",
          "height": 35
        },
        "id": "1W-Ht3uIsHtD",
        "outputId": "d7dab394-c96e-440f-948c-9b2d823cc7f4"
      },
      "execution_count": 230,
      "outputs": [
        {
          "output_type": "execute_result",
          "data": {
            "text/plain": [
              "'Hello , How are youkkkkkkkkkkkkkkkkkkkkkkkkkkkkkkk'"
            ],
            "application/vnd.google.colaboratory.intrinsic+json": {
              "type": "string"
            }
          },
          "metadata": {},
          "execution_count": 230
        }
      ]
    },
    {
      "cell_type": "code",
      "source": [
        "txt = \"banana\"\n",
        "\n",
        "x = txt.ljust(20, \"O\")\n",
        "\n",
        "print(x)"
      ],
      "metadata": {
        "colab": {
          "base_uri": "https://localhost:8080/"
        },
        "id": "tKD_vBYasyVH",
        "outputId": "6d783b6e-1154-4878-d889-91f1ce15837b"
      },
      "execution_count": 231,
      "outputs": [
        {
          "output_type": "stream",
          "name": "stdout",
          "text": [
            "bananaOOOOOOOOOOOOOO\n"
          ]
        }
      ]
    }
  ]
}