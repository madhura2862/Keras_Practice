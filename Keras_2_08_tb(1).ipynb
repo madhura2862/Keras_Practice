{
  "nbformat": 4,
  "nbformat_minor": 0,
  "metadata": {
    "colab": {
      "name": "Keras_2-08_tb.ipynb",
      "provenance": [],
      "collapsed_sections": []
    },
    "kernelspec": {
      "name": "python3",
      "display_name": "Python 3"
    },
    "language_info": {
      "name": "python"
    },
    "accelerator": "GPU",
    "gpuClass": "standard"
  },
  "cells": [
    {
      "cell_type": "code",
      "execution_count": null,
      "metadata": {
        "colab": {
          "base_uri": "https://localhost:8080/"
        },
        "id": "1jcvNhvmgSu1",
        "outputId": "b128741b-dc51-4625-fe8d-64eba77a1e5a"
      },
      "outputs": [
        {
          "output_type": "stream",
          "name": "stdout",
          "text": [
            "Looking in indexes: https://pypi.org/simple, https://us-python.pkg.dev/colab-wheels/public/simple/\n",
            "Collecting tf\n",
            "  Downloading tf-1.0.0.tar.gz (620 bytes)\n",
            "Building wheels for collected packages: tf\n",
            "  Building wheel for tf (setup.py) ... \u001b[?25l\u001b[?25hdone\n",
            "  Created wheel for tf: filename=tf-1.0.0-py3-none-any.whl size=1285 sha256=a241f727013e4971564c77f8b83f4e96829e39a1f52606eaf4ca4413a9d42ec6\n",
            "  Stored in directory: /root/.cache/pip/wheels/db/c7/58/cca67875b41ff853d3fdaa20b54a780ef2e045fbcacaef1ee3\n",
            "Successfully built tf\n",
            "Installing collected packages: tf\n",
            "Successfully installed tf-1.0.0\n"
          ]
        }
      ],
      "source": [
        "pip install tf"
      ]
    },
    {
      "cell_type": "code",
      "source": [
        "#importing libraries\n",
        "from tensorflow.keras.datasets import cifar10\n",
        "from tensorflow.keras.models import Sequential\n",
        "from tensorflow.keras.layers import Dense, Flatten, Conv2D\n",
        "from tensorflow.keras.losses import sparse_categorical_crossentropy\n",
        "from tensorflow.keras.optimizers import Adam"
      ],
      "metadata": {
        "id": "CfxvmxnWk3Kk"
      },
      "execution_count": null,
      "outputs": []
    },
    {
      "cell_type": "code",
      "source": [
        "# Model configuration\n",
        "batch_size = 50\n",
        "img_width, img_height, img_num_channels = 32, 32, 3\n",
        "loss_function = sparse_categorical_crossentropy\n",
        "no_classes = 10\n",
        "no_epochs = 20\n",
        "optimizer = Adam()\n",
        "validation_split = 0.2\n",
        "verbosity = 1"
      ],
      "metadata": {
        "id": "qxfkT6l8nhZq"
      },
      "execution_count": null,
      "outputs": []
    },
    {
      "cell_type": "code",
      "source": [
        "# Load CIFAR-10 data\n",
        "(input_train, target_train), (input_test, target_test) = cifar10.load_data()"
      ],
      "metadata": {
        "id": "1bnXhkTynz7C",
        "colab": {
          "base_uri": "https://localhost:8080/"
        },
        "outputId": "b8cc645c-51c0-41d0-df96-f7237a70aaec"
      },
      "execution_count": null,
      "outputs": [
        {
          "output_type": "stream",
          "name": "stdout",
          "text": [
            "Downloading data from https://www.cs.toronto.edu/~kriz/cifar-10-python.tar.gz\n",
            "170500096/170498071 [==============================] - 13s 0us/step\n",
            "170508288/170498071 [==============================] - 13s 0us/step\n"
          ]
        }
      ]
    },
    {
      "cell_type": "code",
      "source": [
        "# Determine shape of the data\n",
        "input_shape = (img_width, img_height, img_num_channels)"
      ],
      "metadata": {
        "id": "HVyJtiZmn5tH"
      },
      "execution_count": null,
      "outputs": []
    },
    {
      "cell_type": "code",
      "source": [
        "# Parse numbers as floats\n",
        "input_train = input_train.astype('float32')\n",
        "input_test = input_test.astype('float32')"
      ],
      "metadata": {
        "id": "ZCRjEFLMoDrT"
      },
      "execution_count": null,
      "outputs": []
    },
    {
      "cell_type": "code",
      "source": [
        "# Scale data\n",
        "input_train = input_train / 255\n",
        "input_test = input_test / 255"
      ],
      "metadata": {
        "id": "G9wCvtPxoJMQ"
      },
      "execution_count": null,
      "outputs": []
    },
    {
      "cell_type": "code",
      "source": [
        "# Create the model\n",
        "model = Sequential()\n",
        "model.add(Conv2D(32, kernel_size=(3, 3), activation='relu', input_shape=input_shape))\n",
        "model.add(Conv2D(64, kernel_size=(3, 3), activation='relu'))\n",
        "model.add(Conv2D(128, kernel_size=(3, 3), activation='relu'))\n",
        "model.add(Flatten())\n",
        "model.add(Dense(128, activation='relu'))\n",
        "model.add(Dense(no_classes, activation='softmax'))\n",
        "log_dir = \"logs/fit/\" + datetime.datetime.now().strftime(\"%Y%m%d-%H%M%S\")\n",
        "tensorboard_callback = tf.keras.callbacks.TensorBoard(log_dir=log_dir, histogram_freq=1)\n"
      ],
      "metadata": {
        "id": "zy3FUOlIoLa2"
      },
      "execution_count": null,
      "outputs": []
    },
    {
      "cell_type": "code",
      "source": [
        "# Compile the model\n",
        "model.compile(loss=loss_function,\n",
        "              optimizer=optimizer,\n",
        "              metrics=['accuracy'])"
      ],
      "metadata": {
        "id": "C6N4WGANozGD"
      },
      "execution_count": null,
      "outputs": []
    },
    {
      "cell_type": "code",
      "source": [
        "# Fit data to model\n",
        "history = model.fit(input_train, target_train,\n",
        "            batch_size=batch_size,\n",
        "            epochs=no_epochs,\n",
        "            verbose=verbosity,\n",
        "            validation_split=validation_split, \n",
        "            callbacks=[tensorboard_callback])\n"
      ],
      "metadata": {
        "colab": {
          "base_uri": "https://localhost:8080/"
        },
        "id": "s6eHGGMm_BVV",
        "outputId": "fef70754-cf11-4a79-a45d-42cd69cc4099"
      },
      "execution_count": null,
      "outputs": [
        {
          "output_type": "stream",
          "name": "stdout",
          "text": [
            "Epoch 1/20\n",
            "800/800 [==============================] - 14s 16ms/step - loss: 1.9257 - accuracy: 0.3002 - val_loss: 1.8008 - val_accuracy: 0.3360\n",
            "Epoch 2/20\n",
            "800/800 [==============================] - 12s 15ms/step - loss: 1.7357 - accuracy: 0.3640 - val_loss: 1.7088 - val_accuracy: 0.3741\n",
            "Epoch 3/20\n",
            "800/800 [==============================] - 12s 15ms/step - loss: 1.6585 - accuracy: 0.3963 - val_loss: 1.6663 - val_accuracy: 0.3929\n",
            "Epoch 4/20\n",
            "800/800 [==============================] - 12s 15ms/step - loss: 1.6048 - accuracy: 0.4155 - val_loss: 1.6265 - val_accuracy: 0.4147\n",
            "Epoch 5/20\n",
            "800/800 [==============================] - 12s 15ms/step - loss: 1.5641 - accuracy: 0.4315 - val_loss: 1.6379 - val_accuracy: 0.4112\n",
            "Epoch 6/20\n",
            "800/800 [==============================] - 12s 15ms/step - loss: 1.5319 - accuracy: 0.4463 - val_loss: 1.5878 - val_accuracy: 0.4274\n",
            "Epoch 7/20\n",
            "800/800 [==============================] - 12s 15ms/step - loss: 1.5062 - accuracy: 0.4561 - val_loss: 1.5848 - val_accuracy: 0.4289\n",
            "Epoch 8/20\n",
            "800/800 [==============================] - 12s 15ms/step - loss: 1.4798 - accuracy: 0.4651 - val_loss: 1.5641 - val_accuracy: 0.4340\n",
            "Epoch 9/20\n",
            "800/800 [==============================] - 12s 15ms/step - loss: 1.4543 - accuracy: 0.4777 - val_loss: 1.5504 - val_accuracy: 0.4427\n",
            "Epoch 10/20\n",
            "800/800 [==============================] - 12s 15ms/step - loss: 1.4349 - accuracy: 0.4832 - val_loss: 1.5505 - val_accuracy: 0.4428\n",
            "Epoch 11/20\n",
            "800/800 [==============================] - 12s 15ms/step - loss: 1.3601 - accuracy: 0.5115 - val_loss: 1.4226 - val_accuracy: 0.4899\n",
            "Epoch 12/20\n",
            "800/800 [==============================] - 12s 15ms/step - loss: 1.2246 - accuracy: 0.5609 - val_loss: 1.3434 - val_accuracy: 0.5134\n",
            "Epoch 13/20\n",
            "800/800 [==============================] - 12s 15ms/step - loss: 1.1208 - accuracy: 0.5998 - val_loss: 1.3661 - val_accuracy: 0.5190\n",
            "Epoch 14/20\n",
            "800/800 [==============================] - 12s 15ms/step - loss: 1.0453 - accuracy: 0.6295 - val_loss: 1.4129 - val_accuracy: 0.5220\n",
            "Epoch 15/20\n",
            "800/800 [==============================] - 12s 15ms/step - loss: 0.9648 - accuracy: 0.6587 - val_loss: 1.4129 - val_accuracy: 0.5206\n",
            "Epoch 16/20\n",
            "800/800 [==============================] - 12s 15ms/step - loss: 0.8934 - accuracy: 0.6847 - val_loss: 1.4745 - val_accuracy: 0.5070\n",
            "Epoch 17/20\n",
            "800/800 [==============================] - 12s 15ms/step - loss: 0.8207 - accuracy: 0.7093 - val_loss: 1.5331 - val_accuracy: 0.5046\n",
            "Epoch 18/20\n",
            "800/800 [==============================] - 12s 15ms/step - loss: 0.7467 - accuracy: 0.7377 - val_loss: 1.6393 - val_accuracy: 0.4999\n",
            "Epoch 19/20\n",
            "800/800 [==============================] - 12s 15ms/step - loss: 0.6805 - accuracy: 0.7614 - val_loss: 1.7275 - val_accuracy: 0.4828\n",
            "Epoch 20/20\n",
            "800/800 [==============================] - 12s 15ms/step - loss: 0.6106 - accuracy: 0.7880 - val_loss: 1.8794 - val_accuracy: 0.4865\n"
          ]
        }
      ]
    },
    {
      "cell_type": "code",
      "source": [
        "# Generate generalization metrics\n",
        "score = model.evaluate(input_test, target_test, verbose=0)\n",
        "print(f'Test loss: {score[0]} / Testaccuracy: {score[1]}')"
      ],
      "metadata": {
        "colab": {
          "base_uri": "https://localhost:8080/"
        },
        "id": "a2dG1nwppCou",
        "outputId": "c522c9d5-5987-4310-dee4-b7a6f90bd97a"
      },
      "execution_count": null,
      "outputs": [
        {
          "output_type": "stream",
          "name": "stdout",
          "text": [
            "Test loss: 1.878622055053711 / Testaccuracy: 0.4893999993801117\n"
          ]
        }
      ]
    },
    {
      "cell_type": "code",
      "source": [
        "# Load the TensorBoard notebook extension\n",
        "%load_ext tensorboard"
      ],
      "metadata": {
        "colab": {
          "base_uri": "https://localhost:8080/"
        },
        "id": "E401pp7jF2Mm",
        "outputId": "fc89e528-3fb7-4e15-9d1e-4d49bc0d46d6"
      },
      "execution_count": null,
      "outputs": [
        {
          "output_type": "stream",
          "name": "stdout",
          "text": [
            "The tensorboard extension is already loaded. To reload it, use:\n",
            "  %reload_ext tensorboard\n"
          ]
        }
      ]
    },
    {
      "cell_type": "code",
      "source": [
        "import tensorflow as tf\n",
        "import datetime"
      ],
      "metadata": {
        "id": "18ii3tbOF63D"
      },
      "execution_count": null,
      "outputs": []
    },
    {
      "cell_type": "code",
      "source": [
        "%tensorboard --logdir logs/fit"
      ],
      "metadata": {
        "id": "vfr0A_s6pHS1"
      },
      "execution_count": null,
      "outputs": []
    },
    {
      "cell_type": "code",
      "source": [
        "from tensorboard import notebook\n",
        "notebook.list() # View open TensorBoard instances"
      ],
      "metadata": {
        "colab": {
          "base_uri": "https://localhost:8080/"
        },
        "id": "Zaje-bIZ2JNE",
        "outputId": "b014be79-9544-4eb2-ac25-ceb9bff5690a"
      },
      "execution_count": null,
      "outputs": [
        {
          "output_type": "stream",
          "name": "stdout",
          "text": [
            "Known TensorBoard instances:\n",
            "  - port 6006: logdir logs/fit (started 0:00:38 ago; pid 1172)\n"
          ]
        }
      ]
    },
    {
      "cell_type": "code",
      "source": [
        "# Control TensorBoard display. If no port is provided, \n",
        "# the most recently launched TensorBoard is used\n",
        "notebook.display(port=6006, height=1000) "
      ],
      "metadata": {
        "id": "YRigKlau2S74"
      },
      "execution_count": null,
      "outputs": []
    },
    {
      "cell_type": "code",
      "source": [
        "!tensorboard dev upload \\\n",
        "  --logdir logs \\\n",
        "  --name \"Keras_CONV2D\" \\\n",
        "  --description \"TB\" \\\n",
        "  --one_shot"
      ],
      "metadata": {
        "colab": {
          "base_uri": "https://localhost:8080/"
        },
        "id": "JDJS0dCkDHnG",
        "outputId": "e3cf5887-4eda-4217-f955-68cd80a94762"
      },
      "execution_count": null,
      "outputs": [
        {
          "output_type": "stream",
          "name": "stdout",
          "text": [
            "\n",
            "New experiment created. View your TensorBoard at: https://tensorboard.dev/experiment/1wKot4amT7OyyCQ6wc39mw/\n",
            "\n",
            "\u001b[1m[2022-08-01T15:58:04]\u001b[0m Started scanning logdir.\n",
            "\u001b[1m[2022-08-01T15:58:06]\u001b[0m Total uploaded: 120 scalars, 200 tensors (143.6 kB), 1 binary objects (44.7 kB)\n",
            "\u001b[1m[2022-08-01T15:58:06]\u001b[0m Done scanning logdir.\n",
            "\n",
            "\n",
            "Done. View your TensorBoard at https://tensorboard.dev/experiment/1wKot4amT7OyyCQ6wc39mw/\n"
          ]
        }
      ]
    },
    {
      "cell_type": "code",
      "source": [
        ""
      ],
      "metadata": {
        "id": "jsbY7YTBDImR"
      },
      "execution_count": null,
      "outputs": []
    }
  ]
}