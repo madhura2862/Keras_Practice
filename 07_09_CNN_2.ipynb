{
  "nbformat": 4,
  "nbformat_minor": 0,
  "metadata": {
    "colab": {
      "provenance": [],
      "collapsed_sections": []
    },
    "kernelspec": {
      "name": "python3",
      "display_name": "Python 3"
    },
    "language_info": {
      "name": "python"
    },
    "accelerator": "GPU",
    "gpuClass": "standard"
  },
  "cells": [
    {
      "cell_type": "code",
      "execution_count": 1,
      "metadata": {
        "id": "LVz1UK6gAjZG"
      },
      "outputs": [],
      "source": [
        "import numpy as np\n",
        "import pandas as pd\n",
        "import cv2\n",
        "import os\n",
        "import PIL\n",
        "\n",
        "import pathlib\n",
        "from sklearn.model_selection import train_test_split\n",
        "import tensorflow as tf\n",
        "from tensorflow import keras\n",
        "from tensorflow.keras.models import Sequential\n",
        "from tensorflow.keras.layers import Conv2D,Dense,Dropout, Flatten,Activation, BatchNormalization,MaxPooling2D\n",
        "from tensorflow.keras import datasets, layers, models\n",
        "from keras.preprocessing.image import load_img\n",
        "from keras.preprocessing.image import img_to_array"
      ]
    },
    {
      "cell_type": "code",
      "execution_count": null,
      "metadata": {
        "id": "tS4AuogZtv3-"
      },
      "outputs": [],
      "source": [
        "!unzip /content/drive/MyDrive/DL_CNN.zip"
      ]
    },
    {
      "cell_type": "code",
      "execution_count": 3,
      "metadata": {
        "id": "ty9_E6jyAQHx",
        "colab": {
          "base_uri": "https://localhost:8080/"
        },
        "outputId": "c20daaa6-090b-468a-c99a-31f59ed7026c"
      },
      "outputs": [
        {
          "output_type": "stream",
          "name": "stdout",
          "text": [
            "/content/DL_CNN\n"
          ]
        }
      ],
      "source": [
        "data_dir = (\"/content/DL_CNN\")\n",
        "print(data_dir)"
      ]
    },
    {
      "cell_type": "code",
      "execution_count": 4,
      "metadata": {
        "id": "K5N66huLTf8Q",
        "colab": {
          "base_uri": "https://localhost:8080/"
        },
        "outputId": "5bc490dd-28b8-498c-e079-a77fed8a5cdc"
      },
      "outputs": [
        {
          "output_type": "stream",
          "name": "stdout",
          "text": [
            "/content/DL_CNN\n"
          ]
        },
        {
          "output_type": "execute_result",
          "data": {
            "text/plain": [
              "[PosixPath('/content/DL_CNN/Cat/5479.jpg'),\n",
              " PosixPath('/content/DL_CNN/Cat/2970.jpg'),\n",
              " PosixPath('/content/DL_CNN/Cat/2339.jpg'),\n",
              " PosixPath('/content/DL_CNN/Cat/7381.jpg'),\n",
              " PosixPath('/content/DL_CNN/Cat/7352.jpg')]"
            ]
          },
          "metadata": {},
          "execution_count": 4
        }
      ],
      "source": [
        "data_dir = pathlib.Path(\"/content/DL_CNN\")\n",
        "print(data_dir)\n",
        "list(data_dir.glob('*/*.jpg'))[:5]"
      ]
    },
    {
      "cell_type": "code",
      "execution_count": 5,
      "metadata": {
        "id": "I__XrirfTrB3",
        "colab": {
          "base_uri": "https://localhost:8080/"
        },
        "outputId": "8809abb6-6995-4a13-ee8c-99b8605ad5c6"
      },
      "outputs": [
        {
          "output_type": "execute_result",
          "data": {
            "text/plain": [
              "[PosixPath('/content/DL_CNN/Dog/2339.jpg'),\n",
              " PosixPath('/content/DL_CNN/Dog/8729.jpg'),\n",
              " PosixPath('/content/DL_CNN/Dog/2636.jpg'),\n",
              " PosixPath('/content/DL_CNN/Dog/5795.jpg'),\n",
              " PosixPath('/content/DL_CNN/Dog/1462.jpg')]"
            ]
          },
          "metadata": {},
          "execution_count": 5
        }
      ],
      "source": [
        "dogs = list(data_dir.glob('Dog/*'))\n",
        "dogs[:5]"
      ]
    },
    {
      "cell_type": "code",
      "execution_count": 6,
      "metadata": {
        "id": "7lTVpVY7Ttp-",
        "colab": {
          "base_uri": "https://localhost:8080/"
        },
        "outputId": "4b21461b-19af-4634-ccf1-97eabf63fb24"
      },
      "outputs": [
        {
          "output_type": "execute_result",
          "data": {
            "text/plain": [
              "[PosixPath('/content/DL_CNN/Cat/5479.jpg'),\n",
              " PosixPath('/content/DL_CNN/Cat/2970.jpg'),\n",
              " PosixPath('/content/DL_CNN/Cat/2339.jpg'),\n",
              " PosixPath('/content/DL_CNN/Cat/7381.jpg'),\n",
              " PosixPath('/content/DL_CNN/Cat/7352.jpg')]"
            ]
          },
          "metadata": {},
          "execution_count": 6
        }
      ],
      "source": [
        "cats = list(data_dir.glob('Cat/*'))\n",
        "cats[:5]"
      ]
    },
    {
      "cell_type": "code",
      "execution_count": 7,
      "metadata": {
        "id": "kfhTbnRrBDlF",
        "colab": {
          "base_uri": "https://localhost:8080/"
        },
        "outputId": "7b7687da-01b9-4c50-8889-9998ca10dc49"
      },
      "outputs": [
        {
          "output_type": "stream",
          "name": "stdout",
          "text": [
            "13638\n"
          ]
        }
      ],
      "source": [
        "image_count = len(list(data_dir.glob('*/*.jpg')))\n",
        "print(image_count)"
      ]
    },
    {
      "cell_type": "code",
      "execution_count": 8,
      "metadata": {
        "id": "CYLeElrQBYee"
      },
      "outputs": [],
      "source": [
        "X, Y = [], []"
      ]
    },
    {
      "cell_type": "code",
      "execution_count": null,
      "metadata": {
        "id": "MHqOiMMuBqG7"
      },
      "outputs": [],
      "source": [
        "PIL.Image.open(str(dogs[1]))"
      ]
    },
    {
      "cell_type": "code",
      "execution_count": 10,
      "metadata": {
        "id": "_7k0mbP4Ddau"
      },
      "outputs": [],
      "source": [
        "pet_images_dict = {\n",
        "    'cats': list(data_dir.glob('Cat/*')),\n",
        "    'dogs': list(data_dir.glob('Dog/*')),\n",
        "}\n",
        "\n",
        "pet_labels_dict = {\n",
        "    'cats': 0,\n",
        "    'dogs': 1,\n",
        "}"
      ]
    },
    {
      "cell_type": "code",
      "execution_count": 11,
      "metadata": {
        "colab": {
          "base_uri": "https://localhost:8080/"
        },
        "id": "CPxmp2CQT3Nn",
        "outputId": "6970e3b8-dd5c-4661-c1a0-c400bc80629b"
      },
      "outputs": [
        {
          "output_type": "stream",
          "name": "stdout",
          "text": [
            "cats\n",
            "dogs\n"
          ]
        }
      ],
      "source": [
        "IMAGE_WIDTH=150\n",
        "IMAGE_HEIGHT=150\n",
        "X, Y = [], []\n",
        "\n",
        "for pet_name, images in pet_images_dict.items():\n",
        "    print(pet_name)\n",
        "    for image in images:\n",
        "        img = cv2.imread(str(image))\n",
        "        if isinstance(img,type(None)): \n",
        "            #print('image not found')\n",
        "            continue\n",
        "            \n",
        "        elif ((img.shape[0] >= IMAGE_HEIGHT) and  (img.shape[1] >=IMAGE_WIDTH)):\n",
        "            resized_img = cv2.resize(img,(IMAGE_WIDTH,IMAGE_HEIGHT))\n",
        "            X.append(resized_img)\n",
        "            Y.append(pet_labels_dict[pet_name])\n",
        "        else:\n",
        "            #print(\"Invalid Image\")\n",
        "            continue"
      ]
    },
    {
      "cell_type": "code",
      "execution_count": 12,
      "metadata": {
        "id": "_y7QMrSADzk8"
      },
      "outputs": [],
      "source": [
        "X = np.array(X)\n",
        "Y = np.array(Y)"
      ]
    },
    {
      "cell_type": "code",
      "execution_count": 13,
      "metadata": {
        "colab": {
          "base_uri": "https://localhost:8080/"
        },
        "id": "P136Q-D7BP2M",
        "outputId": "681b9c2e-93c8-47ff-9ebe-5045909183be"
      },
      "outputs": [
        {
          "output_type": "stream",
          "name": "stdout",
          "text": [
            "9855 9855\n",
            "3286 3286\n",
            "(9855, 150, 150, 3)\n",
            "(9855,)\n",
            "(3286, 150, 150, 3)\n",
            "(3286,)\n"
          ]
        }
      ],
      "source": [
        "X_train, X_test, Y_train, Y_test = train_test_split(X, Y, random_state=0)\n",
        "print(len(X_train),len(Y_train))\n",
        "print(len(X_test),len(Y_test))\n",
        "print(X_train.shape)\n",
        "print(Y_train.shape)\n",
        "print(X_test.shape) \n",
        "print(Y_test.shape)"
      ]
    },
    {
      "cell_type": "code",
      "execution_count": 14,
      "metadata": {
        "colab": {
          "base_uri": "https://localhost:8080/"
        },
        "id": "LGO_UF9M4TQ5",
        "outputId": "aac3ad33-6a46-49f0-e21d-027aa04c7577"
      },
      "outputs": [
        {
          "output_type": "execute_result",
          "data": {
            "text/plain": [
              "3286"
            ]
          },
          "metadata": {},
          "execution_count": 14
        }
      ],
      "source": [
        "len(Y_test)"
      ]
    },
    {
      "cell_type": "code",
      "execution_count": 44,
      "metadata": {
        "id": "24fJdy48cw24"
      },
      "outputs": [],
      "source": [
        "from keras import layers\n",
        "from keras import models\n",
        "model = models.Sequential()\n",
        "model.add(layers.Conv2D(4, (3, 3), activation='relu',input_shape=(150, 150, 3)))\n",
        "model.add(layers.MaxPooling2D((2, 2)))\n",
        "model.add(layers.Conv2D(4, (3, 3), activation='relu'))\n",
        "model.add(layers.MaxPooling2D((2, 2)))\n",
        "model.add(layers.Conv2D(4, (3, 3), activation='relu'))\n",
        "model.add(layers.Flatten())\n",
        "model.add(layers.Dense(1, activation='sigmoid'))"
      ]
    },
    {
      "cell_type": "code",
      "execution_count": 45,
      "metadata": {
        "colab": {
          "base_uri": "https://localhost:8080/"
        },
        "id": "S2kvf3J7EI_D",
        "outputId": "6ae579c8-f083-4a3c-cab5-ff311204d5a3"
      },
      "outputs": [
        {
          "output_type": "stream",
          "name": "stdout",
          "text": [
            "Model: \"sequential_5\"\n",
            "_________________________________________________________________\n",
            " Layer (type)                Output Shape              Param #   \n",
            "=================================================================\n",
            " conv2d_15 (Conv2D)          (None, 148, 148, 4)       112       \n",
            "                                                                 \n",
            " max_pooling2d_10 (MaxPoolin  (None, 74, 74, 4)        0         \n",
            " g2D)                                                            \n",
            "                                                                 \n",
            " conv2d_16 (Conv2D)          (None, 72, 72, 4)         148       \n",
            "                                                                 \n",
            " max_pooling2d_11 (MaxPoolin  (None, 36, 36, 4)        0         \n",
            " g2D)                                                            \n",
            "                                                                 \n",
            " conv2d_17 (Conv2D)          (None, 34, 34, 4)         148       \n",
            "                                                                 \n",
            " flatten_5 (Flatten)         (None, 4624)              0         \n",
            "                                                                 \n",
            " dense_5 (Dense)             (None, 1)                 4625      \n",
            "                                                                 \n",
            "=================================================================\n",
            "Total params: 5,033\n",
            "Trainable params: 5,033\n",
            "Non-trainable params: 0\n",
            "_________________________________________________________________\n"
          ]
        }
      ],
      "source": [
        "model.summary()"
      ]
    },
    {
      "cell_type": "code",
      "execution_count": 46,
      "metadata": {
        "id": "zbCAshDlIpaq",
        "colab": {
          "base_uri": "https://localhost:8080/"
        },
        "outputId": "838477fd-a75a-4f85-ff31-d8e5aa5953a9"
      },
      "outputs": [
        {
          "output_type": "stream",
          "name": "stdout",
          "text": [
            "mkdir: cannot create directory ‘CNN-Model’: File exists\n"
          ]
        }
      ],
      "source": [
        "mkdir CNN-Model"
      ]
    },
    {
      "cell_type": "code",
      "execution_count": 47,
      "metadata": {
        "id": "MlA9ss3iIknC"
      },
      "outputs": [],
      "source": [
        "backup_dir = \"/content/CNN-Model\""
      ]
    },
    {
      "cell_type": "code",
      "execution_count": 48,
      "metadata": {
        "id": "wtT_0_ivEoHS"
      },
      "outputs": [],
      "source": [
        "import tensorflow as tf\n",
        "call_backs = [tf.keras.callbacks.TensorBoard(log_dir='./reduced8'),\n",
        "              tf.keras.callbacks.BackupAndRestore(backup_dir),\n",
        "              tf.keras.callbacks.ModelCheckpoint(\"/content/CNN-Model\",monitor=\"val_loss\",save_best_only=True,save_weights_only=True,mode=\"auto\",save_freq=\"epoch\",\n",
        "    \n",
        ")]"
      ]
    },
    {
      "cell_type": "code",
      "source": [
        "model.compile(optimizer=\"adam\",\n",
        "              loss=tf.keras.losses.BinaryCrossentropy(),metrics=['accuracy'])\n",
        "history = model.fit(X_train, Y_train, epochs=15,validation_data=(X_test, Y_test),callbacks = call_backs)"
      ],
      "metadata": {
        "colab": {
          "base_uri": "https://localhost:8080/"
        },
        "id": "hlJLcqnpI003",
        "outputId": "f9e5de84-de24-442f-8996-02771698654d"
      },
      "execution_count": 49,
      "outputs": [
        {
          "output_type": "stream",
          "name": "stdout",
          "text": [
            "Epoch 10/15\n",
            "308/308 [==============================] - 5s 14ms/step - loss: 0.2899 - accuracy: 0.9160 - val_loss: 0.2832 - val_accuracy: 0.9184\n",
            "Epoch 11/15\n",
            "308/308 [==============================] - 4s 12ms/step - loss: 0.2887 - accuracy: 0.9160 - val_loss: 0.2831 - val_accuracy: 0.9184\n",
            "Epoch 12/15\n",
            "308/308 [==============================] - 4s 12ms/step - loss: 0.2886 - accuracy: 0.9160 - val_loss: 0.2827 - val_accuracy: 0.9184\n",
            "Epoch 13/15\n",
            "308/308 [==============================] - 4s 12ms/step - loss: 0.2887 - accuracy: 0.9160 - val_loss: 0.2826 - val_accuracy: 0.9184\n",
            "Epoch 14/15\n",
            "308/308 [==============================] - 4s 11ms/step - loss: 0.2886 - accuracy: 0.9160 - val_loss: 0.2826 - val_accuracy: 0.9184\n",
            "Epoch 15/15\n",
            "308/308 [==============================] - 4s 13ms/step - loss: 0.2887 - accuracy: 0.9160 - val_loss: 0.2826 - val_accuracy: 0.9184\n"
          ]
        }
      ]
    },
    {
      "cell_type": "code",
      "execution_count": null,
      "metadata": {
        "id": "1EzsZmpvI8Sc"
      },
      "outputs": [],
      "source": [
        "model.save('cnn_catvsdog.h5')"
      ]
    },
    {
      "cell_type": "code",
      "execution_count": null,
      "metadata": {
        "colab": {
          "base_uri": "https://localhost:8080/"
        },
        "id": "TXSVpaC4y2MH",
        "outputId": "7a3e746d-be0e-4179-b14d-f02e7b506ff1"
      },
      "outputs": [
        {
          "output_type": "stream",
          "name": "stdout",
          "text": [
            "103/103 [==============================] - 1s 6ms/step - loss: 0.6676 - accuracy: 0.8694\n"
          ]
        }
      ],
      "source": [
        "test_loss, test_acc = model.evaluate(X_test,  Y_test)"
      ]
    },
    {
      "cell_type": "code",
      "execution_count": null,
      "metadata": {
        "colab": {
          "base_uri": "https://localhost:8080/"
        },
        "id": "wI-LDE2S4FhL",
        "outputId": "72550bd2-0b5c-486e-b29f-7ed7f5a093cf"
      },
      "outputs": [
        {
          "output_type": "execute_result",
          "data": {
            "text/plain": [
              "86.94461584091187"
            ]
          },
          "metadata": {},
          "execution_count": 151
        }
      ],
      "source": [
        "test_acc*100"
      ]
    },
    {
      "cell_type": "code",
      "execution_count": null,
      "metadata": {
        "id": "vswAi7fN16qd"
      },
      "outputs": [],
      "source": [
        "x = model.predict(X_test)"
      ]
    },
    {
      "cell_type": "code",
      "execution_count": null,
      "metadata": {
        "colab": {
          "base_uri": "https://localhost:8080/"
        },
        "id": "cgHRL3nf6rw7",
        "outputId": "0192319f-103e-4f8b-b44f-c3f1db0fea18"
      },
      "outputs": [
        {
          "output_type": "execute_result",
          "data": {
            "text/plain": [
              "array([[1.2786014e-01],\n",
              "       [7.4671054e-01],\n",
              "       [2.5316641e-07],\n",
              "       ...,\n",
              "       [6.4983493e-01],\n",
              "       [2.6352942e-02],\n",
              "       [3.5700354e-01]], dtype=float32)"
            ]
          },
          "metadata": {},
          "execution_count": 131
        }
      ],
      "source": [
        "x"
      ]
    },
    {
      "cell_type": "code",
      "execution_count": null,
      "metadata": {
        "colab": {
          "base_uri": "https://localhost:8080/"
        },
        "id": "549gwHJXlZ9z",
        "outputId": "519d329f-2fbe-4bef-cc06-9403739ceba8"
      },
      "outputs": [
        {
          "output_type": "execute_result",
          "data": {
            "text/plain": [
              "array([[0.12786005],\n",
              "       [0.7467105 ]], dtype=float32)"
            ]
          },
          "metadata": {},
          "execution_count": 132
        }
      ],
      "source": [
        "model.predict(X_test[:2])"
      ]
    },
    {
      "cell_type": "code",
      "execution_count": null,
      "metadata": {
        "colab": {
          "base_uri": "https://localhost:8080/"
        },
        "id": "S5LduTxv5qKY",
        "outputId": "0ee3991c-6dd5-4cbd-e627-5cfd9a0c8202"
      },
      "outputs": [
        {
          "output_type": "stream",
          "name": "stdout",
          "text": [
            "[0.19007336]\n"
          ]
        }
      ],
      "source": [
        "print(x[10])"
      ]
    },
    {
      "cell_type": "code",
      "execution_count": null,
      "metadata": {
        "colab": {
          "base_uri": "https://localhost:8080/"
        },
        "id": "bPoAQ3SA3j5o",
        "outputId": "b6c39eba-132b-480d-c668-5bbf1018a871"
      },
      "outputs": [
        {
          "output_type": "stream",
          "name": "stdout",
          "text": [
            "(3286, 1)\n"
          ]
        }
      ],
      "source": [
        "print(x.shape)"
      ]
    },
    {
      "cell_type": "code",
      "execution_count": null,
      "metadata": {
        "colab": {
          "base_uri": "https://localhost:8080/"
        },
        "id": "mrwIgtsd3n4V",
        "outputId": "e24f4365-66f6-4b00-fad1-042ef53351e3"
      },
      "outputs": [
        {
          "output_type": "execute_result",
          "data": {
            "text/plain": [
              "array([0.12786014], dtype=float32)"
            ]
          },
          "metadata": {},
          "execution_count": 135
        }
      ],
      "source": [
        "\n",
        "\n",
        "x[0]"
      ]
    },
    {
      "cell_type": "code",
      "execution_count": null,
      "metadata": {
        "colab": {
          "base_uri": "https://localhost:8080/",
          "height": 35
        },
        "id": "eOA1JfXhXpqu",
        "outputId": "b882a468-b6b3-4676-b96a-d7304ce486a2"
      },
      "outputs": [
        {
          "output_type": "execute_result",
          "data": {
            "text/plain": [
              "'/content/cnn_catvsdog.h5'"
            ],
            "application/vnd.google.colaboratory.intrinsic+json": {
              "type": "string"
            }
          },
          "metadata": {},
          "execution_count": 136
        }
      ],
      "source": [
        "m = (\"/content/cnn_catvsdog.h5\")\n",
        "m"
      ]
    },
    {
      "cell_type": "code",
      "execution_count": null,
      "metadata": {
        "id": "NM4WtqFrJOQU",
        "colab": {
          "base_uri": "https://localhost:8080/"
        },
        "outputId": "e739c7aa-aee9-420b-feff-83e18edf211b"
      },
      "outputs": [
        {
          "output_type": "stream",
          "name": "stdout",
          "text": [
            "The tensorboard extension is already loaded. To reload it, use:\n",
            "  %reload_ext tensorboard\n"
          ]
        }
      ],
      "source": [
        "%load_ext tensorboard"
      ]
    },
    {
      "cell_type": "code",
      "execution_count": null,
      "metadata": {
        "id": "h1_Y9XMzy3UM"
      },
      "outputs": [],
      "source": [
        "\n",
        "import tensorflow as tf\n",
        "import datetime"
      ]
    },
    {
      "cell_type": "code",
      "execution_count": null,
      "metadata": {
        "colab": {
          "base_uri": "https://localhost:8080/",
          "height": 821
        },
        "id": "g9MdCdumzDwd",
        "outputId": "a576fd0e-d13c-482a-b9ce-5dbb9b824b4d"
      },
      "outputs": [
        {
          "output_type": "display_data",
          "data": {
            "text/plain": [
              "<IPython.core.display.Javascript object>"
            ],
            "application/javascript": [
              "\n",
              "        (async () => {\n",
              "            const url = new URL(await google.colab.kernel.proxyPort(6012, {'cache': true}));\n",
              "            url.searchParams.set('tensorboardColab', 'true');\n",
              "            const iframe = document.createElement('iframe');\n",
              "            iframe.src = url;\n",
              "            iframe.setAttribute('width', '100%');\n",
              "            iframe.setAttribute('height', '800');\n",
              "            iframe.setAttribute('frameborder', 0);\n",
              "            document.body.appendChild(iframe);\n",
              "        })();\n",
              "    "
            ]
          },
          "metadata": {}
        }
      ],
      "source": [
        "%tensorboard --logdir reduced7/fit"
      ]
    },
    {
      "cell_type": "code",
      "execution_count": null,
      "metadata": {
        "colab": {
          "base_uri": "https://localhost:8080/"
        },
        "id": "EeH3EQypzKem",
        "outputId": "e088529c-b2f2-48bc-e8f8-f1d4e026d7bd"
      },
      "outputs": [
        {
          "output_type": "stream",
          "name": "stdout",
          "text": [
            "Known TensorBoard instances:\n",
            "  - port 6011: logdir reduced6/fit (started 0:04:28 ago; pid 2011)\n",
            "  - port 6010: logdir reduced5/fit (started 0:08:03 ago; pid 1781)\n",
            "  - port 6007: logdir log/fit (started 0:38:34 ago; pid 869)\n",
            "  - port 6008: logdir reduced3/fit (started 0:23:44 ago; pid 1235)\n",
            "  - port 6006: logdir reduced2/fit (started 0:43:53 ago; pid 757)\n",
            "  - port 6009: logdir reduced4/fit (started 0:12:07 ago; pid 1554)\n",
            "  - port 6012: logdir reduced7/fit (started 0:00:01 ago; pid 2237)\n"
          ]
        }
      ],
      "source": [
        "from tensorboard import notebook\n",
        "notebook.list() # View open TensorBoard instances"
      ]
    },
    {
      "cell_type": "code",
      "execution_count": null,
      "metadata": {
        "colab": {
          "base_uri": "https://localhost:8080/",
          "height": 1000
        },
        "id": "pHqMDEXOzLDC",
        "outputId": "47700346-6d82-44d5-ae2e-10f7c3b8df75"
      },
      "outputs": [
        {
          "output_type": "stream",
          "name": "stdout",
          "text": [
            "Selecting TensorBoard with logdir reduced2/fit (started 0:43:53 ago; port 6006, pid 757).\n"
          ]
        },
        {
          "output_type": "display_data",
          "data": {
            "text/plain": [
              "<IPython.core.display.Javascript object>"
            ],
            "application/javascript": [
              "\n",
              "        (async () => {\n",
              "            const url = new URL(await google.colab.kernel.proxyPort(6006, {'cache': true}));\n",
              "            url.searchParams.set('tensorboardColab', 'true');\n",
              "            const iframe = document.createElement('iframe');\n",
              "            iframe.src = url;\n",
              "            iframe.setAttribute('width', '100%');\n",
              "            iframe.setAttribute('height', '1000');\n",
              "            iframe.setAttribute('frameborder', 0);\n",
              "            document.body.appendChild(iframe);\n",
              "        })();\n",
              "    "
            ]
          },
          "metadata": {}
        }
      ],
      "source": [
        "# Control TensorBoard display. If no port is provided, \n",
        "# the most recently launched TensorBoard is used\n",
        "notebook.display(port=6006, height=1000)"
      ]
    },
    {
      "cell_type": "code",
      "source": [
        "!tensorboard dev upload \\\n",
        "  --logdir reduced7 \\\n",
        "  --name \"CATVSDOG_CNN\" \\\n",
        "  --description \"TB\" \\\n",
        "  --one_shot"
      ],
      "metadata": {
        "colab": {
          "base_uri": "https://localhost:8080/"
        },
        "id": "rZ-8TItUvgoh",
        "outputId": "19ce58b9-2510-4986-bd92-3064c01a0c78"
      },
      "execution_count": null,
      "outputs": [
        {
          "output_type": "stream",
          "name": "stdout",
          "text": [
            "\n",
            "New experiment created. View your TensorBoard at: https://tensorboard.dev/experiment/ivKkF3YoR0eOUjeQd6jB8g/\n",
            "\n",
            "\u001b[1m[2022-09-07T12:02:00]\u001b[0m Started scanning logdir.\n",
            "\u001b[1m[2022-09-07T12:02:02]\u001b[0m Total uploaded: 90 scalars, 0 tensors, 1 binary objects (46.8 kB)\n",
            "\u001b[1m[2022-09-07T12:02:02]\u001b[0m Done scanning logdir.\n",
            "\n",
            "\n",
            "Done. View your TensorBoard at https://tensorboard.dev/experiment/ivKkF3YoR0eOUjeQd6jB8g/\n"
          ]
        }
      ]
    },
    {
      "cell_type": "code",
      "source": [
        "cat_dir = (\"/content/drive/MyDrive/CAT\")"
      ],
      "metadata": {
        "id": "42Nn5NIay5_H"
      },
      "execution_count": null,
      "outputs": []
    },
    {
      "cell_type": "code",
      "source": [
        "cat_dir = pathlib.Path(\"/content/drive/MyDrive/CAT\")\n",
        "cat_dir"
      ],
      "metadata": {
        "colab": {
          "base_uri": "https://localhost:8080/"
        },
        "id": "UvVLpipgzLB8",
        "outputId": "3d0ab1bf-2545-42e5-9ab7-d7bbc843e532"
      },
      "execution_count": null,
      "outputs": [
        {
          "output_type": "execute_result",
          "data": {
            "text/plain": [
              "PosixPath('/content/drive/MyDrive/CAT')"
            ]
          },
          "metadata": {},
          "execution_count": 60
        }
      ]
    },
    {
      "cell_type": "code",
      "source": [
        " d = list(cat_dir.glob('*.jpg'))"
      ],
      "metadata": {
        "id": "-Vq2cj2LztUv"
      },
      "execution_count": null,
      "outputs": []
    },
    {
      "cell_type": "code",
      "source": [
        "dict = { 'c' : list(cat_dir.glob('*.jpg'))}\n"
      ],
      "metadata": {
        "id": "oYsCvvy62Eo-"
      },
      "execution_count": null,
      "outputs": []
    },
    {
      "cell_type": "code",
      "source": [
        "X_t = np.array(d)"
      ],
      "metadata": {
        "id": "GkLJYdzO2flS"
      },
      "execution_count": null,
      "outputs": []
    },
    {
      "cell_type": "code",
      "source": [
        "x = model.predict(X_t)"
      ],
      "metadata": {
        "colab": {
          "base_uri": "https://localhost:8080/",
          "height": 314
        },
        "id": "B-G1Zec4yYi-",
        "outputId": "8ea96eba-0eaa-4d60-c8f6-66c90d51ba77"
      },
      "execution_count": null,
      "outputs": [
        {
          "output_type": "error",
          "ename": "ValueError",
          "evalue": "ignored",
          "traceback": [
            "\u001b[0;31m---------------------------------------------------------------------------\u001b[0m",
            "\u001b[0;31mValueError\u001b[0m                                Traceback (most recent call last)",
            "\u001b[0;32m<ipython-input-83-64d25465eb5b>\u001b[0m in \u001b[0;36m<module>\u001b[0;34m\u001b[0m\n\u001b[0;32m----> 1\u001b[0;31m \u001b[0mx\u001b[0m \u001b[0;34m=\u001b[0m \u001b[0mmodel\u001b[0m\u001b[0;34m.\u001b[0m\u001b[0mpredict\u001b[0m\u001b[0;34m(\u001b[0m\u001b[0mX_t\u001b[0m\u001b[0;34m)\u001b[0m\u001b[0;34m\u001b[0m\u001b[0;34m\u001b[0m\u001b[0m\n\u001b[0m",
            "\u001b[0;32m/usr/local/lib/python3.7/dist-packages/keras/utils/traceback_utils.py\u001b[0m in \u001b[0;36merror_handler\u001b[0;34m(*args, **kwargs)\u001b[0m\n\u001b[1;32m     65\u001b[0m     \u001b[0;32mexcept\u001b[0m \u001b[0mException\u001b[0m \u001b[0;32mas\u001b[0m \u001b[0me\u001b[0m\u001b[0;34m:\u001b[0m  \u001b[0;31m# pylint: disable=broad-except\u001b[0m\u001b[0;34m\u001b[0m\u001b[0;34m\u001b[0m\u001b[0m\n\u001b[1;32m     66\u001b[0m       \u001b[0mfiltered_tb\u001b[0m \u001b[0;34m=\u001b[0m \u001b[0m_process_traceback_frames\u001b[0m\u001b[0;34m(\u001b[0m\u001b[0me\u001b[0m\u001b[0;34m.\u001b[0m\u001b[0m__traceback__\u001b[0m\u001b[0;34m)\u001b[0m\u001b[0;34m\u001b[0m\u001b[0;34m\u001b[0m\u001b[0m\n\u001b[0;32m---> 67\u001b[0;31m       \u001b[0;32mraise\u001b[0m \u001b[0me\u001b[0m\u001b[0;34m.\u001b[0m\u001b[0mwith_traceback\u001b[0m\u001b[0;34m(\u001b[0m\u001b[0mfiltered_tb\u001b[0m\u001b[0;34m)\u001b[0m \u001b[0;32mfrom\u001b[0m \u001b[0;32mNone\u001b[0m\u001b[0;34m\u001b[0m\u001b[0;34m\u001b[0m\u001b[0m\n\u001b[0m\u001b[1;32m     68\u001b[0m     \u001b[0;32mfinally\u001b[0m\u001b[0;34m:\u001b[0m\u001b[0;34m\u001b[0m\u001b[0;34m\u001b[0m\u001b[0m\n\u001b[1;32m     69\u001b[0m       \u001b[0;32mdel\u001b[0m \u001b[0mfiltered_tb\u001b[0m\u001b[0;34m\u001b[0m\u001b[0;34m\u001b[0m\u001b[0m\n",
            "\u001b[0;32m/usr/local/lib/python3.7/dist-packages/tensorflow/python/framework/constant_op.py\u001b[0m in \u001b[0;36mconvert_to_eager_tensor\u001b[0;34m(value, ctx, dtype)\u001b[0m\n\u001b[1;32m    100\u001b[0m       \u001b[0mdtype\u001b[0m \u001b[0;34m=\u001b[0m \u001b[0mdtypes\u001b[0m\u001b[0;34m.\u001b[0m\u001b[0mas_dtype\u001b[0m\u001b[0;34m(\u001b[0m\u001b[0mdtype\u001b[0m\u001b[0;34m)\u001b[0m\u001b[0;34m.\u001b[0m\u001b[0mas_datatype_enum\u001b[0m\u001b[0;34m\u001b[0m\u001b[0;34m\u001b[0m\u001b[0m\n\u001b[1;32m    101\u001b[0m   \u001b[0mctx\u001b[0m\u001b[0;34m.\u001b[0m\u001b[0mensure_initialized\u001b[0m\u001b[0;34m(\u001b[0m\u001b[0;34m)\u001b[0m\u001b[0;34m\u001b[0m\u001b[0;34m\u001b[0m\u001b[0m\n\u001b[0;32m--> 102\u001b[0;31m   \u001b[0;32mreturn\u001b[0m \u001b[0mops\u001b[0m\u001b[0;34m.\u001b[0m\u001b[0mEagerTensor\u001b[0m\u001b[0;34m(\u001b[0m\u001b[0mvalue\u001b[0m\u001b[0;34m,\u001b[0m \u001b[0mctx\u001b[0m\u001b[0;34m.\u001b[0m\u001b[0mdevice_name\u001b[0m\u001b[0;34m,\u001b[0m \u001b[0mdtype\u001b[0m\u001b[0;34m)\u001b[0m\u001b[0;34m\u001b[0m\u001b[0;34m\u001b[0m\u001b[0m\n\u001b[0m\u001b[1;32m    103\u001b[0m \u001b[0;34m\u001b[0m\u001b[0m\n\u001b[1;32m    104\u001b[0m \u001b[0;34m\u001b[0m\u001b[0m\n",
            "\u001b[0;31mValueError\u001b[0m: Failed to convert a NumPy array to a Tensor (Unsupported object type PosixPath)."
          ]
        }
      ]
    },
    {
      "cell_type": "code",
      "execution_count": null,
      "metadata": {
        "id": "039akzXzqrwd"
      },
      "outputs": [],
      "source": [
        "from PIL import Image\n",
        "img = Image.fromarray(X_test[10],\"RGB\")\n",
        "img.save(\"test_img.png\")\n",
        "img.show()"
      ]
    },
    {
      "cell_type": "code",
      "execution_count": null,
      "metadata": {
        "colab": {
          "base_uri": "https://localhost:8080/",
          "height": 167
        },
        "id": "DFxcEWBWmFft",
        "outputId": "e6a9b840-706b-4fdc-cbf0-d6bb93d30dc5"
      },
      "outputs": [
        {
          "data": {
            "image/png": "[encoded data removed]",
            "text/plain": [
              "<PIL.PngImagePlugin.PngImageFile image mode=RGB size=150x150 at 0x7FAA4F9461D0>"
            ]
          },
          "execution_count": 46,
          "metadata": {},
          "output_type": "execute_result"
        }
      ],
      "source": [
        "PIL.Image.open(str(\"test_img.png\"))"
      ]
    },
    {
      "cell_type": "code",
      "execution_count": null,
      "metadata": {
        "id": "zcza2OzxmRHz"
      },
      "outputs": [],
      "source": []
    }
  ]
}