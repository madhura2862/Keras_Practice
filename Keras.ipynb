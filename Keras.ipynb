{
  "nbformat": 4,
  "nbformat_minor": 0,
  "metadata": {
    "colab": {
      "name": "Keras.ipynb",
      "provenance": [],
      "collapsed_sections": []
    },
    "kernelspec": {
      "name": "python3",
      "display_name": "Python 3"
    },
    "language_info": {
      "name": "python"
    }
  },
  "cells": [
    {
      "cell_type": "markdown",
      "source": [
        "\n",
        "\n",
        "Example data:\n",
        "\n",
        "An experiemental drug was tested on individuals from ages 13 to 100. The trial had 2100 participants. Half were under 65 years old, half were over 65 years old. 95% of patientes 65 or older experienced side effects. 95% of patients under 65 experienced no side effects.\n"
      ],
      "metadata": {
        "id": "5OdxF8bX_cDe"
      }
    },
    {
      "cell_type": "code",
      "execution_count": 2,
      "metadata": {
        "id": "uD68ltO4IelH"
      },
      "outputs": [],
      "source": [
        "import numpy as np\n",
        "from random import randint\n",
        "from sklearn.utils import shuffle\n",
        "from sklearn.preprocessing import MinMaxScaler"
      ]
    },
    {
      "cell_type": "code",
      "source": [
        "train_labels = []\n",
        "train_samples = []"
      ],
      "metadata": {
        "id": "IqU0S9RwW9UD"
      },
      "execution_count": 3,
      "outputs": []
    },
    {
      "cell_type": "code",
      "source": [
        "for i in range(50):\n",
        "  # The 5% of younger individuals who did experience side effects\n",
        "  random_younger = randint(13,64)\n",
        "  train_samples.append(random_younger)\n",
        "  train_labels.append(1)\n",
        "\n",
        "  # The 5% of older individuals who did not experience side effects\n",
        "  random_older = randint(65,100)\n",
        "  train_samples.append(random_older)\n",
        "  train_labels.append(0)\n",
        "\n",
        "for i in range(1000):\n",
        "  # The 95% of younger individuals who did not experience side effects\n",
        "  random_younger = randint(13,64)\n",
        "  train_samples.append(random_younger)\n",
        "  train_labels.append(0)\n",
        "\n",
        "  # The 95% of older individuals who did experience side effects\n",
        "  random_older = randint(65,100)\n",
        "  train_samples.append(random_older)\n",
        "  train_labels.append(1)"
      ],
      "metadata": {
        "id": "bh2zQtpNfMsN"
      },
      "execution_count": 4,
      "outputs": []
    },
    {
      "cell_type": "code",
      "source": [
        "train_labels = np.array(train_labels)\n",
        "train_samples = np.array(train_samples)\n",
        "train_labels,train_samples = shuffle(train_labels,train_samples)"
      ],
      "metadata": {
        "id": "9Qd5YOZ8iDQP"
      },
      "execution_count": 5,
      "outputs": []
    },
    {
      "cell_type": "code",
      "source": [
        "train_labels"
      ],
      "metadata": {
        "colab": {
          "base_uri": "https://localhost:8080/"
        },
        "id": "aOtBQbPKrPEI",
        "outputId": "108eedd6-4d66-4f92-df5f-88c47247a8aa"
      },
      "execution_count": 6,
      "outputs": [
        {
          "output_type": "execute_result",
          "data": {
            "text/plain": [
              "array([0, 0, 0, ..., 1, 0, 0])"
            ]
          },
          "metadata": {},
          "execution_count": 6
        }
      ]
    },
    {
      "cell_type": "code",
      "source": [
        "train_samples"
      ],
      "metadata": {
        "colab": {
          "base_uri": "https://localhost:8080/"
        },
        "id": "MjfdJgB1rTtR",
        "outputId": "8b2a641e-99a9-4567-9890-8719be696253"
      },
      "execution_count": 7,
      "outputs": [
        {
          "output_type": "execute_result",
          "data": {
            "text/plain": [
              "array([58, 20, 56, ..., 26, 59, 49])"
            ]
          },
          "metadata": {},
          "execution_count": 7
        }
      ]
    },
    {
      "cell_type": "code",
      "source": [
        "train_labels,train_samples"
      ],
      "metadata": {
        "colab": {
          "base_uri": "https://localhost:8080/"
        },
        "id": "ktQp1cndrnL2",
        "outputId": "d009c4dc-ffe0-4757-b2f1-4fd20b0ff5e2"
      },
      "execution_count": 8,
      "outputs": [
        {
          "output_type": "execute_result",
          "data": {
            "text/plain": [
              "(array([0, 0, 0, ..., 1, 0, 0]), array([58, 20, 56, ..., 26, 59, 49]))"
            ]
          },
          "metadata": {},
          "execution_count": 8
        }
      ]
    },
    {
      "cell_type": "code",
      "source": [
        "shuffle(train_labels,train_samples)"
      ],
      "metadata": {
        "colab": {
          "base_uri": "https://localhost:8080/"
        },
        "id": "FQC7ouCmrskk",
        "outputId": "492a3fb2-0d78-4d59-eeea-c9ecd0270a99"
      },
      "execution_count": 9,
      "outputs": [
        {
          "output_type": "execute_result",
          "data": {
            "text/plain": [
              "[array([1, 0, 0, ..., 0, 1, 0]), array([81, 62, 26, ..., 36, 84, 58])]"
            ]
          },
          "metadata": {},
          "execution_count": 9
        }
      ]
    },
    {
      "cell_type": "code",
      "source": [
        "scaler = MinMaxScaler(feature_range = (0,1))\n",
        "sc_trained_samples = scaler.fit_transform(train_samples.reshape(-1,1))"
      ],
      "metadata": {
        "id": "hFzm-3thqTEP"
      },
      "execution_count": 10,
      "outputs": []
    },
    {
      "cell_type": "code",
      "source": [
        "for i in sc_trained_samples:\n",
        "  print(i)"
      ],
      "metadata": {
        "id": "oKidwLhJrDgH"
      },
      "execution_count": null,
      "outputs": []
    },
    {
      "cell_type": "code",
      "source": [
        "sc_trained_samples = np.array(sc_trained_samples)\n",
        "sc_trained_samples"
      ],
      "metadata": {
        "colab": {
          "base_uri": "https://localhost:8080/"
        },
        "id": "v25XURWfrIhf",
        "outputId": "ccd50248-147f-42c3-ddb3-493ef4af932f"
      },
      "execution_count": 13,
      "outputs": [
        {
          "output_type": "execute_result",
          "data": {
            "text/plain": [
              "array([[0.51724138],\n",
              "       [0.08045977],\n",
              "       [0.49425287],\n",
              "       ...,\n",
              "       [0.14942529],\n",
              "       [0.52873563],\n",
              "       [0.4137931 ]])"
            ]
          },
          "metadata": {},
          "execution_count": 13
        }
      ]
    },
    {
      "cell_type": "code",
      "source": [
        "!pip install keras "
      ],
      "metadata": {
        "colab": {
          "base_uri": "https://localhost:8080/"
        },
        "id": "wC3sdaQ6qXDb",
        "outputId": "7805db1a-bccf-40e1-ddab-4fb59f882b57"
      },
      "execution_count": 14,
      "outputs": [
        {
          "output_type": "stream",
          "name": "stdout",
          "text": [
            "Looking in indexes: https://pypi.org/simple, https://us-python.pkg.dev/colab-wheels/public/simple/\n",
            "Requirement already satisfied: keras in /usr/local/lib/python3.7/dist-packages (2.8.0)\n"
          ]
        }
      ]
    },
    {
      "cell_type": "code",
      "source": [
        "import keras\n",
        "from keras import backend as K\n",
        "from keras.models import Sequential\n",
        "from keras.layers import Activation\n",
        "from keras.layers.core import Dense\n",
        "from keras.optimizers import adam_v2\n",
        "#from tensorflow.keras.optimizers import Adam\n",
        "from keras.metrics import categorical_crossentropy\n",
        "from keras import optimizers\n",
        "from keras import metrics"
      ],
      "metadata": {
        "id": "9k2PBXzzCjXg"
      },
      "execution_count": 17,
      "outputs": []
    },
    {
      "cell_type": "code",
      "source": [
        "model = Sequential([\n",
        "                    Dense(units = 20,input_shape = (1,),activation = 'relu'),\n",
        "                    Dense(units = 10,activation = 'relu'),\n",
        "                    Dense(units = 2,activation = 'softmax')\n",
        "])"
      ],
      "metadata": {
        "id": "xQiZhtKhK3Wk"
      },
      "execution_count": 18,
      "outputs": []
    },
    {
      "cell_type": "code",
      "source": [
        "model.summary()"
      ],
      "metadata": {
        "id": "Ba5nQc1axGAe",
        "colab": {
          "base_uri": "https://localhost:8080/"
        },
        "outputId": "2ea2b4eb-e9dc-4e31-949f-744a0c3a58a0"
      },
      "execution_count": 19,
      "outputs": [
        {
          "output_type": "stream",
          "name": "stdout",
          "text": [
            "Model: \"sequential\"\n",
            "_________________________________________________________________\n",
            " Layer (type)                Output Shape              Param #   \n",
            "=================================================================\n",
            " dense (Dense)               (None, 20)                40        \n",
            "                                                                 \n",
            " dense_1 (Dense)             (None, 10)                210       \n",
            "                                                                 \n",
            " dense_2 (Dense)             (None, 2)                 22        \n",
            "                                                                 \n",
            "=================================================================\n",
            "Total params: 272\n",
            "Trainable params: 272\n",
            "Non-trainable params: 0\n",
            "_________________________________________________________________\n"
          ]
        }
      ]
    },
    {
      "cell_type": "code",
      "source": [
        "model.loss = 'sparse_categorical_crossentropy'"
      ],
      "metadata": {
        "id": "FAtKH3jxwViU"
      },
      "execution_count": 20,
      "outputs": []
    },
    {
      "cell_type": "code",
      "source": [
        "#model.compile(optimizer=adam_v2, loss='sparse_categorical_crossentropy', metrics=['accuracy'])\n",
        "model.compile(loss='sparse_categorical_crossentropy',optimizer='adam')"
      ],
      "metadata": {
        "id": "xhd3cXzzxna_"
      },
      "execution_count": 21,
      "outputs": []
    },
    {
      "cell_type": "code",
      "source": [
        "model.fit(sc_trained_samples, train_labels, batch_size=10, epochs=200, shuffle=True, verbose=2)"
      ],
      "metadata": {
        "colab": {
          "base_uri": "https://localhost:8080/"
        },
        "id": "ChDpzMZKw1GQ",
        "outputId": "9286138e-be7a-4372-bee7-35981b0df114"
      },
      "execution_count": 22,
      "outputs": [
        {
          "output_type": "stream",
          "name": "stdout",
          "text": [
            "Epoch 1/200\n",
            "210/210 - 1s - loss: 0.5727 - 837ms/epoch - 4ms/step\n",
            "Epoch 2/200\n",
            "210/210 - 0s - loss: 0.4066 - 280ms/epoch - 1ms/step\n",
            "Epoch 3/200\n",
            "210/210 - 0s - loss: 0.3009 - 262ms/epoch - 1ms/step\n",
            "Epoch 4/200\n",
            "210/210 - 0s - loss: 0.2625 - 273ms/epoch - 1ms/step\n",
            "Epoch 5/200\n",
            "210/210 - 0s - loss: 0.2515 - 241ms/epoch - 1ms/step\n",
            "Epoch 6/200\n",
            "210/210 - 0s - loss: 0.2448 - 259ms/epoch - 1ms/step\n",
            "Epoch 7/200\n",
            "210/210 - 0s - loss: 0.2429 - 251ms/epoch - 1ms/step\n",
            "Epoch 8/200\n",
            "210/210 - 0s - loss: 0.2395 - 246ms/epoch - 1ms/step\n",
            "Epoch 9/200\n",
            "210/210 - 0s - loss: 0.2370 - 249ms/epoch - 1ms/step\n",
            "Epoch 10/200\n",
            "210/210 - 0s - loss: 0.2359 - 247ms/epoch - 1ms/step\n",
            "Epoch 11/200\n",
            "210/210 - 0s - loss: 0.2337 - 252ms/epoch - 1ms/step\n",
            "Epoch 12/200\n",
            "210/210 - 0s - loss: 0.2332 - 243ms/epoch - 1ms/step\n",
            "Epoch 13/200\n",
            "210/210 - 0s - loss: 0.2318 - 259ms/epoch - 1ms/step\n",
            "Epoch 14/200\n",
            "210/210 - 0s - loss: 0.2303 - 247ms/epoch - 1ms/step\n",
            "Epoch 15/200\n",
            "210/210 - 0s - loss: 0.2309 - 246ms/epoch - 1ms/step\n",
            "Epoch 16/200\n",
            "210/210 - 0s - loss: 0.2287 - 242ms/epoch - 1ms/step\n",
            "Epoch 17/200\n",
            "210/210 - 0s - loss: 0.2299 - 238ms/epoch - 1ms/step\n",
            "Epoch 18/200\n",
            "210/210 - 0s - loss: 0.2291 - 240ms/epoch - 1ms/step\n",
            "Epoch 19/200\n",
            "210/210 - 0s - loss: 0.2279 - 241ms/epoch - 1ms/step\n",
            "Epoch 20/200\n",
            "210/210 - 0s - loss: 0.2291 - 234ms/epoch - 1ms/step\n",
            "Epoch 21/200\n",
            "210/210 - 0s - loss: 0.2278 - 251ms/epoch - 1ms/step\n",
            "Epoch 22/200\n",
            "210/210 - 0s - loss: 0.2275 - 248ms/epoch - 1ms/step\n",
            "Epoch 23/200\n",
            "210/210 - 0s - loss: 0.2262 - 253ms/epoch - 1ms/step\n",
            "Epoch 24/200\n",
            "210/210 - 0s - loss: 0.2253 - 245ms/epoch - 1ms/step\n",
            "Epoch 25/200\n",
            "210/210 - 0s - loss: 0.2252 - 245ms/epoch - 1ms/step\n",
            "Epoch 26/200\n",
            "210/210 - 0s - loss: 0.2254 - 246ms/epoch - 1ms/step\n",
            "Epoch 27/200\n",
            "210/210 - 0s - loss: 0.2246 - 240ms/epoch - 1ms/step\n",
            "Epoch 28/200\n",
            "210/210 - 0s - loss: 0.2245 - 245ms/epoch - 1ms/step\n",
            "Epoch 29/200\n",
            "210/210 - 0s - loss: 0.2240 - 236ms/epoch - 1ms/step\n",
            "Epoch 30/200\n",
            "210/210 - 0s - loss: 0.2236 - 248ms/epoch - 1ms/step\n",
            "Epoch 31/200\n",
            "210/210 - 0s - loss: 0.2238 - 243ms/epoch - 1ms/step\n",
            "Epoch 32/200\n",
            "210/210 - 0s - loss: 0.2239 - 239ms/epoch - 1ms/step\n",
            "Epoch 33/200\n",
            "210/210 - 0s - loss: 0.2226 - 236ms/epoch - 1ms/step\n",
            "Epoch 34/200\n",
            "210/210 - 0s - loss: 0.2233 - 245ms/epoch - 1ms/step\n",
            "Epoch 35/200\n",
            "210/210 - 0s - loss: 0.2215 - 231ms/epoch - 1ms/step\n",
            "Epoch 36/200\n",
            "210/210 - 0s - loss: 0.2209 - 247ms/epoch - 1ms/step\n",
            "Epoch 37/200\n",
            "210/210 - 0s - loss: 0.2214 - 237ms/epoch - 1ms/step\n",
            "Epoch 38/200\n",
            "210/210 - 0s - loss: 0.2195 - 229ms/epoch - 1ms/step\n",
            "Epoch 39/200\n",
            "210/210 - 0s - loss: 0.2206 - 248ms/epoch - 1ms/step\n",
            "Epoch 40/200\n",
            "210/210 - 0s - loss: 0.2203 - 232ms/epoch - 1ms/step\n",
            "Epoch 41/200\n",
            "210/210 - 0s - loss: 0.2206 - 252ms/epoch - 1ms/step\n",
            "Epoch 42/200\n",
            "210/210 - 0s - loss: 0.2195 - 227ms/epoch - 1ms/step\n",
            "Epoch 43/200\n",
            "210/210 - 0s - loss: 0.2188 - 246ms/epoch - 1ms/step\n",
            "Epoch 44/200\n",
            "210/210 - 0s - loss: 0.2186 - 236ms/epoch - 1ms/step\n",
            "Epoch 45/200\n",
            "210/210 - 0s - loss: 0.2188 - 250ms/epoch - 1ms/step\n",
            "Epoch 46/200\n",
            "210/210 - 0s - loss: 0.2181 - 257ms/epoch - 1ms/step\n",
            "Epoch 47/200\n",
            "210/210 - 0s - loss: 0.2174 - 247ms/epoch - 1ms/step\n",
            "Epoch 48/200\n",
            "210/210 - 0s - loss: 0.2174 - 244ms/epoch - 1ms/step\n",
            "Epoch 49/200\n",
            "210/210 - 0s - loss: 0.2175 - 242ms/epoch - 1ms/step\n",
            "Epoch 50/200\n",
            "210/210 - 0s - loss: 0.2169 - 238ms/epoch - 1ms/step\n",
            "Epoch 51/200\n",
            "210/210 - 0s - loss: 0.2160 - 246ms/epoch - 1ms/step\n",
            "Epoch 52/200\n",
            "210/210 - 0s - loss: 0.2170 - 230ms/epoch - 1ms/step\n",
            "Epoch 53/200\n",
            "210/210 - 0s - loss: 0.2150 - 238ms/epoch - 1ms/step\n",
            "Epoch 54/200\n",
            "210/210 - 0s - loss: 0.2147 - 242ms/epoch - 1ms/step\n",
            "Epoch 55/200\n",
            "210/210 - 0s - loss: 0.2144 - 237ms/epoch - 1ms/step\n",
            "Epoch 56/200\n",
            "210/210 - 0s - loss: 0.2149 - 231ms/epoch - 1ms/step\n",
            "Epoch 57/200\n",
            "210/210 - 0s - loss: 0.2144 - 236ms/epoch - 1ms/step\n",
            "Epoch 58/200\n",
            "210/210 - 0s - loss: 0.2139 - 235ms/epoch - 1ms/step\n",
            "Epoch 59/200\n",
            "210/210 - 0s - loss: 0.2142 - 247ms/epoch - 1ms/step\n",
            "Epoch 60/200\n",
            "210/210 - 0s - loss: 0.2144 - 242ms/epoch - 1ms/step\n",
            "Epoch 61/200\n",
            "210/210 - 0s - loss: 0.2127 - 239ms/epoch - 1ms/step\n",
            "Epoch 62/200\n",
            "210/210 - 0s - loss: 0.2126 - 226ms/epoch - 1ms/step\n",
            "Epoch 63/200\n",
            "210/210 - 0s - loss: 0.2137 - 242ms/epoch - 1ms/step\n",
            "Epoch 64/200\n",
            "210/210 - 0s - loss: 0.2127 - 236ms/epoch - 1ms/step\n",
            "Epoch 65/200\n",
            "210/210 - 0s - loss: 0.2123 - 229ms/epoch - 1ms/step\n",
            "Epoch 66/200\n",
            "210/210 - 0s - loss: 0.2108 - 270ms/epoch - 1ms/step\n",
            "Epoch 67/200\n",
            "210/210 - 0s - loss: 0.2128 - 241ms/epoch - 1ms/step\n",
            "Epoch 68/200\n",
            "210/210 - 0s - loss: 0.2116 - 236ms/epoch - 1ms/step\n",
            "Epoch 69/200\n",
            "210/210 - 0s - loss: 0.2104 - 232ms/epoch - 1ms/step\n",
            "Epoch 70/200\n",
            "210/210 - 0s - loss: 0.2102 - 241ms/epoch - 1ms/step\n",
            "Epoch 71/200\n",
            "210/210 - 0s - loss: 0.2105 - 244ms/epoch - 1ms/step\n",
            "Epoch 72/200\n",
            "210/210 - 0s - loss: 0.2099 - 229ms/epoch - 1ms/step\n",
            "Epoch 73/200\n",
            "210/210 - 0s - loss: 0.2107 - 242ms/epoch - 1ms/step\n",
            "Epoch 74/200\n",
            "210/210 - 0s - loss: 0.2111 - 247ms/epoch - 1ms/step\n",
            "Epoch 75/200\n",
            "210/210 - 0s - loss: 0.2087 - 241ms/epoch - 1ms/step\n",
            "Epoch 76/200\n",
            "210/210 - 0s - loss: 0.2086 - 237ms/epoch - 1ms/step\n",
            "Epoch 77/200\n",
            "210/210 - 0s - loss: 0.2097 - 227ms/epoch - 1ms/step\n",
            "Epoch 78/200\n",
            "210/210 - 0s - loss: 0.2085 - 241ms/epoch - 1ms/step\n",
            "Epoch 79/200\n",
            "210/210 - 0s - loss: 0.2086 - 228ms/epoch - 1ms/step\n",
            "Epoch 80/200\n",
            "210/210 - 0s - loss: 0.2087 - 233ms/epoch - 1ms/step\n",
            "Epoch 81/200\n",
            "210/210 - 0s - loss: 0.2080 - 225ms/epoch - 1ms/step\n",
            "Epoch 82/200\n",
            "210/210 - 0s - loss: 0.2086 - 242ms/epoch - 1ms/step\n",
            "Epoch 83/200\n",
            "210/210 - 0s - loss: 0.2068 - 242ms/epoch - 1ms/step\n",
            "Epoch 84/200\n",
            "210/210 - 0s - loss: 0.2080 - 237ms/epoch - 1ms/step\n",
            "Epoch 85/200\n",
            "210/210 - 0s - loss: 0.2076 - 233ms/epoch - 1ms/step\n",
            "Epoch 86/200\n",
            "210/210 - 0s - loss: 0.2076 - 228ms/epoch - 1ms/step\n",
            "Epoch 87/200\n",
            "210/210 - 0s - loss: 0.2074 - 250ms/epoch - 1ms/step\n",
            "Epoch 88/200\n",
            "210/210 - 0s - loss: 0.2071 - 242ms/epoch - 1ms/step\n",
            "Epoch 89/200\n",
            "210/210 - 0s - loss: 0.2077 - 250ms/epoch - 1ms/step\n",
            "Epoch 90/200\n",
            "210/210 - 0s - loss: 0.2061 - 237ms/epoch - 1ms/step\n",
            "Epoch 91/200\n",
            "210/210 - 0s - loss: 0.2049 - 245ms/epoch - 1ms/step\n",
            "Epoch 92/200\n",
            "210/210 - 0s - loss: 0.2069 - 243ms/epoch - 1ms/step\n",
            "Epoch 93/200\n",
            "210/210 - 0s - loss: 0.2050 - 229ms/epoch - 1ms/step\n",
            "Epoch 94/200\n",
            "210/210 - 0s - loss: 0.2055 - 226ms/epoch - 1ms/step\n",
            "Epoch 95/200\n",
            "210/210 - 0s - loss: 0.2051 - 244ms/epoch - 1ms/step\n",
            "Epoch 96/200\n",
            "210/210 - 0s - loss: 0.2054 - 249ms/epoch - 1ms/step\n",
            "Epoch 97/200\n",
            "210/210 - 0s - loss: 0.2054 - 241ms/epoch - 1ms/step\n",
            "Epoch 98/200\n",
            "210/210 - 0s - loss: 0.2058 - 228ms/epoch - 1ms/step\n",
            "Epoch 99/200\n",
            "210/210 - 0s - loss: 0.2043 - 253ms/epoch - 1ms/step\n",
            "Epoch 100/200\n",
            "210/210 - 0s - loss: 0.2037 - 247ms/epoch - 1ms/step\n",
            "Epoch 101/200\n",
            "210/210 - 0s - loss: 0.2041 - 233ms/epoch - 1ms/step\n",
            "Epoch 102/200\n",
            "210/210 - 0s - loss: 0.2039 - 232ms/epoch - 1ms/step\n",
            "Epoch 103/200\n",
            "210/210 - 0s - loss: 0.2040 - 244ms/epoch - 1ms/step\n",
            "Epoch 104/200\n",
            "210/210 - 0s - loss: 0.2043 - 233ms/epoch - 1ms/step\n",
            "Epoch 105/200\n",
            "210/210 - 0s - loss: 0.2039 - 236ms/epoch - 1ms/step\n",
            "Epoch 106/200\n",
            "210/210 - 0s - loss: 0.2042 - 230ms/epoch - 1ms/step\n",
            "Epoch 107/200\n",
            "210/210 - 0s - loss: 0.2031 - 246ms/epoch - 1ms/step\n",
            "Epoch 108/200\n",
            "210/210 - 0s - loss: 0.2042 - 250ms/epoch - 1ms/step\n",
            "Epoch 109/200\n",
            "210/210 - 0s - loss: 0.2035 - 235ms/epoch - 1ms/step\n",
            "Epoch 110/200\n",
            "210/210 - 0s - loss: 0.2029 - 235ms/epoch - 1ms/step\n",
            "Epoch 111/200\n",
            "210/210 - 0s - loss: 0.2017 - 247ms/epoch - 1ms/step\n",
            "Epoch 112/200\n",
            "210/210 - 0s - loss: 0.2024 - 265ms/epoch - 1ms/step\n",
            "Epoch 113/200\n",
            "210/210 - 0s - loss: 0.2007 - 252ms/epoch - 1ms/step\n",
            "Epoch 114/200\n",
            "210/210 - 0s - loss: 0.2020 - 232ms/epoch - 1ms/step\n",
            "Epoch 115/200\n",
            "210/210 - 0s - loss: 0.2028 - 244ms/epoch - 1ms/step\n",
            "Epoch 116/200\n",
            "210/210 - 0s - loss: 0.2033 - 253ms/epoch - 1ms/step\n",
            "Epoch 117/200\n",
            "210/210 - 0s - loss: 0.2021 - 245ms/epoch - 1ms/step\n",
            "Epoch 118/200\n",
            "210/210 - 0s - loss: 0.2020 - 224ms/epoch - 1ms/step\n",
            "Epoch 119/200\n",
            "210/210 - 0s - loss: 0.2015 - 233ms/epoch - 1ms/step\n",
            "Epoch 120/200\n",
            "210/210 - 0s - loss: 0.2021 - 259ms/epoch - 1ms/step\n",
            "Epoch 121/200\n",
            "210/210 - 0s - loss: 0.2011 - 247ms/epoch - 1ms/step\n",
            "Epoch 122/200\n",
            "210/210 - 0s - loss: 0.2030 - 241ms/epoch - 1ms/step\n",
            "Epoch 123/200\n",
            "210/210 - 0s - loss: 0.2011 - 239ms/epoch - 1ms/step\n",
            "Epoch 124/200\n",
            "210/210 - 0s - loss: 0.2018 - 245ms/epoch - 1ms/step\n",
            "Epoch 125/200\n",
            "210/210 - 0s - loss: 0.2015 - 240ms/epoch - 1ms/step\n",
            "Epoch 126/200\n",
            "210/210 - 0s - loss: 0.2003 - 240ms/epoch - 1ms/step\n",
            "Epoch 127/200\n",
            "210/210 - 0s - loss: 0.2004 - 240ms/epoch - 1ms/step\n",
            "Epoch 128/200\n",
            "210/210 - 0s - loss: 0.2024 - 240ms/epoch - 1ms/step\n",
            "Epoch 129/200\n",
            "210/210 - 0s - loss: 0.2018 - 236ms/epoch - 1ms/step\n",
            "Epoch 130/200\n",
            "210/210 - 0s - loss: 0.2009 - 240ms/epoch - 1ms/step\n",
            "Epoch 131/200\n",
            "210/210 - 0s - loss: 0.2022 - 238ms/epoch - 1ms/step\n",
            "Epoch 132/200\n",
            "210/210 - 0s - loss: 0.2011 - 236ms/epoch - 1ms/step\n",
            "Epoch 133/200\n",
            "210/210 - 0s - loss: 0.1991 - 238ms/epoch - 1ms/step\n",
            "Epoch 134/200\n",
            "210/210 - 0s - loss: 0.2012 - 227ms/epoch - 1ms/step\n",
            "Epoch 135/200\n",
            "210/210 - 0s - loss: 0.1996 - 232ms/epoch - 1ms/step\n",
            "Epoch 136/200\n",
            "210/210 - 0s - loss: 0.2007 - 243ms/epoch - 1ms/step\n",
            "Epoch 137/200\n",
            "210/210 - 0s - loss: 0.2012 - 262ms/epoch - 1ms/step\n",
            "Epoch 138/200\n",
            "210/210 - 0s - loss: 0.2000 - 236ms/epoch - 1ms/step\n",
            "Epoch 139/200\n",
            "210/210 - 0s - loss: 0.1987 - 225ms/epoch - 1ms/step\n",
            "Epoch 140/200\n",
            "210/210 - 0s - loss: 0.1996 - 236ms/epoch - 1ms/step\n",
            "Epoch 141/200\n",
            "210/210 - 0s - loss: 0.1995 - 266ms/epoch - 1ms/step\n",
            "Epoch 142/200\n",
            "210/210 - 0s - loss: 0.1992 - 225ms/epoch - 1ms/step\n",
            "Epoch 143/200\n",
            "210/210 - 0s - loss: 0.2005 - 232ms/epoch - 1ms/step\n",
            "Epoch 144/200\n",
            "210/210 - 0s - loss: 0.2013 - 235ms/epoch - 1ms/step\n",
            "Epoch 145/200\n",
            "210/210 - 0s - loss: 0.1988 - 243ms/epoch - 1ms/step\n",
            "Epoch 146/200\n",
            "210/210 - 0s - loss: 0.1994 - 245ms/epoch - 1ms/step\n",
            "Epoch 147/200\n",
            "210/210 - 0s - loss: 0.1991 - 228ms/epoch - 1ms/step\n",
            "Epoch 148/200\n",
            "210/210 - 0s - loss: 0.1989 - 240ms/epoch - 1ms/step\n",
            "Epoch 149/200\n",
            "210/210 - 0s - loss: 0.1987 - 237ms/epoch - 1ms/step\n",
            "Epoch 150/200\n",
            "210/210 - 0s - loss: 0.1984 - 242ms/epoch - 1ms/step\n",
            "Epoch 151/200\n",
            "210/210 - 0s - loss: 0.2006 - 231ms/epoch - 1ms/step\n",
            "Epoch 152/200\n",
            "210/210 - 0s - loss: 0.1990 - 240ms/epoch - 1ms/step\n",
            "Epoch 153/200\n",
            "210/210 - 0s - loss: 0.1995 - 249ms/epoch - 1ms/step\n",
            "Epoch 154/200\n",
            "210/210 - 0s - loss: 0.1999 - 245ms/epoch - 1ms/step\n",
            "Epoch 155/200\n",
            "210/210 - 0s - loss: 0.1990 - 239ms/epoch - 1ms/step\n",
            "Epoch 156/200\n",
            "210/210 - 0s - loss: 0.1992 - 242ms/epoch - 1ms/step\n",
            "Epoch 157/200\n",
            "210/210 - 0s - loss: 0.1984 - 239ms/epoch - 1ms/step\n",
            "Epoch 158/200\n",
            "210/210 - 0s - loss: 0.1990 - 252ms/epoch - 1ms/step\n",
            "Epoch 159/200\n",
            "210/210 - 0s - loss: 0.2004 - 227ms/epoch - 1ms/step\n",
            "Epoch 160/200\n",
            "210/210 - 0s - loss: 0.1987 - 232ms/epoch - 1ms/step\n",
            "Epoch 161/200\n",
            "210/210 - 0s - loss: 0.1984 - 235ms/epoch - 1ms/step\n",
            "Epoch 162/200\n",
            "210/210 - 0s - loss: 0.1990 - 245ms/epoch - 1ms/step\n",
            "Epoch 163/200\n",
            "210/210 - 0s - loss: 0.1988 - 241ms/epoch - 1ms/step\n",
            "Epoch 164/200\n",
            "210/210 - 0s - loss: 0.1994 - 238ms/epoch - 1ms/step\n",
            "Epoch 165/200\n",
            "210/210 - 0s - loss: 0.1965 - 222ms/epoch - 1ms/step\n",
            "Epoch 166/200\n",
            "210/210 - 0s - loss: 0.1978 - 253ms/epoch - 1ms/step\n",
            "Epoch 167/200\n",
            "210/210 - 0s - loss: 0.2004 - 229ms/epoch - 1ms/step\n",
            "Epoch 168/200\n",
            "210/210 - 0s - loss: 0.1994 - 229ms/epoch - 1ms/step\n",
            "Epoch 169/200\n",
            "210/210 - 0s - loss: 0.1976 - 263ms/epoch - 1ms/step\n",
            "Epoch 170/200\n",
            "210/210 - 0s - loss: 0.1974 - 269ms/epoch - 1ms/step\n",
            "Epoch 171/200\n",
            "210/210 - 0s - loss: 0.1982 - 231ms/epoch - 1ms/step\n",
            "Epoch 172/200\n",
            "210/210 - 0s - loss: 0.1975 - 287ms/epoch - 1ms/step\n",
            "Epoch 173/200\n",
            "210/210 - 0s - loss: 0.1963 - 365ms/epoch - 2ms/step\n",
            "Epoch 174/200\n",
            "210/210 - 0s - loss: 0.1969 - 363ms/epoch - 2ms/step\n",
            "Epoch 175/200\n",
            "210/210 - 0s - loss: 0.1983 - 358ms/epoch - 2ms/step\n",
            "Epoch 176/200\n",
            "210/210 - 0s - loss: 0.1987 - 347ms/epoch - 2ms/step\n",
            "Epoch 177/200\n",
            "210/210 - 0s - loss: 0.1978 - 353ms/epoch - 2ms/step\n",
            "Epoch 178/200\n",
            "210/210 - 0s - loss: 0.1982 - 365ms/epoch - 2ms/step\n",
            "Epoch 179/200\n",
            "210/210 - 0s - loss: 0.1981 - 321ms/epoch - 2ms/step\n",
            "Epoch 180/200\n",
            "210/210 - 0s - loss: 0.1977 - 243ms/epoch - 1ms/step\n",
            "Epoch 181/200\n",
            "210/210 - 0s - loss: 0.1981 - 231ms/epoch - 1ms/step\n",
            "Epoch 182/200\n",
            "210/210 - 0s - loss: 0.1969 - 236ms/epoch - 1ms/step\n",
            "Epoch 183/200\n",
            "210/210 - 0s - loss: 0.1976 - 239ms/epoch - 1ms/step\n",
            "Epoch 184/200\n",
            "210/210 - 0s - loss: 0.1967 - 254ms/epoch - 1ms/step\n",
            "Epoch 185/200\n",
            "210/210 - 0s - loss: 0.1967 - 253ms/epoch - 1ms/step\n",
            "Epoch 186/200\n",
            "210/210 - 0s - loss: 0.1962 - 254ms/epoch - 1ms/step\n",
            "Epoch 187/200\n",
            "210/210 - 0s - loss: 0.1982 - 244ms/epoch - 1ms/step\n",
            "Epoch 188/200\n",
            "210/210 - 0s - loss: 0.1994 - 250ms/epoch - 1ms/step\n",
            "Epoch 189/200\n",
            "210/210 - 0s - loss: 0.1984 - 242ms/epoch - 1ms/step\n",
            "Epoch 190/200\n",
            "210/210 - 0s - loss: 0.1987 - 254ms/epoch - 1ms/step\n",
            "Epoch 191/200\n",
            "210/210 - 0s - loss: 0.1974 - 239ms/epoch - 1ms/step\n",
            "Epoch 192/200\n",
            "210/210 - 0s - loss: 0.1963 - 251ms/epoch - 1ms/step\n",
            "Epoch 193/200\n",
            "210/210 - 0s - loss: 0.1981 - 224ms/epoch - 1ms/step\n",
            "Epoch 194/200\n",
            "210/210 - 0s - loss: 0.1970 - 236ms/epoch - 1ms/step\n",
            "Epoch 195/200\n",
            "210/210 - 0s - loss: 0.1978 - 241ms/epoch - 1ms/step\n",
            "Epoch 196/200\n",
            "210/210 - 0s - loss: 0.1979 - 251ms/epoch - 1ms/step\n",
            "Epoch 197/200\n",
            "210/210 - 0s - loss: 0.1965 - 229ms/epoch - 1ms/step\n",
            "Epoch 198/200\n",
            "210/210 - 0s - loss: 0.1970 - 234ms/epoch - 1ms/step\n",
            "Epoch 199/200\n",
            "210/210 - 0s - loss: 0.1989 - 268ms/epoch - 1ms/step\n",
            "Epoch 200/200\n",
            "210/210 - 0s - loss: 0.1955 - 252ms/epoch - 1ms/step\n"
          ]
        },
        {
          "output_type": "execute_result",
          "data": {
            "text/plain": [
              "<keras.callbacks.History at 0x7fbb8dd120d0>"
            ]
          },
          "metadata": {},
          "execution_count": 22
        }
      ]
    },
    {
      "cell_type": "code",
      "source": [
        "from keras.models import Sequential\n",
        "from keras.layers import Dense, Activation\n",
        "\n",
        "model = Sequential([\n",
        "    Dense(32, input_shape=(10,), activation='relu'),\n",
        "    Dense(2, activation='softmax'),\n",
        "])\n"
      ],
      "metadata": {
        "id": "aAZDot6yw66R"
      },
      "execution_count": null,
      "outputs": []
    },
    {
      "cell_type": "code",
      "source": [
        "from keras.models import Sequential\n",
        "from keras.layers import Dense, Activation\n",
        "\n",
        "model = Sequential([\n",
        "    Dense(5, input_shape=(3,), activation='relu'),\n",
        "    Dense(2, activation='softmax'),\n",
        "])"
      ],
      "metadata": {
        "id": "_C5fxoeM4wau"
      },
      "execution_count": null,
      "outputs": []
    }
  ]
}