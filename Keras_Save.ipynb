{
  "nbformat": 4,
  "nbformat_minor": 0,
  "metadata": {
    "colab": {
      "name": "Keras_Save.ipynb",
      "provenance": []
    },
    "kernelspec": {
      "name": "python3",
      "display_name": "Python 3"
    },
    "language_info": {
      "name": "python"
    }
  },
  "cells": [
    {
      "cell_type": "markdown",
      "source": [
        "Example data:\n",
        "\n",
        "An experiemental drug was tested on individuals from ages 13 to 100. The trial had 2100 participants. Half were under 65 years old, half were over 65 years old. 95% of patientes 65 or older experienced side effects. 95% of patients under 65 experienced no side effects.\n",
        "\n"
      ],
      "metadata": {
        "id": "zgrA6vtY5eJM"
      }
    },
    {
      "cell_type": "code",
      "execution_count": null,
      "metadata": {
        "id": "pbWvOw405SrD"
      },
      "outputs": [],
      "source": [
        "import numpy as np\n",
        "from random import randint\n",
        "from sklearn.utils import shuffle\n",
        "from sklearn.preprocessing import MinMaxScaler"
      ]
    },
    {
      "cell_type": "code",
      "source": [
        "train_labels = []\n",
        "train_samples = []"
      ],
      "metadata": {
        "id": "5Jhe-zv75idp"
      },
      "execution_count": null,
      "outputs": []
    },
    {
      "cell_type": "code",
      "source": [
        "for i in range(50):\n",
        "  # The 5% of younger individuals who did experience side effects\n",
        "  random_younger = randint(13,64)\n",
        "  train_samples.append(random_younger)\n",
        "  train_labels.append(1)\n",
        "\n",
        "  # The 5% of older individuals who did not experience side effects\n",
        "  random_older = randint(65,100)\n",
        "  train_samples.append(random_older)\n",
        "  train_labels.append(0)\n",
        "\n",
        "for i in range(1000):\n",
        "  # The 95% of younger individuals who did not experience side effects\n",
        "  random_younger = randint(13,64)\n",
        "  train_samples.append(random_younger)\n",
        "  train_labels.append(0)\n",
        "\n",
        "  # The 95% of older individuals who did experience side effects\n",
        "  random_older = randint(65,100)\n",
        "  train_samples.append(random_older)\n",
        "  train_labels.append(1)"
      ],
      "metadata": {
        "id": "cZkQwsqY5nYD"
      },
      "execution_count": null,
      "outputs": []
    },
    {
      "cell_type": "code",
      "source": [
        "train_labels = np.array(train_labels)\n",
        "train_samples = np.array(train_samples)\n",
        "train_labels,train_samples = shuffle(train_labels,train_samples)"
      ],
      "metadata": {
        "id": "IRqNy0aE52Ix"
      },
      "execution_count": null,
      "outputs": []
    },
    {
      "cell_type": "code",
      "source": [
        "scaler = MinMaxScaler(feature_range = (0,1))\n",
        "sc_trained_samples = scaler.fit_transform(train_samples.reshape(-1,1))"
      ],
      "metadata": {
        "id": "2yfSJxNJ52xZ"
      },
      "execution_count": null,
      "outputs": []
    },
    {
      "cell_type": "code",
      "source": [
        "sc_trained_samples = np.array(sc_trained_samples)\n",
        "sc_trained_samples"
      ],
      "metadata": {
        "colab": {
          "base_uri": "https://localhost:8080/"
        },
        "id": "U8ABhw7A56bZ",
        "outputId": "96d6dbe9-ab33-46ec-a113-aa2d5bd05293"
      },
      "execution_count": null,
      "outputs": [
        {
          "output_type": "execute_result",
          "data": {
            "text/plain": [
              "array([[0.54022989],\n",
              "       [0.93103448],\n",
              "       [0.31034483],\n",
              "       ...,\n",
              "       [0.67816092],\n",
              "       [0.75862069],\n",
              "       [0.28735632]])"
            ]
          },
          "metadata": {},
          "execution_count": 7
        }
      ]
    },
    {
      "cell_type": "code",
      "source": [
        "!pip install keras "
      ],
      "metadata": {
        "colab": {
          "base_uri": "https://localhost:8080/"
        },
        "id": "OqOAJcN-6AVV",
        "outputId": "038c6988-7cb3-418c-ccaf-a3b5fa8c8ba1"
      },
      "execution_count": null,
      "outputs": [
        {
          "output_type": "stream",
          "name": "stdout",
          "text": [
            "Looking in indexes: https://pypi.org/simple, https://us-python.pkg.dev/colab-wheels/public/simple/\n",
            "Requirement already satisfied: keras in /usr/local/lib/python3.7/dist-packages (2.8.0)\n"
          ]
        }
      ]
    },
    {
      "cell_type": "code",
      "source": [
        "import keras\n",
        "from keras import backend as K\n",
        "from keras.models import Sequential\n",
        "from keras.layers import Activation\n",
        "from keras.layers.core import Dense\n",
        "from keras.optimizers import adam_v2\n",
        "from keras.metrics import categorical_crossentropy\n",
        "from keras import optimizers\n",
        "from keras import metrics"
      ],
      "metadata": {
        "id": "QmSgdZQY6DOz"
      },
      "execution_count": null,
      "outputs": []
    },
    {
      "cell_type": "code",
      "source": [
        "model = Sequential([\n",
        "                    Dense(units = 16,input_shape = (1,),activation = 'relu'),\n",
        "                    Dense(units = 32,activation = 'relu'),\n",
        "                    Dense(units = 2,activation = 'softmax')\n",
        "])"
      ],
      "metadata": {
        "id": "bPQbXvIc6FtN"
      },
      "execution_count": null,
      "outputs": []
    },
    {
      "cell_type": "code",
      "source": [
        "model.summary()"
      ],
      "metadata": {
        "colab": {
          "base_uri": "https://localhost:8080/"
        },
        "id": "bPnUvS5q6IBA",
        "outputId": "d310122e-f363-408e-c1c5-441f052affde"
      },
      "execution_count": null,
      "outputs": [
        {
          "output_type": "stream",
          "name": "stdout",
          "text": [
            "Model: \"sequential\"\n",
            "_________________________________________________________________\n",
            " Layer (type)                Output Shape              Param #   \n",
            "=================================================================\n",
            " dense (Dense)               (None, 16)                32        \n",
            "                                                                 \n",
            " dense_1 (Dense)             (None, 32)                544       \n",
            "                                                                 \n",
            " dense_2 (Dense)             (None, 2)                 66        \n",
            "                                                                 \n",
            "=================================================================\n",
            "Total params: 642\n",
            "Trainable params: 642\n",
            "Non-trainable params: 0\n",
            "_________________________________________________________________\n"
          ]
        }
      ]
    },
    {
      "cell_type": "code",
      "source": [
        "model.loss = 'sparse_categorical_crossentropy'"
      ],
      "metadata": {
        "id": "9kG7vjB17AX-"
      },
      "execution_count": null,
      "outputs": []
    },
    {
      "cell_type": "code",
      "source": [
        "#model.compile(optimizer=adam_v2, loss='sparse_categorical_crossentropy', metrics=['accuracy'])\n",
        "model.compile(loss='sparse_categorical_crossentropy',optimizer='adam')"
      ],
      "metadata": {
        "id": "CPMoPpDk7Z4-"
      },
      "execution_count": null,
      "outputs": []
    },
    {
      "cell_type": "code",
      "source": [
        "model.fit(sc_trained_samples, train_labels, batch_size=10, epochs=200, shuffle=True, verbose=2)"
      ],
      "metadata": {
        "colab": {
          "base_uri": "https://localhost:8080/"
        },
        "id": "7bUITojk7jel",
        "outputId": "a095c77d-eb50-426c-9f0d-f7c7c3ff7403"
      },
      "execution_count": null,
      "outputs": [
        {
          "output_type": "stream",
          "name": "stdout",
          "text": [
            "Epoch 1/200\n",
            "210/210 - 1s - loss: 0.5550 - 1s/epoch - 6ms/step\n",
            "Epoch 2/200\n",
            "210/210 - 0s - loss: 0.3378 - 254ms/epoch - 1ms/step\n",
            "Epoch 3/200\n",
            "210/210 - 0s - loss: 0.2648 - 272ms/epoch - 1ms/step\n",
            "Epoch 4/200\n",
            "210/210 - 0s - loss: 0.2500 - 268ms/epoch - 1ms/step\n",
            "Epoch 5/200\n",
            "210/210 - 0s - loss: 0.2429 - 262ms/epoch - 1ms/step\n",
            "Epoch 6/200\n",
            "210/210 - 0s - loss: 0.2395 - 289ms/epoch - 1ms/step\n",
            "Epoch 7/200\n",
            "210/210 - 0s - loss: 0.2366 - 258ms/epoch - 1ms/step\n",
            "Epoch 8/200\n",
            "210/210 - 0s - loss: 0.2340 - 266ms/epoch - 1ms/step\n",
            "Epoch 9/200\n",
            "210/210 - 0s - loss: 0.2330 - 256ms/epoch - 1ms/step\n",
            "Epoch 10/200\n",
            "210/210 - 0s - loss: 0.2335 - 257ms/epoch - 1ms/step\n",
            "Epoch 11/200\n",
            "210/210 - 0s - loss: 0.2310 - 259ms/epoch - 1ms/step\n",
            "Epoch 12/200\n",
            "210/210 - 0s - loss: 0.2314 - 273ms/epoch - 1ms/step\n",
            "Epoch 13/200\n",
            "210/210 - 0s - loss: 0.2294 - 266ms/epoch - 1ms/step\n",
            "Epoch 14/200\n",
            "210/210 - 0s - loss: 0.2290 - 259ms/epoch - 1ms/step\n",
            "Epoch 15/200\n",
            "210/210 - 0s - loss: 0.2269 - 265ms/epoch - 1ms/step\n",
            "Epoch 16/200\n",
            "210/210 - 0s - loss: 0.2281 - 292ms/epoch - 1ms/step\n",
            "Epoch 17/200\n",
            "210/210 - 0s - loss: 0.2264 - 256ms/epoch - 1ms/step\n",
            "Epoch 18/200\n",
            "210/210 - 0s - loss: 0.2260 - 265ms/epoch - 1ms/step\n",
            "Epoch 19/200\n",
            "210/210 - 0s - loss: 0.2259 - 256ms/epoch - 1ms/step\n",
            "Epoch 20/200\n",
            "210/210 - 0s - loss: 0.2255 - 274ms/epoch - 1ms/step\n",
            "Epoch 21/200\n",
            "210/210 - 0s - loss: 0.2251 - 269ms/epoch - 1ms/step\n",
            "Epoch 22/200\n",
            "210/210 - 0s - loss: 0.2241 - 275ms/epoch - 1ms/step\n",
            "Epoch 23/200\n",
            "210/210 - 0s - loss: 0.2245 - 273ms/epoch - 1ms/step\n",
            "Epoch 24/200\n",
            "210/210 - 0s - loss: 0.2235 - 250ms/epoch - 1ms/step\n",
            "Epoch 25/200\n",
            "210/210 - 0s - loss: 0.2236 - 261ms/epoch - 1ms/step\n",
            "Epoch 26/200\n",
            "210/210 - 0s - loss: 0.2225 - 273ms/epoch - 1ms/step\n",
            "Epoch 27/200\n",
            "210/210 - 0s - loss: 0.2214 - 283ms/epoch - 1ms/step\n",
            "Epoch 28/200\n",
            "210/210 - 1s - loss: 0.2210 - 579ms/epoch - 3ms/step\n",
            "Epoch 29/200\n",
            "210/210 - 1s - loss: 0.2228 - 656ms/epoch - 3ms/step\n",
            "Epoch 30/200\n",
            "210/210 - 0s - loss: 0.2190 - 256ms/epoch - 1ms/step\n",
            "Epoch 31/200\n",
            "210/210 - 0s - loss: 0.2200 - 261ms/epoch - 1ms/step\n",
            "Epoch 32/200\n",
            "210/210 - 0s - loss: 0.2184 - 270ms/epoch - 1ms/step\n",
            "Epoch 33/200\n",
            "210/210 - 0s - loss: 0.2182 - 261ms/epoch - 1ms/step\n",
            "Epoch 34/200\n",
            "210/210 - 0s - loss: 0.2169 - 258ms/epoch - 1ms/step\n",
            "Epoch 35/200\n",
            "210/210 - 0s - loss: 0.2163 - 262ms/epoch - 1ms/step\n",
            "Epoch 36/200\n",
            "210/210 - 0s - loss: 0.2154 - 262ms/epoch - 1ms/step\n",
            "Epoch 37/200\n",
            "210/210 - 0s - loss: 0.2170 - 250ms/epoch - 1ms/step\n",
            "Epoch 38/200\n",
            "210/210 - 0s - loss: 0.2151 - 249ms/epoch - 1ms/step\n",
            "Epoch 39/200\n",
            "210/210 - 0s - loss: 0.2149 - 264ms/epoch - 1ms/step\n",
            "Epoch 40/200\n",
            "210/210 - 0s - loss: 0.2137 - 407ms/epoch - 2ms/step\n",
            "Epoch 41/200\n",
            "210/210 - 1s - loss: 0.2147 - 581ms/epoch - 3ms/step\n",
            "Epoch 42/200\n",
            "210/210 - 0s - loss: 0.2126 - 366ms/epoch - 2ms/step\n",
            "Epoch 43/200\n",
            "210/210 - 0s - loss: 0.2119 - 259ms/epoch - 1ms/step\n",
            "Epoch 44/200\n",
            "210/210 - 0s - loss: 0.2113 - 281ms/epoch - 1ms/step\n",
            "Epoch 45/200\n",
            "210/210 - 0s - loss: 0.2117 - 484ms/epoch - 2ms/step\n",
            "Epoch 46/200\n",
            "210/210 - 0s - loss: 0.2111 - 397ms/epoch - 2ms/step\n",
            "Epoch 47/200\n",
            "210/210 - 0s - loss: 0.2102 - 262ms/epoch - 1ms/step\n",
            "Epoch 48/200\n",
            "210/210 - 0s - loss: 0.2107 - 271ms/epoch - 1ms/step\n",
            "Epoch 49/200\n",
            "210/210 - 0s - loss: 0.2100 - 253ms/epoch - 1ms/step\n",
            "Epoch 50/200\n",
            "210/210 - 0s - loss: 0.2104 - 297ms/epoch - 1ms/step\n",
            "Epoch 51/200\n",
            "210/210 - 0s - loss: 0.2087 - 258ms/epoch - 1ms/step\n",
            "Epoch 52/200\n",
            "210/210 - 0s - loss: 0.2088 - 263ms/epoch - 1ms/step\n",
            "Epoch 53/200\n",
            "210/210 - 0s - loss: 0.2094 - 260ms/epoch - 1ms/step\n",
            "Epoch 54/200\n",
            "210/210 - 0s - loss: 0.2075 - 266ms/epoch - 1ms/step\n",
            "Epoch 55/200\n",
            "210/210 - 0s - loss: 0.2076 - 275ms/epoch - 1ms/step\n",
            "Epoch 56/200\n",
            "210/210 - 0s - loss: 0.2078 - 268ms/epoch - 1ms/step\n",
            "Epoch 57/200\n",
            "210/210 - 0s - loss: 0.2100 - 264ms/epoch - 1ms/step\n",
            "Epoch 58/200\n",
            "210/210 - 0s - loss: 0.2069 - 248ms/epoch - 1ms/step\n",
            "Epoch 59/200\n",
            "210/210 - 0s - loss: 0.2075 - 265ms/epoch - 1ms/step\n",
            "Epoch 60/200\n",
            "210/210 - 0s - loss: 0.2063 - 254ms/epoch - 1ms/step\n",
            "Epoch 61/200\n",
            "210/210 - 0s - loss: 0.2058 - 260ms/epoch - 1ms/step\n",
            "Epoch 62/200\n",
            "210/210 - 0s - loss: 0.2051 - 253ms/epoch - 1ms/step\n",
            "Epoch 63/200\n",
            "210/210 - 0s - loss: 0.2048 - 264ms/epoch - 1ms/step\n",
            "Epoch 64/200\n",
            "210/210 - 0s - loss: 0.2063 - 267ms/epoch - 1ms/step\n",
            "Epoch 65/200\n",
            "210/210 - 0s - loss: 0.2044 - 264ms/epoch - 1ms/step\n",
            "Epoch 66/200\n",
            "210/210 - 0s - loss: 0.2053 - 248ms/epoch - 1ms/step\n",
            "Epoch 67/200\n",
            "210/210 - 0s - loss: 0.2046 - 264ms/epoch - 1ms/step\n",
            "Epoch 68/200\n",
            "210/210 - 0s - loss: 0.2066 - 265ms/epoch - 1ms/step\n",
            "Epoch 69/200\n",
            "210/210 - 0s - loss: 0.2040 - 258ms/epoch - 1ms/step\n",
            "Epoch 70/200\n",
            "210/210 - 0s - loss: 0.2042 - 256ms/epoch - 1ms/step\n",
            "Epoch 71/200\n",
            "210/210 - 0s - loss: 0.2032 - 271ms/epoch - 1ms/step\n",
            "Epoch 72/200\n",
            "210/210 - 0s - loss: 0.2036 - 264ms/epoch - 1ms/step\n",
            "Epoch 73/200\n",
            "210/210 - 0s - loss: 0.2030 - 264ms/epoch - 1ms/step\n",
            "Epoch 74/200\n",
            "210/210 - 0s - loss: 0.2035 - 276ms/epoch - 1ms/step\n",
            "Epoch 75/200\n",
            "210/210 - 0s - loss: 0.2024 - 265ms/epoch - 1ms/step\n",
            "Epoch 76/200\n",
            "210/210 - 0s - loss: 0.2037 - 259ms/epoch - 1ms/step\n",
            "Epoch 77/200\n",
            "210/210 - 0s - loss: 0.2032 - 254ms/epoch - 1ms/step\n",
            "Epoch 78/200\n",
            "210/210 - 0s - loss: 0.2021 - 267ms/epoch - 1ms/step\n",
            "Epoch 79/200\n",
            "210/210 - 0s - loss: 0.2026 - 255ms/epoch - 1ms/step\n",
            "Epoch 80/200\n",
            "210/210 - 0s - loss: 0.2024 - 257ms/epoch - 1ms/step\n",
            "Epoch 81/200\n",
            "210/210 - 0s - loss: 0.2012 - 259ms/epoch - 1ms/step\n",
            "Epoch 82/200\n",
            "210/210 - 0s - loss: 0.2021 - 268ms/epoch - 1ms/step\n",
            "Epoch 83/200\n",
            "210/210 - 0s - loss: 0.2007 - 254ms/epoch - 1ms/step\n",
            "Epoch 84/200\n",
            "210/210 - 0s - loss: 0.2023 - 275ms/epoch - 1ms/step\n",
            "Epoch 85/200\n",
            "210/210 - 0s - loss: 0.2014 - 261ms/epoch - 1ms/step\n",
            "Epoch 86/200\n",
            "210/210 - 0s - loss: 0.2006 - 268ms/epoch - 1ms/step\n",
            "Epoch 87/200\n",
            "210/210 - 0s - loss: 0.2025 - 265ms/epoch - 1ms/step\n",
            "Epoch 88/200\n",
            "210/210 - 0s - loss: 0.2017 - 255ms/epoch - 1ms/step\n",
            "Epoch 89/200\n",
            "210/210 - 0s - loss: 0.2011 - 249ms/epoch - 1ms/step\n",
            "Epoch 90/200\n",
            "210/210 - 0s - loss: 0.2001 - 280ms/epoch - 1ms/step\n",
            "Epoch 91/200\n",
            "210/210 - 0s - loss: 0.2010 - 257ms/epoch - 1ms/step\n",
            "Epoch 92/200\n",
            "210/210 - 0s - loss: 0.2004 - 270ms/epoch - 1ms/step\n",
            "Epoch 93/200\n",
            "210/210 - 0s - loss: 0.1998 - 255ms/epoch - 1ms/step\n",
            "Epoch 94/200\n",
            "210/210 - 0s - loss: 0.2011 - 267ms/epoch - 1ms/step\n",
            "Epoch 95/200\n",
            "210/210 - 0s - loss: 0.1995 - 265ms/epoch - 1ms/step\n",
            "Epoch 96/200\n",
            "210/210 - 0s - loss: 0.1997 - 262ms/epoch - 1ms/step\n",
            "Epoch 97/200\n",
            "210/210 - 0s - loss: 0.1999 - 262ms/epoch - 1ms/step\n",
            "Epoch 98/200\n",
            "210/210 - 0s - loss: 0.1992 - 267ms/epoch - 1ms/step\n",
            "Epoch 99/200\n",
            "210/210 - 0s - loss: 0.2012 - 254ms/epoch - 1ms/step\n",
            "Epoch 100/200\n",
            "210/210 - 0s - loss: 0.2004 - 254ms/epoch - 1ms/step\n",
            "Epoch 101/200\n",
            "210/210 - 0s - loss: 0.2000 - 264ms/epoch - 1ms/step\n",
            "Epoch 102/200\n",
            "210/210 - 0s - loss: 0.1996 - 253ms/epoch - 1ms/step\n",
            "Epoch 103/200\n",
            "210/210 - 0s - loss: 0.1997 - 257ms/epoch - 1ms/step\n",
            "Epoch 104/200\n",
            "210/210 - 0s - loss: 0.2010 - 251ms/epoch - 1ms/step\n",
            "Epoch 105/200\n",
            "210/210 - 0s - loss: 0.1988 - 266ms/epoch - 1ms/step\n",
            "Epoch 106/200\n",
            "210/210 - 0s - loss: 0.1997 - 260ms/epoch - 1ms/step\n",
            "Epoch 107/200\n",
            "210/210 - 0s - loss: 0.2004 - 251ms/epoch - 1ms/step\n",
            "Epoch 108/200\n",
            "210/210 - 0s - loss: 0.2004 - 256ms/epoch - 1ms/step\n",
            "Epoch 109/200\n",
            "210/210 - 0s - loss: 0.1974 - 257ms/epoch - 1ms/step\n",
            "Epoch 110/200\n",
            "210/210 - 0s - loss: 0.2003 - 262ms/epoch - 1ms/step\n",
            "Epoch 111/200\n",
            "210/210 - 0s - loss: 0.1990 - 251ms/epoch - 1ms/step\n",
            "Epoch 112/200\n",
            "210/210 - 0s - loss: 0.1985 - 257ms/epoch - 1ms/step\n",
            "Epoch 113/200\n",
            "210/210 - 0s - loss: 0.1985 - 278ms/epoch - 1ms/step\n",
            "Epoch 114/200\n",
            "210/210 - 0s - loss: 0.1986 - 259ms/epoch - 1ms/step\n",
            "Epoch 115/200\n",
            "210/210 - 0s - loss: 0.1976 - 259ms/epoch - 1ms/step\n",
            "Epoch 116/200\n",
            "210/210 - 0s - loss: 0.1997 - 258ms/epoch - 1ms/step\n",
            "Epoch 117/200\n",
            "210/210 - 0s - loss: 0.1985 - 272ms/epoch - 1ms/step\n",
            "Epoch 118/200\n",
            "210/210 - 0s - loss: 0.1980 - 254ms/epoch - 1ms/step\n",
            "Epoch 119/200\n",
            "210/210 - 0s - loss: 0.1987 - 254ms/epoch - 1ms/step\n",
            "Epoch 120/200\n",
            "210/210 - 0s - loss: 0.1982 - 256ms/epoch - 1ms/step\n",
            "Epoch 121/200\n",
            "210/210 - 0s - loss: 0.1979 - 267ms/epoch - 1ms/step\n",
            "Epoch 122/200\n",
            "210/210 - 0s - loss: 0.1991 - 259ms/epoch - 1ms/step\n",
            "Epoch 123/200\n",
            "210/210 - 0s - loss: 0.1988 - 256ms/epoch - 1ms/step\n",
            "Epoch 124/200\n",
            "210/210 - 0s - loss: 0.1992 - 263ms/epoch - 1ms/step\n",
            "Epoch 125/200\n",
            "210/210 - 0s - loss: 0.1984 - 270ms/epoch - 1ms/step\n",
            "Epoch 126/200\n",
            "210/210 - 0s - loss: 0.1978 - 261ms/epoch - 1ms/step\n",
            "Epoch 127/200\n",
            "210/210 - 0s - loss: 0.1990 - 265ms/epoch - 1ms/step\n",
            "Epoch 128/200\n",
            "210/210 - 0s - loss: 0.1980 - 265ms/epoch - 1ms/step\n",
            "Epoch 129/200\n",
            "210/210 - 0s - loss: 0.1980 - 267ms/epoch - 1ms/step\n",
            "Epoch 130/200\n",
            "210/210 - 0s - loss: 0.1980 - 261ms/epoch - 1ms/step\n",
            "Epoch 131/200\n",
            "210/210 - 0s - loss: 0.1973 - 262ms/epoch - 1ms/step\n",
            "Epoch 132/200\n",
            "210/210 - 0s - loss: 0.1963 - 278ms/epoch - 1ms/step\n",
            "Epoch 133/200\n",
            "210/210 - 0s - loss: 0.1973 - 270ms/epoch - 1ms/step\n",
            "Epoch 134/200\n",
            "210/210 - 0s - loss: 0.1979 - 265ms/epoch - 1ms/step\n",
            "Epoch 135/200\n",
            "210/210 - 0s - loss: 0.1972 - 256ms/epoch - 1ms/step\n",
            "Epoch 136/200\n",
            "210/210 - 0s - loss: 0.1963 - 281ms/epoch - 1ms/step\n",
            "Epoch 137/200\n",
            "210/210 - 0s - loss: 0.1971 - 281ms/epoch - 1ms/step\n",
            "Epoch 138/200\n",
            "210/210 - 0s - loss: 0.1981 - 251ms/epoch - 1ms/step\n",
            "Epoch 139/200\n",
            "210/210 - 0s - loss: 0.1971 - 256ms/epoch - 1ms/step\n",
            "Epoch 140/200\n",
            "210/210 - 0s - loss: 0.1972 - 271ms/epoch - 1ms/step\n",
            "Epoch 141/200\n",
            "210/210 - 0s - loss: 0.1978 - 254ms/epoch - 1ms/step\n",
            "Epoch 142/200\n",
            "210/210 - 0s - loss: 0.1966 - 252ms/epoch - 1ms/step\n",
            "Epoch 143/200\n",
            "210/210 - 0s - loss: 0.1967 - 263ms/epoch - 1ms/step\n",
            "Epoch 144/200\n",
            "210/210 - 0s - loss: 0.1976 - 274ms/epoch - 1ms/step\n",
            "Epoch 145/200\n",
            "210/210 - 0s - loss: 0.1962 - 261ms/epoch - 1ms/step\n",
            "Epoch 146/200\n",
            "210/210 - 0s - loss: 0.1961 - 253ms/epoch - 1ms/step\n",
            "Epoch 147/200\n",
            "210/210 - 0s - loss: 0.1969 - 284ms/epoch - 1ms/step\n",
            "Epoch 148/200\n",
            "210/210 - 0s - loss: 0.1969 - 260ms/epoch - 1ms/step\n",
            "Epoch 149/200\n",
            "210/210 - 0s - loss: 0.1964 - 265ms/epoch - 1ms/step\n",
            "Epoch 150/200\n",
            "210/210 - 0s - loss: 0.1963 - 259ms/epoch - 1ms/step\n",
            "Epoch 151/200\n",
            "210/210 - 0s - loss: 0.1957 - 274ms/epoch - 1ms/step\n",
            "Epoch 152/200\n",
            "210/210 - 0s - loss: 0.1965 - 255ms/epoch - 1ms/step\n",
            "Epoch 153/200\n",
            "210/210 - 0s - loss: 0.1969 - 250ms/epoch - 1ms/step\n",
            "Epoch 154/200\n",
            "210/210 - 0s - loss: 0.1975 - 258ms/epoch - 1ms/step\n",
            "Epoch 155/200\n",
            "210/210 - 0s - loss: 0.1951 - 274ms/epoch - 1ms/step\n",
            "Epoch 156/200\n",
            "210/210 - 0s - loss: 0.1954 - 269ms/epoch - 1ms/step\n",
            "Epoch 157/200\n",
            "210/210 - 0s - loss: 0.1959 - 258ms/epoch - 1ms/step\n",
            "Epoch 158/200\n",
            "210/210 - 0s - loss: 0.1956 - 258ms/epoch - 1ms/step\n",
            "Epoch 159/200\n",
            "210/210 - 0s - loss: 0.1973 - 265ms/epoch - 1ms/step\n",
            "Epoch 160/200\n",
            "210/210 - 0s - loss: 0.1971 - 254ms/epoch - 1ms/step\n",
            "Epoch 161/200\n",
            "210/210 - 0s - loss: 0.1968 - 255ms/epoch - 1ms/step\n",
            "Epoch 162/200\n",
            "210/210 - 0s - loss: 0.1953 - 248ms/epoch - 1ms/step\n",
            "Epoch 163/200\n",
            "210/210 - 0s - loss: 0.1964 - 261ms/epoch - 1ms/step\n",
            "Epoch 164/200\n",
            "210/210 - 0s - loss: 0.1945 - 260ms/epoch - 1ms/step\n",
            "Epoch 165/200\n",
            "210/210 - 0s - loss: 0.1948 - 247ms/epoch - 1ms/step\n",
            "Epoch 166/200\n",
            "210/210 - 0s - loss: 0.1956 - 256ms/epoch - 1ms/step\n",
            "Epoch 167/200\n",
            "210/210 - 0s - loss: 0.1955 - 260ms/epoch - 1ms/step\n",
            "Epoch 168/200\n",
            "210/210 - 0s - loss: 0.1950 - 255ms/epoch - 1ms/step\n",
            "Epoch 169/200\n",
            "210/210 - 0s - loss: 0.1960 - 249ms/epoch - 1ms/step\n",
            "Epoch 170/200\n",
            "210/210 - 0s - loss: 0.1968 - 267ms/epoch - 1ms/step\n",
            "Epoch 171/200\n",
            "210/210 - 0s - loss: 0.1952 - 275ms/epoch - 1ms/step\n",
            "Epoch 172/200\n",
            "210/210 - 0s - loss: 0.1954 - 253ms/epoch - 1ms/step\n",
            "Epoch 173/200\n",
            "210/210 - 0s - loss: 0.1961 - 262ms/epoch - 1ms/step\n",
            "Epoch 174/200\n",
            "210/210 - 0s - loss: 0.1955 - 256ms/epoch - 1ms/step\n",
            "Epoch 175/200\n",
            "210/210 - 0s - loss: 0.1947 - 259ms/epoch - 1ms/step\n",
            "Epoch 176/200\n",
            "210/210 - 0s - loss: 0.1956 - 256ms/epoch - 1ms/step\n",
            "Epoch 177/200\n",
            "210/210 - 0s - loss: 0.1972 - 250ms/epoch - 1ms/step\n",
            "Epoch 178/200\n",
            "210/210 - 0s - loss: 0.1938 - 287ms/epoch - 1ms/step\n",
            "Epoch 179/200\n",
            "210/210 - 0s - loss: 0.1989 - 253ms/epoch - 1ms/step\n",
            "Epoch 180/200\n",
            "210/210 - 0s - loss: 0.1954 - 250ms/epoch - 1ms/step\n",
            "Epoch 181/200\n",
            "210/210 - 0s - loss: 0.1953 - 248ms/epoch - 1ms/step\n",
            "Epoch 182/200\n",
            "210/210 - 0s - loss: 0.1943 - 280ms/epoch - 1ms/step\n",
            "Epoch 183/200\n",
            "210/210 - 0s - loss: 0.1970 - 250ms/epoch - 1ms/step\n",
            "Epoch 184/200\n",
            "210/210 - 0s - loss: 0.1961 - 253ms/epoch - 1ms/step\n",
            "Epoch 185/200\n",
            "210/210 - 0s - loss: 0.1935 - 263ms/epoch - 1ms/step\n",
            "Epoch 186/200\n",
            "210/210 - 0s - loss: 0.1935 - 271ms/epoch - 1ms/step\n",
            "Epoch 187/200\n",
            "210/210 - 0s - loss: 0.1946 - 252ms/epoch - 1ms/step\n",
            "Epoch 188/200\n",
            "210/210 - 0s - loss: 0.1953 - 262ms/epoch - 1ms/step\n",
            "Epoch 189/200\n",
            "210/210 - 0s - loss: 0.1950 - 251ms/epoch - 1ms/step\n",
            "Epoch 190/200\n",
            "210/210 - 0s - loss: 0.1941 - 267ms/epoch - 1ms/step\n",
            "Epoch 191/200\n",
            "210/210 - 0s - loss: 0.1968 - 263ms/epoch - 1ms/step\n",
            "Epoch 192/200\n",
            "210/210 - 0s - loss: 0.1961 - 261ms/epoch - 1ms/step\n",
            "Epoch 193/200\n",
            "210/210 - 0s - loss: 0.1940 - 260ms/epoch - 1ms/step\n",
            "Epoch 194/200\n",
            "210/210 - 0s - loss: 0.1951 - 268ms/epoch - 1ms/step\n",
            "Epoch 195/200\n",
            "210/210 - 0s - loss: 0.1957 - 249ms/epoch - 1ms/step\n",
            "Epoch 196/200\n",
            "210/210 - 0s - loss: 0.1946 - 263ms/epoch - 1ms/step\n",
            "Epoch 197/200\n",
            "210/210 - 0s - loss: 0.1958 - 265ms/epoch - 1ms/step\n",
            "Epoch 198/200\n",
            "210/210 - 0s - loss: 0.1942 - 266ms/epoch - 1ms/step\n",
            "Epoch 199/200\n",
            "210/210 - 0s - loss: 0.1946 - 271ms/epoch - 1ms/step\n",
            "Epoch 200/200\n",
            "210/210 - 0s - loss: 0.1953 - 274ms/epoch - 1ms/step\n"
          ]
        },
        {
          "output_type": "execute_result",
          "data": {
            "text/plain": [
              "<keras.callbacks.History at 0x7f6c876a9110>"
            ]
          },
          "metadata": {},
          "execution_count": 16
        }
      ]
    },
    {
      "cell_type": "markdown",
      "source": [
        "1.model.save()"
      ],
      "metadata": {
        "id": "zGtWALGG6Vhc"
      }
    },
    {
      "cell_type": "code",
      "source": [
        "import os.path\n"
      ],
      "metadata": {
        "id": "VxazNiSn6VRY"
      },
      "execution_count": null,
      "outputs": []
    },
    {
      "cell_type": "code",
      "source": [
        "if os.path.isfile(\"model.h5\") is False: \n",
        "  model.save(\"model.h5\")"
      ],
      "metadata": {
        "id": "rNhOaE0H6PCW"
      },
      "execution_count": null,
      "outputs": []
    },
    {
      "cell_type": "code",
      "source": [
        "from tensorflow.keras.models import Model, load_model, save_model\n",
        "new_model = load_model(\"model.h5\")"
      ],
      "metadata": {
        "id": "SXGDAHg_8FHr"
      },
      "execution_count": null,
      "outputs": []
    },
    {
      "cell_type": "code",
      "source": [
        "new_model"
      ],
      "metadata": {
        "colab": {
          "base_uri": "https://localhost:8080/"
        },
        "id": "KvhRxspn9JGg",
        "outputId": "0e092bf7-2a46-425b-9c30-6ff24b2b76e4"
      },
      "execution_count": null,
      "outputs": [
        {
          "output_type": "execute_result",
          "data": {
            "text/plain": [
              "<keras.engine.sequential.Sequential at 0x7f6c87199b90>"
            ]
          },
          "metadata": {},
          "execution_count": 23
        }
      ]
    },
    {
      "cell_type": "code",
      "source": [
        "new_model.summary()"
      ],
      "metadata": {
        "colab": {
          "base_uri": "https://localhost:8080/"
        },
        "id": "gCJC5aFK-BoG",
        "outputId": "b6a392f7-d3f2-406d-b77d-45ff99fea606"
      },
      "execution_count": null,
      "outputs": [
        {
          "output_type": "stream",
          "name": "stdout",
          "text": [
            "Model: \"sequential\"\n",
            "_________________________________________________________________\n",
            " Layer (type)                Output Shape              Param #   \n",
            "=================================================================\n",
            " dense (Dense)               (None, 16)                32        \n",
            "                                                                 \n",
            " dense_1 (Dense)             (None, 32)                544       \n",
            "                                                                 \n",
            " dense_2 (Dense)             (None, 2)                 66        \n",
            "                                                                 \n",
            "=================================================================\n",
            "Total params: 642\n",
            "Trainable params: 642\n",
            "Non-trainable params: 0\n",
            "_________________________________________________________________\n"
          ]
        }
      ]
    },
    {
      "cell_type": "code",
      "source": [
        "new_model.get_weights()"
      ],
      "metadata": {
        "colab": {
          "base_uri": "https://localhost:8080/"
        },
        "id": "Ru39MG0K-LBq",
        "outputId": "593ccbb5-7a66-414a-fdd1-c05be522ce73"
      },
      "execution_count": null,
      "outputs": [
        {
          "output_type": "execute_result",
          "data": {
            "text/plain": [
              "[array([[-0.36819646, -0.4172001 , -0.21200284, -0.05569041, -0.22336197,\n",
              "         -0.23143709,  0.51239145, -0.52779484, -0.49427646, -0.0229556 ,\n",
              "          0.70642626,  0.32861006,  0.5767585 ,  0.7899178 , -0.573041  ,\n",
              "          0.65643185]], dtype=float32),\n",
              " array([ 0.        ,  0.        ,  0.        ,  0.        ,  0.        ,\n",
              "         0.        , -0.29650623,  0.        ,  0.        ,  0.        ,\n",
              "        -0.40761548,  0.20406082, -0.13868164, -0.455474  ,  0.        ,\n",
              "        -0.3792329 ], dtype=float32),\n",
              " array([[ 2.96590596e-01,  1.55656427e-01, -2.60745347e-01,\n",
              "          6.06419742e-02, -2.87129521e-01,  3.28592092e-01,\n",
              "          2.52136499e-01,  6.36572540e-02, -2.79710919e-01,\n",
              "         -3.36222589e-01,  1.37292594e-01,  2.12605596e-02,\n",
              "          3.05263191e-01, -1.25352144e-01, -1.31993309e-01,\n",
              "          1.19592100e-01, -3.19579482e-01,  1.09190762e-01,\n",
              "          3.00973564e-01, -2.02332258e-01, -3.36308569e-01,\n",
              "         -1.41147688e-01,  2.61187047e-01,  8.26457143e-03,\n",
              "          2.24636525e-01, -2.16767058e-01,  3.07893753e-02,\n",
              "         -1.39800921e-01, -1.38088495e-01,  3.53549570e-01,\n",
              "         -9.46551561e-03,  2.38738388e-01],\n",
              "        [ 1.22728348e-01, -1.06103763e-01,  2.57297486e-01,\n",
              "         -9.40237045e-02, -2.97837943e-01,  1.66416675e-01,\n",
              "          2.33048469e-01, -1.58259302e-01,  1.14610434e-01,\n",
              "          3.32894117e-01,  2.42167920e-01, -1.46560773e-01,\n",
              "         -1.55081525e-01, -2.80212820e-01,  3.55836749e-03,\n",
              "         -9.72414613e-02,  3.26133966e-02, -5.57754636e-02,\n",
              "          3.44844252e-01, -1.87564492e-02, -1.43868268e-01,\n",
              "          6.92926943e-02,  1.17639452e-01, -2.08823055e-01,\n",
              "         -7.50855505e-02, -7.97744691e-02,  3.38487417e-01,\n",
              "          2.28775293e-01,  1.71129256e-01, -9.12550986e-02,\n",
              "         -1.58358008e-01, -2.90496290e-01],\n",
              "        [-2.03146115e-01,  1.00641370e-01, -2.21381292e-01,\n",
              "         -3.39962721e-01, -2.47918636e-01, -3.13252062e-01,\n",
              "         -2.75930524e-01, -2.78318405e-01,  3.47324520e-01,\n",
              "          1.71387643e-01, -3.03282231e-01, -1.21137291e-01,\n",
              "          1.98045522e-01,  5.64420521e-02,  2.22590476e-01,\n",
              "          3.13889652e-01,  1.86292022e-01, -1.73340738e-02,\n",
              "          1.38226748e-01,  2.72827655e-01, -1.03975534e-02,\n",
              "         -1.25171334e-01, -3.49086672e-01, -2.68144667e-01,\n",
              "         -2.42028236e-02,  4.12363112e-02, -2.51343548e-02,\n",
              "          1.67835981e-01, -3.21095258e-01,  1.22380972e-01,\n",
              "         -6.86556995e-02, -1.95099354e-01],\n",
              "        [-1.65240765e-01,  2.27387458e-01, -3.33259016e-01,\n",
              "          2.97494382e-01, -1.23800963e-01,  1.41626656e-01,\n",
              "          1.08556360e-01, -4.88643944e-02,  2.26571411e-01,\n",
              "         -2.16606215e-01, -9.75939035e-02,  3.14317733e-01,\n",
              "          1.27207696e-01,  2.29594618e-01, -1.81379557e-01,\n",
              "          1.81375474e-01, -1.52035221e-01,  2.83867925e-01,\n",
              "         -6.65857792e-02, -2.59982914e-01,  1.67867929e-01,\n",
              "         -7.96768069e-03,  3.51169109e-02, -2.99672514e-01,\n",
              "         -1.35014221e-01, -1.26159251e-01, -2.70503193e-01,\n",
              "         -1.52999043e-01,  3.10772210e-01,  7.93969631e-03,\n",
              "          2.50092834e-01,  6.17085397e-02],\n",
              "        [ 3.78825068e-02, -3.29683095e-01,  2.07287103e-01,\n",
              "          2.06668943e-01,  4.28942740e-02,  2.04751521e-01,\n",
              "         -6.42189980e-02, -1.90177113e-01,  1.42910272e-01,\n",
              "          1.64183110e-01, -1.93878025e-01,  2.87046343e-01,\n",
              "          3.45951945e-01, -2.43333057e-01, -2.70274997e-01,\n",
              "         -2.25264877e-01, -3.99174392e-02,  1.57303810e-02,\n",
              "         -1.95576042e-01, -2.74300575e-03,  3.06080580e-02,\n",
              "          2.82998115e-01, -1.46619186e-01,  1.20127380e-01,\n",
              "         -2.12217391e-01,  5.30684590e-02, -7.77978599e-02,\n",
              "          7.32465088e-02, -2.11825922e-01,  1.73303038e-01,\n",
              "         -8.87320936e-02, -2.69827574e-01],\n",
              "        [ 6.39329851e-02,  1.46294057e-01,  3.33628625e-01,\n",
              "          1.14002168e-01,  1.93694234e-02,  3.24382633e-01,\n",
              "          2.11189002e-01, -2.80499160e-01, -1.01535916e-02,\n",
              "          1.68641776e-01,  3.24653655e-01, -1.06202364e-02,\n",
              "          3.01415056e-01, -3.11327815e-01,  3.30798924e-02,\n",
              "          3.33846956e-01, -3.05690169e-02, -5.82649708e-02,\n",
              "         -3.42426121e-01,  1.81143552e-01, -2.79855162e-01,\n",
              "          1.28285974e-01, -3.44262451e-01,  2.40993470e-01,\n",
              "         -1.43615812e-01, -7.23357201e-02,  1.39953405e-01,\n",
              "         -8.07374418e-02, -2.84051716e-01, -1.25093356e-01,\n",
              "         -2.44538963e-01, -1.99075833e-01],\n",
              "        [-4.50289488e-01, -1.88140917e+00, -3.45656157e-01,\n",
              "         -2.49109820e-01, -1.13101490e-01,  2.09420919e-01,\n",
              "         -6.45762086e-02, -1.62191521e-02, -1.44766465e-01,\n",
              "         -3.38432670e+00,  2.73812383e-01,  2.65507370e-01,\n",
              "         -2.02795118e-03, -3.55267262e+00,  8.86430293e-02,\n",
              "         -1.85507643e+00, -3.48809171e+00, -4.02037650e-02,\n",
              "         -2.41782129e-01,  3.32222342e-01, -1.75190344e-01,\n",
              "          9.27939340e-02, -3.90178752e+00, -2.82610536e-01,\n",
              "         -1.89820200e-01, -3.15502810e+00,  1.29199713e-01,\n",
              "         -4.03422356e+00,  2.27732375e-01, -4.03398275e-01,\n",
              "          7.98163414e-02,  2.33360127e-01],\n",
              "        [-3.29975665e-01, -1.89932749e-01, -2.20015943e-02,\n",
              "          1.80702835e-01, -1.74801856e-01,  2.53893048e-01,\n",
              "         -3.17271531e-01,  6.76825345e-02,  1.48255020e-01,\n",
              "         -4.97981906e-02,  2.40039259e-01,  6.51058555e-03,\n",
              "         -2.94110894e-01,  3.12227696e-01,  7.93191791e-02,\n",
              "          8.73186588e-02, -3.38998824e-01,  9.33718681e-02,\n",
              "         -3.01013887e-01,  9.02147293e-02,  5.29966354e-02,\n",
              "         -7.62772858e-02,  8.50769579e-02,  3.22375268e-01,\n",
              "          3.21683288e-02, -2.29210734e-01,  2.58619577e-01,\n",
              "         -5.30656576e-02,  6.53681159e-03, -9.31380391e-02,\n",
              "          8.55771601e-02,  1.91173047e-01],\n",
              "        [ 6.86134696e-02,  3.13773066e-01,  2.15246469e-01,\n",
              "         -2.22313076e-01,  1.73643231e-02,  3.13940048e-02,\n",
              "          9.35635567e-02, -3.16876680e-01,  1.17928982e-01,\n",
              "         -2.83312976e-01, -6.73776269e-02,  2.50964910e-01,\n",
              "         -2.49746025e-01, -3.23608905e-01, -2.13902757e-01,\n",
              "         -8.19295049e-02, -3.51474702e-01, -1.42419428e-01,\n",
              "          2.96336621e-01,  2.12106407e-02,  2.24439472e-01,\n",
              "         -2.65480459e-01, -5.54812551e-02, -2.60616034e-01,\n",
              "          2.54782349e-01,  1.68204635e-01, -2.96679765e-01,\n",
              "          6.63344264e-02, -1.99751019e-01,  1.84979469e-01,\n",
              "         -2.98202932e-01,  1.64670020e-01],\n",
              "        [ 1.50544554e-01, -3.62724066e-04,  2.68524081e-01,\n",
              "          3.07062358e-01,  1.81755722e-02,  1.28131896e-01,\n",
              "         -3.13753098e-01,  3.14031214e-01,  3.20988595e-02,\n",
              "          2.69767374e-01, -3.49389434e-01,  3.11057240e-01,\n",
              "          2.81981736e-01, -1.24007910e-01,  2.89979309e-01,\n",
              "          2.70837992e-01,  3.96811962e-03, -1.33424535e-01,\n",
              "          2.10842162e-01, -3.59934866e-02, -1.37827694e-02,\n",
              "          1.73223823e-01,  1.40088797e-01, -2.52102554e-01,\n",
              "         -1.91384554e-02,  2.03440577e-01, -6.26949668e-02,\n",
              "         -3.24310988e-01,  3.13495666e-01,  2.94875294e-01,\n",
              "         -7.42219388e-02, -8.02406967e-02],\n",
              "        [-4.02493834e-01, -1.64603174e+00, -4.08160090e-02,\n",
              "          2.79248692e-02,  2.04815995e-02,  1.75117269e-01,\n",
              "         -1.47406235e-01, -3.48995715e-01, -1.57430768e-01,\n",
              "         -3.60832548e+00, -8.85301456e-02,  1.43568605e-01,\n",
              "          1.63104057e-01, -3.10827756e+00,  1.12982336e-02,\n",
              "         -1.17802191e+00, -3.18233347e+00,  3.94640453e-02,\n",
              "         -8.99139512e-03,  2.18152642e-01,  1.08505800e-01,\n",
              "          4.76393700e-02, -3.41456556e+00, -2.42271721e-01,\n",
              "         -2.19496027e-01, -3.25984168e+00,  3.67718071e-01,\n",
              "         -3.66600418e+00,  1.43390387e-01,  1.03354357e-01,\n",
              "         -1.06051564e-02,  1.38669342e-01],\n",
              "        [ 3.05708289e-01,  3.51838619e-01, -2.21047238e-01,\n",
              "         -8.55579153e-02, -1.58541366e-01,  3.00029814e-01,\n",
              "         -9.78335440e-02, -4.87711988e-02,  4.36889715e-02,\n",
              "          1.05502486e-01, -1.38582960e-01, -1.27889857e-01,\n",
              "         -1.56193569e-01, -2.83672839e-01,  4.14139211e-01,\n",
              "          2.16727212e-01, -7.61202797e-02,  3.28512192e-01,\n",
              "          2.55699813e-01, -2.80825198e-01, -1.56827837e-01,\n",
              "         -2.72332281e-01,  8.17827974e-03, -3.30262542e-01,\n",
              "          3.75621736e-01,  1.96171671e-01,  4.37161736e-02,\n",
              "         -2.98170507e-01,  4.41667527e-01, -1.21147320e-01,\n",
              "          3.09175134e-01,  9.80325639e-02],\n",
              "        [ 4.62465316e-01,  1.81681812e-01,  1.44171715e-02,\n",
              "          3.97183329e-01,  1.72776893e-01,  4.42094564e-01,\n",
              "         -3.42683494e-02, -6.76455498e-02, -2.10957061e-02,\n",
              "         -8.17314833e-02, -4.30772565e-02,  8.52093026e-02,\n",
              "          3.76069434e-02,  1.31558120e-01,  3.83195281e-01,\n",
              "         -3.91972065e-02,  2.95346193e-02,  5.43406345e-02,\n",
              "          3.14961493e-01,  3.72648567e-01,  4.24964130e-01,\n",
              "          1.23316549e-01, -7.81760644e-03, -2.44242549e-02,\n",
              "          1.41915217e-01,  2.27888227e-02,  3.28180939e-01,\n",
              "          3.58010978e-02, -8.77097771e-02,  2.80989438e-01,\n",
              "          3.75567436e-01, -1.61024570e-01],\n",
              "        [ 2.96929162e-02, -1.42312062e+00, -1.28884554e-01,\n",
              "          7.97268748e-02, -1.34512186e-01, -4.09120381e-01,\n",
              "         -8.87711346e-02,  3.34061474e-01, -3.42888385e-01,\n",
              "         -3.09942365e+00, -2.03007042e-01,  2.61312395e-01,\n",
              "         -3.43104869e-01, -3.48072052e+00, -2.70048350e-01,\n",
              "         -1.27550375e+00, -3.39895725e+00,  5.20527326e-02,\n",
              "          7.83538818e-02,  2.57179856e-01,  1.80551618e-01,\n",
              "          8.84701982e-02, -3.50536633e+00, -3.36141586e-01,\n",
              "          6.41313642e-02, -3.19399667e+00,  4.21056241e-01,\n",
              "         -3.27609468e+00,  1.21672541e-01,  1.04126126e-01,\n",
              "         -3.70592237e-01, -1.93092152e-01],\n",
              "        [ 8.16713274e-02,  8.71849060e-03,  4.08307612e-02,\n",
              "         -4.27614450e-02, -1.19439870e-01,  1.23164386e-01,\n",
              "         -1.43066645e-02,  2.96649069e-01,  1.29246712e-03,\n",
              "          2.22327560e-01,  1.80377990e-01, -2.01526165e-01,\n",
              "          1.83885604e-01,  1.34585589e-01, -1.25960991e-01,\n",
              "         -2.99979270e-01,  5.96741140e-02, -2.08838582e-02,\n",
              "         -2.59267092e-02,  9.81308520e-02, -3.39782059e-01,\n",
              "         -2.71773398e-01,  1.64592654e-01,  1.22755140e-01,\n",
              "         -9.45325196e-02,  2.08477765e-01,  5.00665009e-02,\n",
              "          4.48122621e-03,  1.39520228e-01, -1.08744174e-01,\n",
              "          1.30307972e-02,  4.61671650e-02],\n",
              "        [-2.17621818e-01, -1.63073170e+00, -1.22309223e-01,\n",
              "          7.87400156e-02, -2.71550536e-01, -1.90584987e-01,\n",
              "          2.30905980e-01,  1.30513841e-02,  3.30430418e-01,\n",
              "         -3.41089964e+00, -2.08833873e-01,  1.37387112e-01,\n",
              "          2.57710487e-01, -3.90527916e+00, -3.34881693e-01,\n",
              "         -1.48771775e+00, -3.47529125e+00,  3.75944227e-02,\n",
              "         -2.07212893e-03,  1.93006203e-01, -2.66304702e-01,\n",
              "         -1.58280581e-01, -3.60691071e+00, -1.21412680e-01,\n",
              "          1.09962031e-01, -3.24450827e+00,  5.63320816e-01,\n",
              "         -3.91450500e+00,  6.87426925e-02, -5.47049418e-02,\n",
              "         -5.52909747e-02, -3.22464973e-01]], dtype=float32),\n",
              " array([ 0.14647551,  0.25602403,  0.        , -0.16575254, -0.03103997,\n",
              "         0.20276837,  0.        , -0.00179961, -0.01734156,  0.16012208,\n",
              "        -0.00557139, -0.2002913 , -0.00961223,  0.28565437, -0.08470216,\n",
              "         0.31515354,  0.21506137,  0.24687779,  0.10829426, -0.16969542,\n",
              "        -0.12578231, -0.00663638,  0.1976138 ,  0.        ,  0.23953265,\n",
              "         0.09146602, -0.25844377,  0.3236548 ,  0.26426563, -0.03830365,\n",
              "         0.267787  , -0.06974588], dtype=float32),\n",
              " array([[-5.27871251e-01,  4.52016711e-01],\n",
              "        [ 1.59633517e+00, -1.61227107e+00],\n",
              "        [-2.51489997e-01,  2.42292613e-01],\n",
              "        [-1.49813980e-01, -1.71181858e-01],\n",
              "        [-1.10879213e-01, -1.19799785e-01],\n",
              "        [-3.19611549e-01,  4.75852430e-01],\n",
              "        [ 8.58833492e-02, -3.63828003e-01],\n",
              "        [ 3.10400367e-01, -3.44825417e-01],\n",
              "        [-3.63474399e-01,  7.96366781e-02],\n",
              "        [ 1.26441872e+00, -1.21433127e+00],\n",
              "        [-3.25483680e-02, -2.24538278e-02],\n",
              "        [ 2.41882533e-01,  1.48310855e-01],\n",
              "        [ 3.53288986e-02,  1.45474553e-01],\n",
              "        [ 1.72550511e+00, -1.38768446e+00],\n",
              "        [ 2.39647120e-01,  3.32008421e-01],\n",
              "        [ 1.03502178e+00, -1.01514411e+00],\n",
              "        [ 1.51615894e+00, -1.64128625e+00],\n",
              "        [-5.28358102e-01,  1.41849801e-01],\n",
              "        [-4.06798840e-01,  1.83956221e-01],\n",
              "        [ 5.00058055e-01,  6.08948199e-03],\n",
              "        [-4.76308353e-02, -7.57767111e-02],\n",
              "        [ 1.39968202e-03, -3.27193588e-01],\n",
              "        [ 1.85467899e+00, -1.49925673e+00],\n",
              "        [ 1.86916560e-01, -7.92719424e-02],\n",
              "        [-5.93387127e-01,  1.59117445e-01],\n",
              "        [ 1.63058174e+00, -1.62502992e+00],\n",
              "        [ 2.29527638e-03, -7.42526412e-01],\n",
              "        [ 1.52111983e+00, -1.83705902e+00],\n",
              "        [-5.89937568e-01,  1.75737008e-01],\n",
              "        [-1.21037297e-01, -1.33507594e-01],\n",
              "        [-6.92213535e-01,  6.82270169e-01],\n",
              "        [-3.31516892e-01, -1.75499067e-01]], dtype=float32),\n",
              " array([-0.39366838,  0.3936685 ], dtype=float32)]"
            ]
          },
          "metadata": {},
          "execution_count": 25
        }
      ]
    },
    {
      "cell_type": "code",
      "source": [
        "new_model.optimizer"
      ],
      "metadata": {
        "colab": {
          "base_uri": "https://localhost:8080/"
        },
        "id": "J3_A3P3F_9dF",
        "outputId": "b89ceaca-6572-4ce3-a9c2-7e2c8c1ac237"
      },
      "execution_count": null,
      "outputs": [
        {
          "output_type": "execute_result",
          "data": {
            "text/plain": [
              "<keras.optimizer_v2.adam.Adam at 0x7f6c87228150>"
            ]
          },
          "metadata": {},
          "execution_count": 26
        }
      ]
    },
    {
      "cell_type": "markdown",
      "source": [
        "model.to_json()\n",
        "if yo only need to save the architecture of the model not the weights and the training configuration you can use the following function to save the architecture only."
      ],
      "metadata": {
        "id": "ZdQye7CaDGfR"
      }
    },
    {
      "cell_type": "code",
      "source": [
        "json_model = model.to_json() "
      ],
      "metadata": {
        "id": "b2lOP42oA3os"
      },
      "execution_count": null,
      "outputs": []
    },
    {
      "cell_type": "code",
      "source": [
        "json_model"
      ],
      "metadata": {
        "colab": {
          "base_uri": "https://localhost:8080/",
          "height": 140
        },
        "id": "EW2JIiovEwoM",
        "outputId": "8cdfc017-391d-4995-d6fd-681afdfd55cb"
      },
      "execution_count": null,
      "outputs": [
        {
          "output_type": "execute_result",
          "data": {
            "text/plain": [
              "'{\"class_name\": \"Sequential\", \"config\": {\"name\": \"sequential\", \"layers\": [{\"class_name\": \"InputLayer\", \"config\": {\"batch_input_shape\": [null, 1], \"dtype\": \"float32\", \"sparse\": false, \"ragged\": false, \"name\": \"dense_input\"}}, {\"class_name\": \"Dense\", \"config\": {\"name\": \"dense\", \"trainable\": true, \"batch_input_shape\": [null, 1], \"dtype\": \"float32\", \"units\": 16, \"activation\": \"relu\", \"use_bias\": true, \"kernel_initializer\": {\"class_name\": \"GlorotUniform\", \"config\": {\"seed\": null}}, \"bias_initializer\": {\"class_name\": \"Zeros\", \"config\": {}}, \"kernel_regularizer\": null, \"bias_regularizer\": null, \"activity_regularizer\": null, \"kernel_constraint\": null, \"bias_constraint\": null}}, {\"class_name\": \"Dense\", \"config\": {\"name\": \"dense_1\", \"trainable\": true, \"dtype\": \"float32\", \"units\": 32, \"activation\": \"relu\", \"use_bias\": true, \"kernel_initializer\": {\"class_name\": \"GlorotUniform\", \"config\": {\"seed\": null}}, \"bias_initializer\": {\"class_name\": \"Zeros\", \"config\": {}}, \"kernel_regularizer\": null, \"bias_regularizer\": null, \"activity_regularizer\": null, \"kernel_constraint\": null, \"bias_constraint\": null}}, {\"class_name\": \"Dense\", \"config\": {\"name\": \"dense_2\", \"trainable\": true, \"dtype\": \"float32\", \"units\": 2, \"activation\": \"softmax\", \"use_bias\": true, \"kernel_initializer\": {\"class_name\": \"GlorotUniform\", \"config\": {\"seed\": null}}, \"bias_initializer\": {\"class_name\": \"Zeros\", \"config\": {}}, \"kernel_regularizer\": null, \"bias_regularizer\": null, \"activity_regularizer\": null, \"kernel_constraint\": null, \"bias_constraint\": null}}]}, \"keras_version\": \"2.8.0\", \"backend\": \"tensorflow\"}'"
            ],
            "application/vnd.google.colaboratory.intrinsic+json": {
              "type": "string"
            }
          },
          "metadata": {},
          "execution_count": 29
        }
      ]
    },
    {
      "cell_type": "code",
      "source": [
        "from tensorflow.keras.models import model_from_json"
      ],
      "metadata": {
        "id": "UuSQkdPbE5K0"
      },
      "execution_count": null,
      "outputs": []
    },
    {
      "cell_type": "code",
      "source": [
        "model_arch = model_from_json(json_model) "
      ],
      "metadata": {
        "id": "SUmHMO5dFkXJ"
      },
      "execution_count": null,
      "outputs": []
    },
    {
      "cell_type": "code",
      "source": [
        "model_arch"
      ],
      "metadata": {
        "colab": {
          "base_uri": "https://localhost:8080/"
        },
        "id": "gQpSdKT8GRyp",
        "outputId": "02625bf2-495c-4b73-9c9a-901f8b982477"
      },
      "execution_count": null,
      "outputs": [
        {
          "output_type": "execute_result",
          "data": {
            "text/plain": [
              "<keras.engine.sequential.Sequential at 0x7f6c870c8150>"
            ]
          },
          "metadata": {},
          "execution_count": 33
        }
      ]
    },
    {
      "cell_type": "code",
      "source": [
        "model_arch.summary()"
      ],
      "metadata": {
        "colab": {
          "base_uri": "https://localhost:8080/"
        },
        "id": "Qt3il0nwGYC2",
        "outputId": "530f06ed-748c-4ba0-e6a1-9c36b8976058"
      },
      "execution_count": null,
      "outputs": [
        {
          "output_type": "stream",
          "name": "stdout",
          "text": [
            "Model: \"sequential\"\n",
            "_________________________________________________________________\n",
            " Layer (type)                Output Shape              Param #   \n",
            "=================================================================\n",
            " dense (Dense)               (None, 16)                32        \n",
            "                                                                 \n",
            " dense_1 (Dense)             (None, 32)                544       \n",
            "                                                                 \n",
            " dense_2 (Dense)             (None, 2)                 66        \n",
            "                                                                 \n",
            "=================================================================\n",
            "Total params: 642\n",
            "Trainable params: 642\n",
            "Non-trainable params: 0\n",
            "_________________________________________________________________\n"
          ]
        }
      ]
    },
    {
      "cell_type": "markdown",
      "source": [
        "model.save_weights()\n",
        "if you only need to save the weights"
      ],
      "metadata": {
        "id": "n_zzzOfeHebQ"
      }
    },
    {
      "cell_type": "code",
      "source": [
        "import os.path\n",
        "if os.path.isfile(\"model.h5\") is False: \n",
        "  model.save_weights(\"model.h5\")\n",
        "else:\n",
        "  print(\"Saved\")"
      ],
      "metadata": {
        "colab": {
          "base_uri": "https://localhost:8080/"
        },
        "id": "U3jgOtaKHHhc",
        "outputId": "992a1832-93c8-472f-9ef3-4a52cd45ab00"
      },
      "execution_count": null,
      "outputs": [
        {
          "output_type": "stream",
          "name": "stdout",
          "text": [
            "Saved\n"
          ]
        }
      ]
    },
    {
      "cell_type": "code",
      "source": [
        "model2 = Sequential([\n",
        "                    Dense(units = 16,input_shape = (1,),activation = 'relu'),\n",
        "                    Dense(units = 32,activation = 'relu'),\n",
        "                    Dense(units = 2,activation = 'softmax')\n",
        "])"
      ],
      "metadata": {
        "id": "hOK1N65FJxJj"
      },
      "execution_count": null,
      "outputs": []
    },
    {
      "cell_type": "code",
      "source": [
        "model2.load_weights(\"model2.h5\")"
      ],
      "metadata": {
        "colab": {
          "base_uri": "https://localhost:8080/",
          "height": 417
        },
        "id": "Rc92aFF-J2zk",
        "outputId": "08c42beb-3f80-4a5e-cf54-97622dc7b6a4"
      },
      "execution_count": null,
      "outputs": [
        {
          "output_type": "error",
          "ename": "OSError",
          "evalue": "ignored",
          "traceback": [
            "\u001b[0;31m---------------------------------------------------------------------------\u001b[0m",
            "\u001b[0;31mOSError\u001b[0m                                   Traceback (most recent call last)",
            "\u001b[0;32m<ipython-input-42-f0bb2eb37774>\u001b[0m in \u001b[0;36m<module>\u001b[0;34m()\u001b[0m\n\u001b[0;32m----> 1\u001b[0;31m \u001b[0mmodel2\u001b[0m\u001b[0;34m.\u001b[0m\u001b[0mload_weights\u001b[0m\u001b[0;34m(\u001b[0m\u001b[0;34m\"model2.h5\"\u001b[0m\u001b[0;34m)\u001b[0m\u001b[0;34m\u001b[0m\u001b[0;34m\u001b[0m\u001b[0m\n\u001b[0m",
            "\u001b[0;32m/usr/local/lib/python3.7/dist-packages/keras/utils/traceback_utils.py\u001b[0m in \u001b[0;36merror_handler\u001b[0;34m(*args, **kwargs)\u001b[0m\n\u001b[1;32m     65\u001b[0m     \u001b[0;32mexcept\u001b[0m \u001b[0mException\u001b[0m \u001b[0;32mas\u001b[0m \u001b[0me\u001b[0m\u001b[0;34m:\u001b[0m  \u001b[0;31m# pylint: disable=broad-except\u001b[0m\u001b[0;34m\u001b[0m\u001b[0;34m\u001b[0m\u001b[0m\n\u001b[1;32m     66\u001b[0m       \u001b[0mfiltered_tb\u001b[0m \u001b[0;34m=\u001b[0m \u001b[0m_process_traceback_frames\u001b[0m\u001b[0;34m(\u001b[0m\u001b[0me\u001b[0m\u001b[0;34m.\u001b[0m\u001b[0m__traceback__\u001b[0m\u001b[0;34m)\u001b[0m\u001b[0;34m\u001b[0m\u001b[0;34m\u001b[0m\u001b[0m\n\u001b[0;32m---> 67\u001b[0;31m       \u001b[0;32mraise\u001b[0m \u001b[0me\u001b[0m\u001b[0;34m.\u001b[0m\u001b[0mwith_traceback\u001b[0m\u001b[0;34m(\u001b[0m\u001b[0mfiltered_tb\u001b[0m\u001b[0;34m)\u001b[0m \u001b[0;32mfrom\u001b[0m \u001b[0;32mNone\u001b[0m\u001b[0;34m\u001b[0m\u001b[0;34m\u001b[0m\u001b[0m\n\u001b[0m\u001b[1;32m     68\u001b[0m     \u001b[0;32mfinally\u001b[0m\u001b[0;34m:\u001b[0m\u001b[0;34m\u001b[0m\u001b[0;34m\u001b[0m\u001b[0m\n\u001b[1;32m     69\u001b[0m       \u001b[0;32mdel\u001b[0m \u001b[0mfiltered_tb\u001b[0m\u001b[0;34m\u001b[0m\u001b[0;34m\u001b[0m\u001b[0m\n",
            "\u001b[0;32m/usr/local/lib/python3.7/dist-packages/h5py/_hl/files.py\u001b[0m in \u001b[0;36m__init__\u001b[0;34m(self, name, mode, driver, libver, userblock_size, swmr, rdcc_nslots, rdcc_nbytes, rdcc_w0, track_order, fs_strategy, fs_persist, fs_threshold, **kwds)\u001b[0m\n\u001b[1;32m    425\u001b[0m                                fapl, fcpl=make_fcpl(track_order=track_order, fs_strategy=fs_strategy,\n\u001b[1;32m    426\u001b[0m                                fs_persist=fs_persist, fs_threshold=fs_threshold),\n\u001b[0;32m--> 427\u001b[0;31m                                swmr=swmr)\n\u001b[0m\u001b[1;32m    428\u001b[0m \u001b[0;34m\u001b[0m\u001b[0m\n\u001b[1;32m    429\u001b[0m             \u001b[0;32mif\u001b[0m \u001b[0misinstance\u001b[0m\u001b[0;34m(\u001b[0m\u001b[0mlibver\u001b[0m\u001b[0;34m,\u001b[0m \u001b[0mtuple\u001b[0m\u001b[0;34m)\u001b[0m\u001b[0;34m:\u001b[0m\u001b[0;34m\u001b[0m\u001b[0;34m\u001b[0m\u001b[0m\n",
            "\u001b[0;32m/usr/local/lib/python3.7/dist-packages/h5py/_hl/files.py\u001b[0m in \u001b[0;36mmake_fid\u001b[0;34m(name, mode, userblock_size, fapl, fcpl, swmr)\u001b[0m\n\u001b[1;32m    188\u001b[0m         \u001b[0;32mif\u001b[0m \u001b[0mswmr\u001b[0m \u001b[0;32mand\u001b[0m \u001b[0mswmr_support\u001b[0m\u001b[0;34m:\u001b[0m\u001b[0;34m\u001b[0m\u001b[0;34m\u001b[0m\u001b[0m\n\u001b[1;32m    189\u001b[0m             \u001b[0mflags\u001b[0m \u001b[0;34m|=\u001b[0m \u001b[0mh5f\u001b[0m\u001b[0;34m.\u001b[0m\u001b[0mACC_SWMR_READ\u001b[0m\u001b[0;34m\u001b[0m\u001b[0;34m\u001b[0m\u001b[0m\n\u001b[0;32m--> 190\u001b[0;31m         \u001b[0mfid\u001b[0m \u001b[0;34m=\u001b[0m \u001b[0mh5f\u001b[0m\u001b[0;34m.\u001b[0m\u001b[0mopen\u001b[0m\u001b[0;34m(\u001b[0m\u001b[0mname\u001b[0m\u001b[0;34m,\u001b[0m \u001b[0mflags\u001b[0m\u001b[0;34m,\u001b[0m \u001b[0mfapl\u001b[0m\u001b[0;34m=\u001b[0m\u001b[0mfapl\u001b[0m\u001b[0;34m)\u001b[0m\u001b[0;34m\u001b[0m\u001b[0;34m\u001b[0m\u001b[0m\n\u001b[0m\u001b[1;32m    191\u001b[0m     \u001b[0;32melif\u001b[0m \u001b[0mmode\u001b[0m \u001b[0;34m==\u001b[0m \u001b[0;34m'r+'\u001b[0m\u001b[0;34m:\u001b[0m\u001b[0;34m\u001b[0m\u001b[0;34m\u001b[0m\u001b[0m\n\u001b[1;32m    192\u001b[0m         \u001b[0mfid\u001b[0m \u001b[0;34m=\u001b[0m \u001b[0mh5f\u001b[0m\u001b[0;34m.\u001b[0m\u001b[0mopen\u001b[0m\u001b[0;34m(\u001b[0m\u001b[0mname\u001b[0m\u001b[0;34m,\u001b[0m \u001b[0mh5f\u001b[0m\u001b[0;34m.\u001b[0m\u001b[0mACC_RDWR\u001b[0m\u001b[0;34m,\u001b[0m \u001b[0mfapl\u001b[0m\u001b[0;34m=\u001b[0m\u001b[0mfapl\u001b[0m\u001b[0;34m)\u001b[0m\u001b[0;34m\u001b[0m\u001b[0;34m\u001b[0m\u001b[0m\n",
            "\u001b[0;32mh5py/_objects.pyx\u001b[0m in \u001b[0;36mh5py._objects.with_phil.wrapper\u001b[0;34m()\u001b[0m\n",
            "\u001b[0;32mh5py/_objects.pyx\u001b[0m in \u001b[0;36mh5py._objects.with_phil.wrapper\u001b[0;34m()\u001b[0m\n",
            "\u001b[0;32mh5py/h5f.pyx\u001b[0m in \u001b[0;36mh5py.h5f.open\u001b[0;34m()\u001b[0m\n",
            "\u001b[0;31mOSError\u001b[0m: Unable to open file (unable to open file: name = 'model2.h5', errno = 2, error message = 'No such file or directory', flags = 0, o_flags = 0)"
          ]
        }
      ]
    },
    {
      "cell_type": "code",
      "source": [
        "model.get_weights()"
      ],
      "metadata": {
        "colab": {
          "base_uri": "https://localhost:8080/"
        },
        "id": "XWlgCcBAKvAw",
        "outputId": "c1c5db6c-5cf6-4f78-91c6-00bc0d2869ce"
      },
      "execution_count": null,
      "outputs": [
        {
          "output_type": "execute_result",
          "data": {
            "text/plain": [
              "[array([[-0.36819646, -0.4172001 , -0.21200284, -0.05569041, -0.22336197,\n",
              "         -0.23143709,  0.51239145, -0.52779484, -0.49427646, -0.0229556 ,\n",
              "          0.70642626,  0.32861006,  0.5767585 ,  0.7899178 , -0.573041  ,\n",
              "          0.65643185]], dtype=float32),\n",
              " array([ 0.        ,  0.        ,  0.        ,  0.        ,  0.        ,\n",
              "         0.        , -0.29650623,  0.        ,  0.        ,  0.        ,\n",
              "        -0.40761548,  0.20406082, -0.13868164, -0.455474  ,  0.        ,\n",
              "        -0.3792329 ], dtype=float32),\n",
              " array([[ 2.96590596e-01,  1.55656427e-01, -2.60745347e-01,\n",
              "          6.06419742e-02, -2.87129521e-01,  3.28592092e-01,\n",
              "          2.52136499e-01,  6.36572540e-02, -2.79710919e-01,\n",
              "         -3.36222589e-01,  1.37292594e-01,  2.12605596e-02,\n",
              "          3.05263191e-01, -1.25352144e-01, -1.31993309e-01,\n",
              "          1.19592100e-01, -3.19579482e-01,  1.09190762e-01,\n",
              "          3.00973564e-01, -2.02332258e-01, -3.36308569e-01,\n",
              "         -1.41147688e-01,  2.61187047e-01,  8.26457143e-03,\n",
              "          2.24636525e-01, -2.16767058e-01,  3.07893753e-02,\n",
              "         -1.39800921e-01, -1.38088495e-01,  3.53549570e-01,\n",
              "         -9.46551561e-03,  2.38738388e-01],\n",
              "        [ 1.22728348e-01, -1.06103763e-01,  2.57297486e-01,\n",
              "         -9.40237045e-02, -2.97837943e-01,  1.66416675e-01,\n",
              "          2.33048469e-01, -1.58259302e-01,  1.14610434e-01,\n",
              "          3.32894117e-01,  2.42167920e-01, -1.46560773e-01,\n",
              "         -1.55081525e-01, -2.80212820e-01,  3.55836749e-03,\n",
              "         -9.72414613e-02,  3.26133966e-02, -5.57754636e-02,\n",
              "          3.44844252e-01, -1.87564492e-02, -1.43868268e-01,\n",
              "          6.92926943e-02,  1.17639452e-01, -2.08823055e-01,\n",
              "         -7.50855505e-02, -7.97744691e-02,  3.38487417e-01,\n",
              "          2.28775293e-01,  1.71129256e-01, -9.12550986e-02,\n",
              "         -1.58358008e-01, -2.90496290e-01],\n",
              "        [-2.03146115e-01,  1.00641370e-01, -2.21381292e-01,\n",
              "         -3.39962721e-01, -2.47918636e-01, -3.13252062e-01,\n",
              "         -2.75930524e-01, -2.78318405e-01,  3.47324520e-01,\n",
              "          1.71387643e-01, -3.03282231e-01, -1.21137291e-01,\n",
              "          1.98045522e-01,  5.64420521e-02,  2.22590476e-01,\n",
              "          3.13889652e-01,  1.86292022e-01, -1.73340738e-02,\n",
              "          1.38226748e-01,  2.72827655e-01, -1.03975534e-02,\n",
              "         -1.25171334e-01, -3.49086672e-01, -2.68144667e-01,\n",
              "         -2.42028236e-02,  4.12363112e-02, -2.51343548e-02,\n",
              "          1.67835981e-01, -3.21095258e-01,  1.22380972e-01,\n",
              "         -6.86556995e-02, -1.95099354e-01],\n",
              "        [-1.65240765e-01,  2.27387458e-01, -3.33259016e-01,\n",
              "          2.97494382e-01, -1.23800963e-01,  1.41626656e-01,\n",
              "          1.08556360e-01, -4.88643944e-02,  2.26571411e-01,\n",
              "         -2.16606215e-01, -9.75939035e-02,  3.14317733e-01,\n",
              "          1.27207696e-01,  2.29594618e-01, -1.81379557e-01,\n",
              "          1.81375474e-01, -1.52035221e-01,  2.83867925e-01,\n",
              "         -6.65857792e-02, -2.59982914e-01,  1.67867929e-01,\n",
              "         -7.96768069e-03,  3.51169109e-02, -2.99672514e-01,\n",
              "         -1.35014221e-01, -1.26159251e-01, -2.70503193e-01,\n",
              "         -1.52999043e-01,  3.10772210e-01,  7.93969631e-03,\n",
              "          2.50092834e-01,  6.17085397e-02],\n",
              "        [ 3.78825068e-02, -3.29683095e-01,  2.07287103e-01,\n",
              "          2.06668943e-01,  4.28942740e-02,  2.04751521e-01,\n",
              "         -6.42189980e-02, -1.90177113e-01,  1.42910272e-01,\n",
              "          1.64183110e-01, -1.93878025e-01,  2.87046343e-01,\n",
              "          3.45951945e-01, -2.43333057e-01, -2.70274997e-01,\n",
              "         -2.25264877e-01, -3.99174392e-02,  1.57303810e-02,\n",
              "         -1.95576042e-01, -2.74300575e-03,  3.06080580e-02,\n",
              "          2.82998115e-01, -1.46619186e-01,  1.20127380e-01,\n",
              "         -2.12217391e-01,  5.30684590e-02, -7.77978599e-02,\n",
              "          7.32465088e-02, -2.11825922e-01,  1.73303038e-01,\n",
              "         -8.87320936e-02, -2.69827574e-01],\n",
              "        [ 6.39329851e-02,  1.46294057e-01,  3.33628625e-01,\n",
              "          1.14002168e-01,  1.93694234e-02,  3.24382633e-01,\n",
              "          2.11189002e-01, -2.80499160e-01, -1.01535916e-02,\n",
              "          1.68641776e-01,  3.24653655e-01, -1.06202364e-02,\n",
              "          3.01415056e-01, -3.11327815e-01,  3.30798924e-02,\n",
              "          3.33846956e-01, -3.05690169e-02, -5.82649708e-02,\n",
              "         -3.42426121e-01,  1.81143552e-01, -2.79855162e-01,\n",
              "          1.28285974e-01, -3.44262451e-01,  2.40993470e-01,\n",
              "         -1.43615812e-01, -7.23357201e-02,  1.39953405e-01,\n",
              "         -8.07374418e-02, -2.84051716e-01, -1.25093356e-01,\n",
              "         -2.44538963e-01, -1.99075833e-01],\n",
              "        [-4.50289488e-01, -1.88140917e+00, -3.45656157e-01,\n",
              "         -2.49109820e-01, -1.13101490e-01,  2.09420919e-01,\n",
              "         -6.45762086e-02, -1.62191521e-02, -1.44766465e-01,\n",
              "         -3.38432670e+00,  2.73812383e-01,  2.65507370e-01,\n",
              "         -2.02795118e-03, -3.55267262e+00,  8.86430293e-02,\n",
              "         -1.85507643e+00, -3.48809171e+00, -4.02037650e-02,\n",
              "         -2.41782129e-01,  3.32222342e-01, -1.75190344e-01,\n",
              "          9.27939340e-02, -3.90178752e+00, -2.82610536e-01,\n",
              "         -1.89820200e-01, -3.15502810e+00,  1.29199713e-01,\n",
              "         -4.03422356e+00,  2.27732375e-01, -4.03398275e-01,\n",
              "          7.98163414e-02,  2.33360127e-01],\n",
              "        [-3.29975665e-01, -1.89932749e-01, -2.20015943e-02,\n",
              "          1.80702835e-01, -1.74801856e-01,  2.53893048e-01,\n",
              "         -3.17271531e-01,  6.76825345e-02,  1.48255020e-01,\n",
              "         -4.97981906e-02,  2.40039259e-01,  6.51058555e-03,\n",
              "         -2.94110894e-01,  3.12227696e-01,  7.93191791e-02,\n",
              "          8.73186588e-02, -3.38998824e-01,  9.33718681e-02,\n",
              "         -3.01013887e-01,  9.02147293e-02,  5.29966354e-02,\n",
              "         -7.62772858e-02,  8.50769579e-02,  3.22375268e-01,\n",
              "          3.21683288e-02, -2.29210734e-01,  2.58619577e-01,\n",
              "         -5.30656576e-02,  6.53681159e-03, -9.31380391e-02,\n",
              "          8.55771601e-02,  1.91173047e-01],\n",
              "        [ 6.86134696e-02,  3.13773066e-01,  2.15246469e-01,\n",
              "         -2.22313076e-01,  1.73643231e-02,  3.13940048e-02,\n",
              "          9.35635567e-02, -3.16876680e-01,  1.17928982e-01,\n",
              "         -2.83312976e-01, -6.73776269e-02,  2.50964910e-01,\n",
              "         -2.49746025e-01, -3.23608905e-01, -2.13902757e-01,\n",
              "         -8.19295049e-02, -3.51474702e-01, -1.42419428e-01,\n",
              "          2.96336621e-01,  2.12106407e-02,  2.24439472e-01,\n",
              "         -2.65480459e-01, -5.54812551e-02, -2.60616034e-01,\n",
              "          2.54782349e-01,  1.68204635e-01, -2.96679765e-01,\n",
              "          6.63344264e-02, -1.99751019e-01,  1.84979469e-01,\n",
              "         -2.98202932e-01,  1.64670020e-01],\n",
              "        [ 1.50544554e-01, -3.62724066e-04,  2.68524081e-01,\n",
              "          3.07062358e-01,  1.81755722e-02,  1.28131896e-01,\n",
              "         -3.13753098e-01,  3.14031214e-01,  3.20988595e-02,\n",
              "          2.69767374e-01, -3.49389434e-01,  3.11057240e-01,\n",
              "          2.81981736e-01, -1.24007910e-01,  2.89979309e-01,\n",
              "          2.70837992e-01,  3.96811962e-03, -1.33424535e-01,\n",
              "          2.10842162e-01, -3.59934866e-02, -1.37827694e-02,\n",
              "          1.73223823e-01,  1.40088797e-01, -2.52102554e-01,\n",
              "         -1.91384554e-02,  2.03440577e-01, -6.26949668e-02,\n",
              "         -3.24310988e-01,  3.13495666e-01,  2.94875294e-01,\n",
              "         -7.42219388e-02, -8.02406967e-02],\n",
              "        [-4.02493834e-01, -1.64603174e+00, -4.08160090e-02,\n",
              "          2.79248692e-02,  2.04815995e-02,  1.75117269e-01,\n",
              "         -1.47406235e-01, -3.48995715e-01, -1.57430768e-01,\n",
              "         -3.60832548e+00, -8.85301456e-02,  1.43568605e-01,\n",
              "          1.63104057e-01, -3.10827756e+00,  1.12982336e-02,\n",
              "         -1.17802191e+00, -3.18233347e+00,  3.94640453e-02,\n",
              "         -8.99139512e-03,  2.18152642e-01,  1.08505800e-01,\n",
              "          4.76393700e-02, -3.41456556e+00, -2.42271721e-01,\n",
              "         -2.19496027e-01, -3.25984168e+00,  3.67718071e-01,\n",
              "         -3.66600418e+00,  1.43390387e-01,  1.03354357e-01,\n",
              "         -1.06051564e-02,  1.38669342e-01],\n",
              "        [ 3.05708289e-01,  3.51838619e-01, -2.21047238e-01,\n",
              "         -8.55579153e-02, -1.58541366e-01,  3.00029814e-01,\n",
              "         -9.78335440e-02, -4.87711988e-02,  4.36889715e-02,\n",
              "          1.05502486e-01, -1.38582960e-01, -1.27889857e-01,\n",
              "         -1.56193569e-01, -2.83672839e-01,  4.14139211e-01,\n",
              "          2.16727212e-01, -7.61202797e-02,  3.28512192e-01,\n",
              "          2.55699813e-01, -2.80825198e-01, -1.56827837e-01,\n",
              "         -2.72332281e-01,  8.17827974e-03, -3.30262542e-01,\n",
              "          3.75621736e-01,  1.96171671e-01,  4.37161736e-02,\n",
              "         -2.98170507e-01,  4.41667527e-01, -1.21147320e-01,\n",
              "          3.09175134e-01,  9.80325639e-02],\n",
              "        [ 4.62465316e-01,  1.81681812e-01,  1.44171715e-02,\n",
              "          3.97183329e-01,  1.72776893e-01,  4.42094564e-01,\n",
              "         -3.42683494e-02, -6.76455498e-02, -2.10957061e-02,\n",
              "         -8.17314833e-02, -4.30772565e-02,  8.52093026e-02,\n",
              "          3.76069434e-02,  1.31558120e-01,  3.83195281e-01,\n",
              "         -3.91972065e-02,  2.95346193e-02,  5.43406345e-02,\n",
              "          3.14961493e-01,  3.72648567e-01,  4.24964130e-01,\n",
              "          1.23316549e-01, -7.81760644e-03, -2.44242549e-02,\n",
              "          1.41915217e-01,  2.27888227e-02,  3.28180939e-01,\n",
              "          3.58010978e-02, -8.77097771e-02,  2.80989438e-01,\n",
              "          3.75567436e-01, -1.61024570e-01],\n",
              "        [ 2.96929162e-02, -1.42312062e+00, -1.28884554e-01,\n",
              "          7.97268748e-02, -1.34512186e-01, -4.09120381e-01,\n",
              "         -8.87711346e-02,  3.34061474e-01, -3.42888385e-01,\n",
              "         -3.09942365e+00, -2.03007042e-01,  2.61312395e-01,\n",
              "         -3.43104869e-01, -3.48072052e+00, -2.70048350e-01,\n",
              "         -1.27550375e+00, -3.39895725e+00,  5.20527326e-02,\n",
              "          7.83538818e-02,  2.57179856e-01,  1.80551618e-01,\n",
              "          8.84701982e-02, -3.50536633e+00, -3.36141586e-01,\n",
              "          6.41313642e-02, -3.19399667e+00,  4.21056241e-01,\n",
              "         -3.27609468e+00,  1.21672541e-01,  1.04126126e-01,\n",
              "         -3.70592237e-01, -1.93092152e-01],\n",
              "        [ 8.16713274e-02,  8.71849060e-03,  4.08307612e-02,\n",
              "         -4.27614450e-02, -1.19439870e-01,  1.23164386e-01,\n",
              "         -1.43066645e-02,  2.96649069e-01,  1.29246712e-03,\n",
              "          2.22327560e-01,  1.80377990e-01, -2.01526165e-01,\n",
              "          1.83885604e-01,  1.34585589e-01, -1.25960991e-01,\n",
              "         -2.99979270e-01,  5.96741140e-02, -2.08838582e-02,\n",
              "         -2.59267092e-02,  9.81308520e-02, -3.39782059e-01,\n",
              "         -2.71773398e-01,  1.64592654e-01,  1.22755140e-01,\n",
              "         -9.45325196e-02,  2.08477765e-01,  5.00665009e-02,\n",
              "          4.48122621e-03,  1.39520228e-01, -1.08744174e-01,\n",
              "          1.30307972e-02,  4.61671650e-02],\n",
              "        [-2.17621818e-01, -1.63073170e+00, -1.22309223e-01,\n",
              "          7.87400156e-02, -2.71550536e-01, -1.90584987e-01,\n",
              "          2.30905980e-01,  1.30513841e-02,  3.30430418e-01,\n",
              "         -3.41089964e+00, -2.08833873e-01,  1.37387112e-01,\n",
              "          2.57710487e-01, -3.90527916e+00, -3.34881693e-01,\n",
              "         -1.48771775e+00, -3.47529125e+00,  3.75944227e-02,\n",
              "         -2.07212893e-03,  1.93006203e-01, -2.66304702e-01,\n",
              "         -1.58280581e-01, -3.60691071e+00, -1.21412680e-01,\n",
              "          1.09962031e-01, -3.24450827e+00,  5.63320816e-01,\n",
              "         -3.91450500e+00,  6.87426925e-02, -5.47049418e-02,\n",
              "         -5.52909747e-02, -3.22464973e-01]], dtype=float32),\n",
              " array([ 0.14647551,  0.25602403,  0.        , -0.16575254, -0.03103997,\n",
              "         0.20276837,  0.        , -0.00179961, -0.01734156,  0.16012208,\n",
              "        -0.00557139, -0.2002913 , -0.00961223,  0.28565437, -0.08470216,\n",
              "         0.31515354,  0.21506137,  0.24687779,  0.10829426, -0.16969542,\n",
              "        -0.12578231, -0.00663638,  0.1976138 ,  0.        ,  0.23953265,\n",
              "         0.09146602, -0.25844377,  0.3236548 ,  0.26426563, -0.03830365,\n",
              "         0.267787  , -0.06974588], dtype=float32),\n",
              " array([[-5.27871251e-01,  4.52016711e-01],\n",
              "        [ 1.59633517e+00, -1.61227107e+00],\n",
              "        [-2.51489997e-01,  2.42292613e-01],\n",
              "        [-1.49813980e-01, -1.71181858e-01],\n",
              "        [-1.10879213e-01, -1.19799785e-01],\n",
              "        [-3.19611549e-01,  4.75852430e-01],\n",
              "        [ 8.58833492e-02, -3.63828003e-01],\n",
              "        [ 3.10400367e-01, -3.44825417e-01],\n",
              "        [-3.63474399e-01,  7.96366781e-02],\n",
              "        [ 1.26441872e+00, -1.21433127e+00],\n",
              "        [-3.25483680e-02, -2.24538278e-02],\n",
              "        [ 2.41882533e-01,  1.48310855e-01],\n",
              "        [ 3.53288986e-02,  1.45474553e-01],\n",
              "        [ 1.72550511e+00, -1.38768446e+00],\n",
              "        [ 2.39647120e-01,  3.32008421e-01],\n",
              "        [ 1.03502178e+00, -1.01514411e+00],\n",
              "        [ 1.51615894e+00, -1.64128625e+00],\n",
              "        [-5.28358102e-01,  1.41849801e-01],\n",
              "        [-4.06798840e-01,  1.83956221e-01],\n",
              "        [ 5.00058055e-01,  6.08948199e-03],\n",
              "        [-4.76308353e-02, -7.57767111e-02],\n",
              "        [ 1.39968202e-03, -3.27193588e-01],\n",
              "        [ 1.85467899e+00, -1.49925673e+00],\n",
              "        [ 1.86916560e-01, -7.92719424e-02],\n",
              "        [-5.93387127e-01,  1.59117445e-01],\n",
              "        [ 1.63058174e+00, -1.62502992e+00],\n",
              "        [ 2.29527638e-03, -7.42526412e-01],\n",
              "        [ 1.52111983e+00, -1.83705902e+00],\n",
              "        [-5.89937568e-01,  1.75737008e-01],\n",
              "        [-1.21037297e-01, -1.33507594e-01],\n",
              "        [-6.92213535e-01,  6.82270169e-01],\n",
              "        [-3.31516892e-01, -1.75499067e-01]], dtype=float32),\n",
              " array([-0.39366838,  0.3936685 ], dtype=float32)]"
            ]
          },
          "metadata": {},
          "execution_count": 43
        }
      ]
    },
    {
      "cell_type": "code",
      "source": [
        ""
      ],
      "metadata": {
        "id": "Ra6y2MX_L4IN"
      },
      "execution_count": null,
      "outputs": []
    }
  ]
}