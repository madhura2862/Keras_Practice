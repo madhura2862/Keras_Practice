{
  "nbformat": 4,
  "nbformat_minor": 0,
  "metadata": {
    "colab": {
      "name": "TB_01.ipynb",
      "provenance": []
    },
    "kernelspec": {
      "name": "python3",
      "display_name": "Python 3"
    },
    "language_info": {
      "name": "python"
    }
  },
  "cells": [
    {
      "cell_type": "code",
      "source": [
        "import numpy as np\n",
        "from random import randint\n",
        "from sklearn.utils import shuffle\n",
        "from sklearn.preprocessing import MinMaxScaler\n",
        "train_labels = []\n",
        "train_samples = []"
      ],
      "metadata": {
        "id": "hB501UVTNUsD"
      },
      "execution_count": 16,
      "outputs": []
    },
    {
      "cell_type": "code",
      "source": [
        "for i in range(50):\n",
        "  # The 5% of younger individuals who did experience side effects\n",
        "  random_younger = randint(13,64)\n",
        "  train_samples.append(random_younger)\n",
        "  train_labels.append(1)\n",
        "\n",
        "  # The 5% of older individuals who did not experience side effects\n",
        "  random_older = randint(65,100)\n",
        "  train_samples.append(random_older)\n",
        "  train_labels.append(0)\n",
        "\n",
        "for i in range(1000):\n",
        "  # The 95% of younger individuals who did not experience side effects\n",
        "  random_younger = randint(13,64)\n",
        "  train_samples.append(random_younger)\n",
        "  train_labels.append(0)\n",
        "\n",
        "  # The 95% of older individuals who did experience side effects\n",
        "  random_older = randint(65,100)\n",
        "  train_samples.append(random_older)\n",
        "  train_labels.append(1)"
      ],
      "metadata": {
        "id": "BeFzkW1lNyu2"
      },
      "execution_count": 17,
      "outputs": []
    },
    {
      "cell_type": "code",
      "source": [
        "train_labels = np.array(train_labels)\n",
        "train_samples = np.array(train_samples)\n",
        "train_labels,train_samples = shuffle(train_labels,train_samples)"
      ],
      "metadata": {
        "id": "jZZ0wLHpN5Qj"
      },
      "execution_count": 18,
      "outputs": []
    },
    {
      "cell_type": "code",
      "source": [
        "scaler = MinMaxScaler(feature_range = (0,1))\n",
        "sc_trained_samples = scaler.fit_transform(train_samples.reshape(-1,1))"
      ],
      "metadata": {
        "id": "p6eo41LsN8oz"
      },
      "execution_count": 19,
      "outputs": []
    },
    {
      "cell_type": "code",
      "source": [
        "sc_trained_samples = np.array(sc_trained_samples)\n",
        "sc_trained_samples"
      ],
      "metadata": {
        "colab": {
          "base_uri": "https://localhost:8080/"
        },
        "id": "wiwUvyHwN9Gr",
        "outputId": "4011e36c-66be-4caf-ab4a-f8c40bbab1c6"
      },
      "execution_count": 20,
      "outputs": [
        {
          "output_type": "execute_result",
          "data": {
            "text/plain": [
              "array([[0.49425287],\n",
              "       [0.06896552],\n",
              "       [0.18390805],\n",
              "       ...,\n",
              "       [0.09195402],\n",
              "       [0.73563218],\n",
              "       [0.68965517]])"
            ]
          },
          "metadata": {},
          "execution_count": 20
        }
      ]
    },
    {
      "cell_type": "code",
      "source": [
        "!pip install keras"
      ],
      "metadata": {
        "colab": {
          "base_uri": "https://localhost:8080/"
        },
        "id": "XMvuMOauODNF",
        "outputId": "0b3b239d-3284-4ae9-fd69-2de863927fe1"
      },
      "execution_count": 21,
      "outputs": [
        {
          "output_type": "stream",
          "name": "stdout",
          "text": [
            "Looking in indexes: https://pypi.org/simple, https://us-python.pkg.dev/colab-wheels/public/simple/\n",
            "Requirement already satisfied: keras in /usr/local/lib/python3.7/dist-packages (2.8.0)\n"
          ]
        }
      ]
    },
    {
      "cell_type": "code",
      "source": [
        "import keras\n",
        "from keras import backend as K\n",
        "from keras.models import Sequential\n",
        "from keras.layers import Activation\n",
        "from keras.layers.core import Dense\n",
        "from keras.optimizers import adam_v2\n",
        "#from tensorflow.keras.optimizers import Adam\n",
        "from keras.metrics import categorical_crossentropy\n",
        "from keras import optimizers\n",
        "from keras import metrics"
      ],
      "metadata": {
        "id": "zYv82SdjOFvJ"
      },
      "execution_count": 22,
      "outputs": []
    },
    {
      "cell_type": "code",
      "source": [
        "model = Sequential([\n",
        "                    Dense(units = 20,input_shape = (1,),activation = 'relu'),\n",
        "                    Dense(units = 10,activation = 'relu'),\n",
        "                    Dense(units = 2,activation = 'softmax')\n",
        "])"
      ],
      "metadata": {
        "id": "i2wiRy4kOGNF"
      },
      "execution_count": 23,
      "outputs": []
    },
    {
      "cell_type": "code",
      "source": [
        "model.summary()"
      ],
      "metadata": {
        "colab": {
          "base_uri": "https://localhost:8080/"
        },
        "id": "Q1iyis9zOIZS",
        "outputId": "9117a3f0-ef85-4791-ff79-d2db84d08f9d"
      },
      "execution_count": 24,
      "outputs": [
        {
          "output_type": "stream",
          "name": "stdout",
          "text": [
            "Model: \"sequential_1\"\n",
            "_________________________________________________________________\n",
            " Layer (type)                Output Shape              Param #   \n",
            "=================================================================\n",
            " dense_2 (Dense)             (None, 20)                40        \n",
            "                                                                 \n",
            " dense_3 (Dense)             (None, 10)                210       \n",
            "                                                                 \n",
            " dense_4 (Dense)             (None, 2)                 22        \n",
            "                                                                 \n",
            "=================================================================\n",
            "Total params: 272\n",
            "Trainable params: 272\n",
            "Non-trainable params: 0\n",
            "_________________________________________________________________\n"
          ]
        }
      ]
    },
    {
      "cell_type": "code",
      "source": [
        "#model.compile(optimizer=adam_v2, loss='sparse_categorical_crossentropy', metrics=['accuracy'])\n",
        "model.compile(loss='sparse_categorical_crossentropy',optimizer='adam')"
      ],
      "metadata": {
        "id": "z1XZXAj8OKgW"
      },
      "execution_count": 25,
      "outputs": []
    },
    {
      "cell_type": "code",
      "source": [
        "model.fit(sc_trained_samples, train_labels, batch_size=10, epochs=200, shuffle=True, verbose=2)"
      ],
      "metadata": {
        "colab": {
          "base_uri": "https://localhost:8080/"
        },
        "id": "V5Rp_gmFOM7w",
        "outputId": "ae332449-df2f-458b-f316-abf0d2c453af"
      },
      "execution_count": 26,
      "outputs": [
        {
          "output_type": "stream",
          "name": "stdout",
          "text": [
            "Epoch 1/200\n",
            "210/210 - 1s - loss: 0.5816 - 571ms/epoch - 3ms/step\n",
            "Epoch 2/200\n",
            "210/210 - 0s - loss: 0.3814 - 238ms/epoch - 1ms/step\n",
            "Epoch 3/200\n",
            "210/210 - 0s - loss: 0.2975 - 439ms/epoch - 2ms/step\n",
            "Epoch 4/200\n",
            "210/210 - 0s - loss: 0.2711 - 233ms/epoch - 1ms/step\n",
            "Epoch 5/200\n",
            "210/210 - 0s - loss: 0.2606 - 256ms/epoch - 1ms/step\n",
            "Epoch 6/200\n",
            "210/210 - 0s - loss: 0.2553 - 226ms/epoch - 1ms/step\n",
            "Epoch 7/200\n",
            "210/210 - 0s - loss: 0.2516 - 228ms/epoch - 1ms/step\n",
            "Epoch 8/200\n",
            "210/210 - 0s - loss: 0.2480 - 225ms/epoch - 1ms/step\n",
            "Epoch 9/200\n",
            "210/210 - 0s - loss: 0.2457 - 242ms/epoch - 1ms/step\n",
            "Epoch 10/200\n",
            "210/210 - 0s - loss: 0.2440 - 231ms/epoch - 1ms/step\n",
            "Epoch 11/200\n",
            "210/210 - 0s - loss: 0.2413 - 255ms/epoch - 1ms/step\n",
            "Epoch 12/200\n",
            "210/210 - 0s - loss: 0.2396 - 226ms/epoch - 1ms/step\n",
            "Epoch 13/200\n",
            "210/210 - 0s - loss: 0.2388 - 249ms/epoch - 1ms/step\n",
            "Epoch 14/200\n",
            "210/210 - 0s - loss: 0.2389 - 242ms/epoch - 1ms/step\n",
            "Epoch 15/200\n",
            "210/210 - 0s - loss: 0.2369 - 227ms/epoch - 1ms/step\n",
            "Epoch 16/200\n",
            "210/210 - 0s - loss: 0.2356 - 214ms/epoch - 1ms/step\n",
            "Epoch 17/200\n",
            "210/210 - 0s - loss: 0.2350 - 226ms/epoch - 1ms/step\n",
            "Epoch 18/200\n",
            "210/210 - 0s - loss: 0.2334 - 227ms/epoch - 1ms/step\n",
            "Epoch 19/200\n",
            "210/210 - 0s - loss: 0.2335 - 241ms/epoch - 1ms/step\n",
            "Epoch 20/200\n",
            "210/210 - 0s - loss: 0.2326 - 241ms/epoch - 1ms/step\n",
            "Epoch 21/200\n",
            "210/210 - 0s - loss: 0.2318 - 228ms/epoch - 1ms/step\n",
            "Epoch 22/200\n",
            "210/210 - 0s - loss: 0.2300 - 252ms/epoch - 1ms/step\n",
            "Epoch 23/200\n",
            "210/210 - 0s - loss: 0.2284 - 237ms/epoch - 1ms/step\n",
            "Epoch 24/200\n",
            "210/210 - 0s - loss: 0.2281 - 334ms/epoch - 2ms/step\n",
            "Epoch 25/200\n",
            "210/210 - 0s - loss: 0.2273 - 230ms/epoch - 1ms/step\n",
            "Epoch 26/200\n",
            "210/210 - 0s - loss: 0.2256 - 246ms/epoch - 1ms/step\n",
            "Epoch 27/200\n",
            "210/210 - 0s - loss: 0.2248 - 228ms/epoch - 1ms/step\n",
            "Epoch 28/200\n",
            "210/210 - 0s - loss: 0.2251 - 234ms/epoch - 1ms/step\n",
            "Epoch 29/200\n",
            "210/210 - 0s - loss: 0.2233 - 249ms/epoch - 1ms/step\n",
            "Epoch 30/200\n",
            "210/210 - 0s - loss: 0.2226 - 236ms/epoch - 1ms/step\n",
            "Epoch 31/200\n",
            "210/210 - 0s - loss: 0.2231 - 234ms/epoch - 1ms/step\n",
            "Epoch 32/200\n",
            "210/210 - 0s - loss: 0.2219 - 228ms/epoch - 1ms/step\n",
            "Epoch 33/200\n",
            "210/210 - 0s - loss: 0.2212 - 220ms/epoch - 1ms/step\n",
            "Epoch 34/200\n",
            "210/210 - 0s - loss: 0.2202 - 250ms/epoch - 1ms/step\n",
            "Epoch 35/200\n",
            "210/210 - 0s - loss: 0.2195 - 233ms/epoch - 1ms/step\n",
            "Epoch 36/200\n",
            "210/210 - 0s - loss: 0.2194 - 243ms/epoch - 1ms/step\n",
            "Epoch 37/200\n",
            "210/210 - 0s - loss: 0.2186 - 252ms/epoch - 1ms/step\n",
            "Epoch 38/200\n",
            "210/210 - 0s - loss: 0.2190 - 243ms/epoch - 1ms/step\n",
            "Epoch 39/200\n",
            "210/210 - 0s - loss: 0.2176 - 243ms/epoch - 1ms/step\n",
            "Epoch 40/200\n",
            "210/210 - 0s - loss: 0.2171 - 228ms/epoch - 1ms/step\n",
            "Epoch 41/200\n",
            "210/210 - 0s - loss: 0.2168 - 223ms/epoch - 1ms/step\n",
            "Epoch 42/200\n",
            "210/210 - 0s - loss: 0.2161 - 236ms/epoch - 1ms/step\n",
            "Epoch 43/200\n",
            "210/210 - 0s - loss: 0.2152 - 229ms/epoch - 1ms/step\n",
            "Epoch 44/200\n",
            "210/210 - 0s - loss: 0.2150 - 227ms/epoch - 1ms/step\n",
            "Epoch 45/200\n",
            "210/210 - 0s - loss: 0.2151 - 229ms/epoch - 1ms/step\n",
            "Epoch 46/200\n",
            "210/210 - 0s - loss: 0.2145 - 229ms/epoch - 1ms/step\n",
            "Epoch 47/200\n",
            "210/210 - 0s - loss: 0.2123 - 240ms/epoch - 1ms/step\n",
            "Epoch 48/200\n",
            "210/210 - 0s - loss: 0.2134 - 230ms/epoch - 1ms/step\n",
            "Epoch 49/200\n",
            "210/210 - 0s - loss: 0.2126 - 227ms/epoch - 1ms/step\n",
            "Epoch 50/200\n",
            "210/210 - 0s - loss: 0.2123 - 237ms/epoch - 1ms/step\n",
            "Epoch 51/200\n",
            "210/210 - 0s - loss: 0.2122 - 239ms/epoch - 1ms/step\n",
            "Epoch 52/200\n",
            "210/210 - 0s - loss: 0.2103 - 254ms/epoch - 1ms/step\n",
            "Epoch 53/200\n",
            "210/210 - 0s - loss: 0.2122 - 226ms/epoch - 1ms/step\n",
            "Epoch 54/200\n",
            "210/210 - 0s - loss: 0.2113 - 228ms/epoch - 1ms/step\n",
            "Epoch 55/200\n",
            "210/210 - 0s - loss: 0.2103 - 253ms/epoch - 1ms/step\n",
            "Epoch 56/200\n",
            "210/210 - 0s - loss: 0.2110 - 234ms/epoch - 1ms/step\n",
            "Epoch 57/200\n",
            "210/210 - 0s - loss: 0.2093 - 232ms/epoch - 1ms/step\n",
            "Epoch 58/200\n",
            "210/210 - 0s - loss: 0.2119 - 253ms/epoch - 1ms/step\n",
            "Epoch 59/200\n",
            "210/210 - 0s - loss: 0.2096 - 238ms/epoch - 1ms/step\n",
            "Epoch 60/200\n",
            "210/210 - 0s - loss: 0.2095 - 238ms/epoch - 1ms/step\n",
            "Epoch 61/200\n",
            "210/210 - 0s - loss: 0.2090 - 426ms/epoch - 2ms/step\n",
            "Epoch 62/200\n",
            "210/210 - 0s - loss: 0.2090 - 367ms/epoch - 2ms/step\n",
            "Epoch 63/200\n",
            "210/210 - 0s - loss: 0.2090 - 443ms/epoch - 2ms/step\n",
            "Epoch 64/200\n",
            "210/210 - 1s - loss: 0.2066 - 511ms/epoch - 2ms/step\n",
            "Epoch 65/200\n",
            "210/210 - 1s - loss: 0.2095 - 552ms/epoch - 3ms/step\n",
            "Epoch 66/200\n",
            "210/210 - 0s - loss: 0.2090 - 450ms/epoch - 2ms/step\n",
            "Epoch 67/200\n",
            "210/210 - 0s - loss: 0.2076 - 415ms/epoch - 2ms/step\n",
            "Epoch 68/200\n",
            "210/210 - 0s - loss: 0.2055 - 403ms/epoch - 2ms/step\n",
            "Epoch 69/200\n",
            "210/210 - 0s - loss: 0.2081 - 494ms/epoch - 2ms/step\n",
            "Epoch 70/200\n",
            "210/210 - 0s - loss: 0.2072 - 353ms/epoch - 2ms/step\n",
            "Epoch 71/200\n",
            "210/210 - 1s - loss: 0.2064 - 565ms/epoch - 3ms/step\n",
            "Epoch 72/200\n",
            "210/210 - 0s - loss: 0.2067 - 452ms/epoch - 2ms/step\n",
            "Epoch 73/200\n",
            "210/210 - 0s - loss: 0.2062 - 487ms/epoch - 2ms/step\n",
            "Epoch 74/200\n",
            "210/210 - 0s - loss: 0.2065 - 429ms/epoch - 2ms/step\n",
            "Epoch 75/200\n",
            "210/210 - 1s - loss: 0.2062 - 582ms/epoch - 3ms/step\n",
            "Epoch 76/200\n",
            "210/210 - 1s - loss: 0.2043 - 591ms/epoch - 3ms/step\n",
            "Epoch 77/200\n",
            "210/210 - 0s - loss: 0.2060 - 417ms/epoch - 2ms/step\n",
            "Epoch 78/200\n",
            "210/210 - 0s - loss: 0.2057 - 462ms/epoch - 2ms/step\n",
            "Epoch 79/200\n",
            "210/210 - 0s - loss: 0.2054 - 435ms/epoch - 2ms/step\n",
            "Epoch 80/200\n",
            "210/210 - 1s - loss: 0.2049 - 547ms/epoch - 3ms/step\n",
            "Epoch 81/200\n",
            "210/210 - 1s - loss: 0.2063 - 523ms/epoch - 2ms/step\n",
            "Epoch 82/200\n",
            "210/210 - 0s - loss: 0.2047 - 396ms/epoch - 2ms/step\n",
            "Epoch 83/200\n",
            "210/210 - 0s - loss: 0.2051 - 443ms/epoch - 2ms/step\n",
            "Epoch 84/200\n",
            "210/210 - 1s - loss: 0.2048 - 719ms/epoch - 3ms/step\n",
            "Epoch 85/200\n",
            "210/210 - 1s - loss: 0.2040 - 641ms/epoch - 3ms/step\n",
            "Epoch 86/200\n",
            "210/210 - 0s - loss: 0.2046 - 470ms/epoch - 2ms/step\n",
            "Epoch 87/200\n",
            "210/210 - 0s - loss: 0.2035 - 466ms/epoch - 2ms/step\n",
            "Epoch 88/200\n",
            "210/210 - 0s - loss: 0.2046 - 234ms/epoch - 1ms/step\n",
            "Epoch 89/200\n",
            "210/210 - 0s - loss: 0.2043 - 217ms/epoch - 1ms/step\n",
            "Epoch 90/200\n",
            "210/210 - 0s - loss: 0.2041 - 230ms/epoch - 1ms/step\n",
            "Epoch 91/200\n",
            "210/210 - 0s - loss: 0.2045 - 232ms/epoch - 1ms/step\n",
            "Epoch 92/200\n",
            "210/210 - 0s - loss: 0.2045 - 222ms/epoch - 1ms/step\n",
            "Epoch 93/200\n",
            "210/210 - 0s - loss: 0.2038 - 230ms/epoch - 1ms/step\n",
            "Epoch 94/200\n",
            "210/210 - 0s - loss: 0.2034 - 238ms/epoch - 1ms/step\n",
            "Epoch 95/200\n",
            "210/210 - 0s - loss: 0.2015 - 238ms/epoch - 1ms/step\n",
            "Epoch 96/200\n",
            "210/210 - 0s - loss: 0.2035 - 235ms/epoch - 1ms/step\n",
            "Epoch 97/200\n",
            "210/210 - 0s - loss: 0.2045 - 232ms/epoch - 1ms/step\n",
            "Epoch 98/200\n",
            "210/210 - 0s - loss: 0.2032 - 216ms/epoch - 1ms/step\n",
            "Epoch 99/200\n",
            "210/210 - 0s - loss: 0.2035 - 217ms/epoch - 1ms/step\n",
            "Epoch 100/200\n",
            "210/210 - 0s - loss: 0.2020 - 231ms/epoch - 1ms/step\n",
            "Epoch 101/200\n",
            "210/210 - 0s - loss: 0.2017 - 230ms/epoch - 1ms/step\n",
            "Epoch 102/200\n",
            "210/210 - 0s - loss: 0.2021 - 219ms/epoch - 1ms/step\n",
            "Epoch 103/200\n",
            "210/210 - 0s - loss: 0.2018 - 222ms/epoch - 1ms/step\n",
            "Epoch 104/200\n",
            "210/210 - 0s - loss: 0.2013 - 222ms/epoch - 1ms/step\n",
            "Epoch 105/200\n",
            "210/210 - 0s - loss: 0.2030 - 235ms/epoch - 1ms/step\n",
            "Epoch 106/200\n",
            "210/210 - 0s - loss: 0.2016 - 220ms/epoch - 1ms/step\n",
            "Epoch 107/200\n",
            "210/210 - 0s - loss: 0.2019 - 223ms/epoch - 1ms/step\n",
            "Epoch 108/200\n",
            "210/210 - 0s - loss: 0.2021 - 219ms/epoch - 1ms/step\n",
            "Epoch 109/200\n",
            "210/210 - 0s - loss: 0.2015 - 240ms/epoch - 1ms/step\n",
            "Epoch 110/200\n",
            "210/210 - 0s - loss: 0.2032 - 232ms/epoch - 1ms/step\n",
            "Epoch 111/200\n",
            "210/210 - 0s - loss: 0.2011 - 238ms/epoch - 1ms/step\n",
            "Epoch 112/200\n",
            "210/210 - 0s - loss: 0.2025 - 234ms/epoch - 1ms/step\n",
            "Epoch 113/200\n",
            "210/210 - 0s - loss: 0.2011 - 230ms/epoch - 1ms/step\n",
            "Epoch 114/200\n",
            "210/210 - 0s - loss: 0.2015 - 242ms/epoch - 1ms/step\n",
            "Epoch 115/200\n",
            "210/210 - 0s - loss: 0.2009 - 229ms/epoch - 1ms/step\n",
            "Epoch 116/200\n",
            "210/210 - 0s - loss: 0.2028 - 228ms/epoch - 1ms/step\n",
            "Epoch 117/200\n",
            "210/210 - 0s - loss: 0.1999 - 221ms/epoch - 1ms/step\n",
            "Epoch 118/200\n",
            "210/210 - 0s - loss: 0.2014 - 238ms/epoch - 1ms/step\n",
            "Epoch 119/200\n",
            "210/210 - 0s - loss: 0.2005 - 232ms/epoch - 1ms/step\n",
            "Epoch 120/200\n",
            "210/210 - 0s - loss: 0.2014 - 226ms/epoch - 1ms/step\n",
            "Epoch 121/200\n",
            "210/210 - 0s - loss: 0.2017 - 223ms/epoch - 1ms/step\n",
            "Epoch 122/200\n",
            "210/210 - 0s - loss: 0.1998 - 240ms/epoch - 1ms/step\n",
            "Epoch 123/200\n",
            "210/210 - 0s - loss: 0.1996 - 239ms/epoch - 1ms/step\n",
            "Epoch 124/200\n",
            "210/210 - 0s - loss: 0.2009 - 256ms/epoch - 1ms/step\n",
            "Epoch 125/200\n",
            "210/210 - 0s - loss: 0.2019 - 232ms/epoch - 1ms/step\n",
            "Epoch 126/200\n",
            "210/210 - 0s - loss: 0.2016 - 247ms/epoch - 1ms/step\n",
            "Epoch 127/200\n",
            "210/210 - 0s - loss: 0.2015 - 225ms/epoch - 1ms/step\n",
            "Epoch 128/200\n",
            "210/210 - 0s - loss: 0.2025 - 233ms/epoch - 1ms/step\n",
            "Epoch 129/200\n",
            "210/210 - 0s - loss: 0.2009 - 219ms/epoch - 1ms/step\n",
            "Epoch 130/200\n",
            "210/210 - 0s - loss: 0.2005 - 224ms/epoch - 1ms/step\n",
            "Epoch 131/200\n",
            "210/210 - 0s - loss: 0.2001 - 242ms/epoch - 1ms/step\n",
            "Epoch 132/200\n",
            "210/210 - 0s - loss: 0.2008 - 237ms/epoch - 1ms/step\n",
            "Epoch 133/200\n",
            "210/210 - 0s - loss: 0.1999 - 227ms/epoch - 1ms/step\n",
            "Epoch 134/200\n",
            "210/210 - 0s - loss: 0.2003 - 226ms/epoch - 1ms/step\n",
            "Epoch 135/200\n",
            "210/210 - 0s - loss: 0.1998 - 244ms/epoch - 1ms/step\n",
            "Epoch 136/200\n",
            "210/210 - 0s - loss: 0.1999 - 228ms/epoch - 1ms/step\n",
            "Epoch 137/200\n",
            "210/210 - 0s - loss: 0.2001 - 227ms/epoch - 1ms/step\n",
            "Epoch 138/200\n",
            "210/210 - 0s - loss: 0.1979 - 221ms/epoch - 1ms/step\n",
            "Epoch 139/200\n",
            "210/210 - 0s - loss: 0.2004 - 241ms/epoch - 1ms/step\n",
            "Epoch 140/200\n",
            "210/210 - 0s - loss: 0.2017 - 232ms/epoch - 1ms/step\n",
            "Epoch 141/200\n",
            "210/210 - 0s - loss: 0.2011 - 213ms/epoch - 1ms/step\n",
            "Epoch 142/200\n",
            "210/210 - 0s - loss: 0.2008 - 214ms/epoch - 1ms/step\n",
            "Epoch 143/200\n",
            "210/210 - 0s - loss: 0.2004 - 216ms/epoch - 1ms/step\n",
            "Epoch 144/200\n",
            "210/210 - 0s - loss: 0.2004 - 244ms/epoch - 1ms/step\n",
            "Epoch 145/200\n",
            "210/210 - 0s - loss: 0.1993 - 217ms/epoch - 1ms/step\n",
            "Epoch 146/200\n",
            "210/210 - 0s - loss: 0.1999 - 229ms/epoch - 1ms/step\n",
            "Epoch 147/200\n",
            "210/210 - 0s - loss: 0.2002 - 224ms/epoch - 1ms/step\n",
            "Epoch 148/200\n",
            "210/210 - 0s - loss: 0.2011 - 248ms/epoch - 1ms/step\n",
            "Epoch 149/200\n",
            "210/210 - 0s - loss: 0.1990 - 221ms/epoch - 1ms/step\n",
            "Epoch 150/200\n",
            "210/210 - 0s - loss: 0.2002 - 228ms/epoch - 1ms/step\n",
            "Epoch 151/200\n",
            "210/210 - 0s - loss: 0.2006 - 228ms/epoch - 1ms/step\n",
            "Epoch 152/200\n",
            "210/210 - 0s - loss: 0.2052 - 228ms/epoch - 1ms/step\n",
            "Epoch 153/200\n",
            "210/210 - 0s - loss: 0.1990 - 240ms/epoch - 1ms/step\n",
            "Epoch 154/200\n",
            "210/210 - 0s - loss: 0.1995 - 220ms/epoch - 1ms/step\n",
            "Epoch 155/200\n",
            "210/210 - 0s - loss: 0.1992 - 216ms/epoch - 1ms/step\n",
            "Epoch 156/200\n",
            "210/210 - 0s - loss: 0.1993 - 214ms/epoch - 1ms/step\n",
            "Epoch 157/200\n",
            "210/210 - 0s - loss: 0.1980 - 235ms/epoch - 1ms/step\n",
            "Epoch 158/200\n",
            "210/210 - 0s - loss: 0.2005 - 226ms/epoch - 1ms/step\n",
            "Epoch 159/200\n",
            "210/210 - 0s - loss: 0.1990 - 218ms/epoch - 1ms/step\n",
            "Epoch 160/200\n",
            "210/210 - 0s - loss: 0.2002 - 238ms/epoch - 1ms/step\n",
            "Epoch 161/200\n",
            "210/210 - 0s - loss: 0.1986 - 240ms/epoch - 1ms/step\n",
            "Epoch 162/200\n",
            "210/210 - 0s - loss: 0.2004 - 227ms/epoch - 1ms/step\n",
            "Epoch 163/200\n",
            "210/210 - 0s - loss: 0.2000 - 216ms/epoch - 1ms/step\n",
            "Epoch 164/200\n",
            "210/210 - 0s - loss: 0.1996 - 220ms/epoch - 1ms/step\n",
            "Epoch 165/200\n",
            "210/210 - 0s - loss: 0.1982 - 229ms/epoch - 1ms/step\n",
            "Epoch 166/200\n",
            "210/210 - 0s - loss: 0.1995 - 232ms/epoch - 1ms/step\n",
            "Epoch 167/200\n",
            "210/210 - 0s - loss: 0.1979 - 221ms/epoch - 1ms/step\n",
            "Epoch 168/200\n",
            "210/210 - 0s - loss: 0.1991 - 227ms/epoch - 1ms/step\n",
            "Epoch 169/200\n",
            "210/210 - 0s - loss: 0.1982 - 243ms/epoch - 1ms/step\n",
            "Epoch 170/200\n",
            "210/210 - 0s - loss: 0.1997 - 243ms/epoch - 1ms/step\n",
            "Epoch 171/200\n",
            "210/210 - 0s - loss: 0.1996 - 233ms/epoch - 1ms/step\n",
            "Epoch 172/200\n",
            "210/210 - 0s - loss: 0.1980 - 222ms/epoch - 1ms/step\n",
            "Epoch 173/200\n",
            "210/210 - 0s - loss: 0.1994 - 225ms/epoch - 1ms/step\n",
            "Epoch 174/200\n",
            "210/210 - 0s - loss: 0.1996 - 241ms/epoch - 1ms/step\n",
            "Epoch 175/200\n",
            "210/210 - 0s - loss: 0.1973 - 228ms/epoch - 1ms/step\n",
            "Epoch 176/200\n",
            "210/210 - 0s - loss: 0.1993 - 229ms/epoch - 1ms/step\n",
            "Epoch 177/200\n",
            "210/210 - 0s - loss: 0.1976 - 219ms/epoch - 1ms/step\n",
            "Epoch 178/200\n",
            "210/210 - 0s - loss: 0.1986 - 245ms/epoch - 1ms/step\n",
            "Epoch 179/200\n",
            "210/210 - 0s - loss: 0.1981 - 242ms/epoch - 1ms/step\n",
            "Epoch 180/200\n",
            "210/210 - 0s - loss: 0.1981 - 232ms/epoch - 1ms/step\n",
            "Epoch 181/200\n",
            "210/210 - 0s - loss: 0.1999 - 222ms/epoch - 1ms/step\n",
            "Epoch 182/200\n",
            "210/210 - 0s - loss: 0.1992 - 229ms/epoch - 1ms/step\n",
            "Epoch 183/200\n",
            "210/210 - 0s - loss: 0.1983 - 243ms/epoch - 1ms/step\n",
            "Epoch 184/200\n",
            "210/210 - 0s - loss: 0.1981 - 233ms/epoch - 1ms/step\n",
            "Epoch 185/200\n",
            "210/210 - 0s - loss: 0.1980 - 223ms/epoch - 1ms/step\n",
            "Epoch 186/200\n",
            "210/210 - 0s - loss: 0.1993 - 223ms/epoch - 1ms/step\n",
            "Epoch 187/200\n",
            "210/210 - 0s - loss: 0.1980 - 232ms/epoch - 1ms/step\n",
            "Epoch 188/200\n",
            "210/210 - 0s - loss: 0.1981 - 230ms/epoch - 1ms/step\n",
            "Epoch 189/200\n",
            "210/210 - 0s - loss: 0.1989 - 213ms/epoch - 1ms/step\n",
            "Epoch 190/200\n",
            "210/210 - 0s - loss: 0.1980 - 217ms/epoch - 1ms/step\n",
            "Epoch 191/200\n",
            "210/210 - 0s - loss: 0.1980 - 230ms/epoch - 1ms/step\n",
            "Epoch 192/200\n",
            "210/210 - 0s - loss: 0.1997 - 233ms/epoch - 1ms/step\n",
            "Epoch 193/200\n",
            "210/210 - 0s - loss: 0.1993 - 239ms/epoch - 1ms/step\n",
            "Epoch 194/200\n",
            "210/210 - 0s - loss: 0.1972 - 231ms/epoch - 1ms/step\n",
            "Epoch 195/200\n",
            "210/210 - 0s - loss: 0.1985 - 353ms/epoch - 2ms/step\n",
            "Epoch 196/200\n",
            "210/210 - 0s - loss: 0.1985 - 368ms/epoch - 2ms/step\n",
            "Epoch 197/200\n",
            "210/210 - 0s - loss: 0.1981 - 344ms/epoch - 2ms/step\n",
            "Epoch 198/200\n",
            "210/210 - 0s - loss: 0.1979 - 394ms/epoch - 2ms/step\n",
            "Epoch 199/200\n",
            "210/210 - 0s - loss: 0.1976 - 389ms/epoch - 2ms/step\n",
            "Epoch 200/200\n",
            "210/210 - 0s - loss: 0.1972 - 361ms/epoch - 2ms/step\n"
          ]
        },
        {
          "output_type": "execute_result",
          "data": {
            "text/plain": [
              "<keras.callbacks.History at 0x7f50f4677790>"
            ]
          },
          "metadata": {},
          "execution_count": 26
        }
      ]
    },
    {
      "cell_type": "code",
      "source": [
        "!kill 249"
      ],
      "metadata": {
        "id": "KMc4fvZwOwT1"
      },
      "execution_count": 29,
      "outputs": []
    },
    {
      "cell_type": "code",
      "source": [
        "%tensorboard --logdir logs/fit"
      ],
      "metadata": {
        "colab": {
          "base_uri": "https://localhost:8080/",
          "height": 821
        },
        "id": "VbBbfN8OOQG2",
        "outputId": "232358f7-7b2d-45aa-b8eb-597603b3b208"
      },
      "execution_count": 30,
      "outputs": [
        {
          "output_type": "display_data",
          "data": {
            "text/plain": [
              "<IPython.core.display.Javascript object>"
            ],
            "application/javascript": [
              "\n",
              "        (async () => {\n",
              "            const url = new URL(await google.colab.kernel.proxyPort(6006, {'cache': true}));\n",
              "            url.searchParams.set('tensorboardColab', 'true');\n",
              "            const iframe = document.createElement('iframe');\n",
              "            iframe.src = url;\n",
              "            iframe.setAttribute('width', '100%');\n",
              "            iframe.setAttribute('height', '800');\n",
              "            iframe.setAttribute('frameborder', 0);\n",
              "            document.body.appendChild(iframe);\n",
              "        })();\n",
              "    "
            ]
          },
          "metadata": {}
        }
      ]
    },
    {
      "cell_type": "code",
      "source": [
        "from tensorboard import notebook\n",
        "notebook.list() # View open TensorBoard instances"
      ],
      "metadata": {
        "id": "8cXwHHXhOqAk",
        "colab": {
          "base_uri": "https://localhost:8080/"
        },
        "outputId": "ed6bac1e-3839-4710-a71e-825ee27e4af0"
      },
      "execution_count": 31,
      "outputs": [
        {
          "output_type": "stream",
          "name": "stdout",
          "text": [
            "Known TensorBoard instances:\n",
            "  - port 6007: logdir logs/fit (started 1:45:01 ago; pid 280)\n",
            "  - port 6006: logdir logs/fit (started 0:00:13 ago; pid 582)\n"
          ]
        }
      ]
    },
    {
      "cell_type": "code",
      "source": [
        "# Control TensorBoard display. If no port is provided, \n",
        "# the most recently launched TensorBoard is used\n",
        "notebook.display(port=6006, height=1000) "
      ],
      "metadata": {
        "colab": {
          "base_uri": "https://localhost:8080/",
          "height": 1000
        },
        "id": "-2F0-vc9lcw2",
        "outputId": "22960ea9-0af4-4c99-e888-bdc73e1a9559"
      },
      "execution_count": 32,
      "outputs": [
        {
          "output_type": "stream",
          "name": "stdout",
          "text": [
            "Selecting TensorBoard with logdir logs/fit (started 0:00:24 ago; port 6006, pid 582).\n"
          ]
        },
        {
          "output_type": "display_data",
          "data": {
            "text/plain": [
              "<IPython.core.display.Javascript object>"
            ],
            "application/javascript": [
              "\n",
              "        (async () => {\n",
              "            const url = new URL(await google.colab.kernel.proxyPort(6006, {'cache': true}));\n",
              "            url.searchParams.set('tensorboardColab', 'true');\n",
              "            const iframe = document.createElement('iframe');\n",
              "            iframe.src = url;\n",
              "            iframe.setAttribute('width', '100%');\n",
              "            iframe.setAttribute('height', '1000');\n",
              "            iframe.setAttribute('frameborder', 0);\n",
              "            document.body.appendChild(iframe);\n",
              "        })();\n",
              "    "
            ]
          },
          "metadata": {}
        }
      ]
    },
    {
      "cell_type": "code",
      "source": [
        "!tensorboard dev upload \\\n",
        "  --logdir logs \\\n",
        "  --name \"my exp\" \\\n",
        "  --description \"hello\" \\\n",
        "  --one_shot"
      ],
      "metadata": {
        "colab": {
          "base_uri": "https://localhost:8080/"
        },
        "id": "w6zPYpVRlg3w",
        "outputId": "9a04a3b3-4322-4313-99f1-c2b032f25550"
      },
      "execution_count": 33,
      "outputs": [
        {
          "output_type": "stream",
          "name": "stdout",
          "text": [
            "2022-07-26 08:18:38.144034: E tensorflow/stream_executor/cuda/cuda_driver.cc:271] failed call to cuInit: CUDA_ERROR_NO_DEVICE: no CUDA-capable device is detected\n",
            "\n",
            "***** TensorBoard Uploader *****\n",
            "\n",
            "This will upload your TensorBoard logs to https://tensorboard.dev/ from\n",
            "the following directory:\n",
            "\n",
            "logs\n",
            "\n",
            "This TensorBoard will be visible to everyone. Do not upload sensitive\n",
            "data.\n",
            "\n",
            "Your use of this service is subject to Google's Terms of Service\n",
            "<https://policies.google.com/terms> and Privacy Policy\n",
            "<https://policies.google.com/privacy>, and TensorBoard.dev's Terms of Service\n",
            "<https://tensorboard.dev/policy/terms/>.\n",
            "\n",
            "This notice will not be shown again while you are logged into the uploader.\n",
            "To log out, run `tensorboard dev auth revoke`.\n",
            "\n",
            "Continue? (yes/NO) yes\n",
            "\n",
            "Please visit this URL to authorize this application: https://accounts.google.com/o/oauth2/auth?response_type=code&client_id=373649185512-8v619h5kft38l4456nm2dj4ubeqsrvh6.apps.googleusercontent.com&redirect_uri=urn%3Aietf%3Awg%3Aoauth%3A2.0%3Aoob&scope=openid+https%3A%2F%2Fwww.googleapis.com%2Fauth%2Fuserinfo.email&state=Y7FHkvU00DTovEQnVnMwd8gQN8qwCy&prompt=consent&access_type=offline\n",
            "Enter the authorization code: 4/1AdQt8qhuderuQTKZPGz5Vj5gXxT14HI5hC937JT3tMzoKezdDzJZGzFT52c\n",
            "\n",
            "\n",
            "New experiment created. View your TensorBoard at: https://tensorboard.dev/experiment/oQik1Z0PQfKxU832TyR1Kg/\n",
            "\n",
            "\u001b[1m[2022-07-26T08:19:07]\u001b[0m Started scanning logdir.\n",
            "\u001b[1m[2022-07-26T08:19:08]\u001b[0m Total uploaded: 30 scalars, 20 tensors (14.4 kB), 1 binary objects (30.4 kB)\n",
            "\u001b[1m[2022-07-26T08:19:08]\u001b[0m Done scanning logdir.\n",
            "\n",
            "\n",
            "Done. View your TensorBoard at https://tensorboard.dev/experiment/oQik1Z0PQfKxU832TyR1Kg/\n"
          ]
        }
      ]
    }
  ]
}